{
 "cells": [
  {
   "cell_type": "markdown",
   "metadata": {},
   "source": [
    "# Assignment 5\n",
    "\n",
    "Ten Kamilla, BDA-1902"
   ]
  },
  {
   "cell_type": "markdown",
   "metadata": {},
   "source": [
    "In this assignment krysha.kz website was parsed using Selenium. More precisely, code above demonstrates redirecting to krysha.kz, choosing Almaty region option and retrieving information about the appartment for sale announcements from all links on 7 pages. Moreover, some data cleaning and visualization are implemented."
   ]
  },
  {
   "cell_type": "markdown",
   "metadata": {},
   "source": [
    "Firstly, installing and importing all required modules "
   ]
  },
  {
   "cell_type": "code",
   "execution_count": 2,
   "metadata": {
    "scrolled": true
   },
   "outputs": [
    {
     "name": "stdout",
     "output_type": "stream",
     "text": [
      "Requirement already satisfied: selenium in c:\\users\\kamilla\\anacondanew\\lib\\site-packages (3.141.0)\n",
      "Requirement already satisfied: urllib3 in c:\\users\\kamilla\\anacondanew\\lib\\site-packages (from selenium) (1.25.9)\n",
      "Requirement already satisfied: webdriver_manager in c:\\users\\kamilla\\anacondanew\\lib\\site-packages (3.2.2)\n",
      "Requirement already satisfied: configparser in c:\\users\\kamilla\\anacondanew\\lib\\site-packages (from webdriver_manager) (5.0.1)\n",
      "Requirement already satisfied: crayons in c:\\users\\kamilla\\anacondanew\\lib\\site-packages (from webdriver_manager) (0.4.0)\n",
      "Requirement already satisfied: requests in c:\\users\\kamilla\\anacondanew\\lib\\site-packages (from webdriver_manager) (2.24.0)\n",
      "Requirement already satisfied: colorama in c:\\users\\kamilla\\anacondanew\\lib\\site-packages (from crayons->webdriver_manager) (0.4.3)\n",
      "Requirement already satisfied: idna<3,>=2.5 in c:\\users\\kamilla\\anacondanew\\lib\\site-packages (from requests->webdriver_manager) (2.10)\n",
      "Requirement already satisfied: certifi>=2017.4.17 in c:\\users\\kamilla\\anacondanew\\lib\\site-packages (from requests->webdriver_manager) (2020.6.20)\n",
      "Requirement already satisfied: urllib3!=1.25.0,!=1.25.1,<1.26,>=1.21.1 in c:\\users\\kamilla\\anacondanew\\lib\\site-packages (from requests->webdriver_manager) (1.25.9)\n",
      "Requirement already satisfied: chardet<4,>=3.0.2 in c:\\users\\kamilla\\anacondanew\\lib\\site-packages (from requests->webdriver_manager) (3.0.4)\n"
     ]
    }
   ],
   "source": [
    "!pip install selenium\n",
    "!pip install webdriver_manager "
   ]
  },
  {
   "cell_type": "code",
   "execution_count": 3,
   "metadata": {},
   "outputs": [],
   "source": [
    "from selenium import webdriver\n",
    "#chrome browser is used\n",
    "from webdriver_manager.chrome import ChromeDriverManager\n",
    "from selenium.webdriver.common.keys import Keys\n",
    "from time import sleep\n",
    "import pandas as pd\n",
    "from selenium.webdriver.support.ui import Select\n",
    "from selenium.webdriver.support.ui import Select"
   ]
  },
  {
   "cell_type": "code",
   "execution_count": 4,
   "metadata": {},
   "outputs": [
    {
     "name": "stderr",
     "output_type": "stream",
     "text": [
      "[WDM] - Current google-chrome version is 87.0.4280\n",
      "[WDM] - Get LATEST driver version for 87.0.4280\n"
     ]
    },
    {
     "name": "stdout",
     "output_type": "stream",
     "text": [
      " \n"
     ]
    },
    {
     "name": "stderr",
     "output_type": "stream",
     "text": [
      "[WDM] - Driver [C:\\Users\\Kamilla\\.wdm\\drivers\\chromedriver\\win32\\87.0.4280.88\\chromedriver.exe] found in cache\n"
     ]
    }
   ],
   "source": [
    "#chrome webdriver installation\n",
    "driver = webdriver.Chrome(ChromeDriverManager().install())"
   ]
  },
  {
   "cell_type": "markdown",
   "metadata": {},
   "source": [
    "### Data scraping"
   ]
  },
  {
   "cell_type": "markdown",
   "metadata": {},
   "source": [
    "The following code is for gathering announcement links."
   ]
  },
  {
   "cell_type": "code",
   "execution_count": 145,
   "metadata": {},
   "outputs": [],
   "source": [
    "#list for announcement links\n",
    "links = []\n",
    "#list for each of 7 pages with announcements\n",
    "pages = []\n",
    "#instance of webdriver\n",
    "driver = webdriver.Chrome(executable_path = r'C:\\Users\\Kamilla\\.wdm\\drivers\\chromedriver\\win32\\87.0.4280.88\\chromedriver.exe')\n",
    "driver.maximize_window()\n",
    "driver.get('https://krisha.kz')\n",
    "#clicking to drop down for regions\n",
    "region_searh = driver.find_element_by_id('region-selected-value').click();\n",
    "#waiting\n",
    "sleep(3);\n",
    "#choosing Almaty\n",
    "dropCity = Select(driver.find_element_by_xpath(\"//div[@class='element-region-dropdown-selects']/div/select\")).select_by_value(\"2\");\n",
    "sleep(3)\n",
    "#clicking choose button\n",
    "select_button = driver.find_element_by_xpath(\"//div[@class='region-dropdown-actions']/a[@class='btn btn-primary region-dropdown-action region-dropdown-action-apply']\").click();\n",
    "sleep(3)\n",
    "#clicking search button\n",
    "search_button = driver.find_element_by_class_name('search-btn-main').click();\n",
    "sleep(3)\n",
    "#retrieving all 7 page links\n",
    "for i in range(1, 8):\n",
    "    page = driver.current_url + '?page='+str(i);\n",
    "    pages.append(page)\n",
    "#in page links gathering announcement links\n",
    "for p in pages:\n",
    "    driver.get(p)\n",
    "    one_page_links = driver.find_elements_by_class_name('a-card__image')\n",
    "    for o in one_page_links:\n",
    "        link = o.get_attribute('href')\n",
    "        links.append(link)\n",
    "driver.close()   "
   ]
  },
  {
   "cell_type": "code",
   "execution_count": 147,
   "metadata": {},
   "outputs": [
    {
     "name": "stdout",
     "output_type": "stream",
     "text": [
      "143\n"
     ]
    }
   ],
   "source": [
    "#overall, 143 announcements were found\n",
    "print(len(links))"
   ]
  },
  {
   "cell_type": "code",
   "execution_count": 111,
   "metadata": {},
   "outputs": [],
   "source": [
    "#function to clean data(price)\n",
    "def clean(text, symbols=['\\n']):\n",
    "    for symbol in symbols:\n",
    "        text = text.replace(symbol, '')\n",
    "    return text.strip()"
   ]
  },
  {
   "cell_type": "code",
   "execution_count": 151,
   "metadata": {},
   "outputs": [],
   "source": [
    "#importing exception module for try,except block\n",
    "from selenium.common.exceptions import NoSuchElementException\n",
    "#list for each announcement info\n",
    "infos = []\n",
    "#retrieving name, phone, city, price, author for each link\n",
    "for l in links:\n",
    "    driver1 = webdriver.Chrome(executable_path = r'C:\\Users\\Kamilla\\.wdm\\drivers\\chromedriver\\win32\\87.0.4280.88\\chromedriver.exe')\n",
    "    driver1.maximize_window()\n",
    "    driver1.get(l)\n",
    "    #showing hidden part of phone number\n",
    "    phone_click = driver1.find_element_by_class_name('show-phones').click()\n",
    "    name = driver1.find_element_by_tag_name('h1').text\n",
    "    price = driver1.find_element_by_class_name('offer__price').text\n",
    "    #cleaning price\n",
    "    price = clean(price, ['\\n', 'от', '〒', ' '])\n",
    "    price = pd.to_numeric(price)\n",
    "    city = driver1.find_element_by_xpath(\"//div[@class='offer__location offer__advert-short-info']/span\").text\n",
    "    author = driver1.find_element_by_class_name('owners__name').text\n",
    "    phone = driver1.find_element_by_class_name('offer__contacts-phones').text\n",
    "    #some announcements do not have images\n",
    "    try:\n",
    "        img_url = driver1.find_element_by_xpath(\"//div[@class='gallary__main']/a\").get_attribute('href')\n",
    "    except NoSuchElementException:\n",
    "            img_url = 'no image'\n",
    "    info = {'name':name, 'price':price, 'city':city, 'author': author, 'phone':phone, 'img_url':img_url}\n",
    "    infos.append(info)\n",
    "    driver1.close()"
   ]
  },
  {
   "cell_type": "markdown",
   "metadata": {},
   "source": [
    "At this moment, all reqiured data is scraped. "
   ]
  },
  {
   "cell_type": "markdown",
   "metadata": {},
   "source": [
    "### Data cleaning "
   ]
  },
  {
   "cell_type": "code",
   "execution_count": 152,
   "metadata": {},
   "outputs": [],
   "source": [
    "data =pd.DataFrame(infos)"
   ]
  },
  {
   "cell_type": "code",
   "execution_count": 155,
   "metadata": {},
   "outputs": [
    {
     "data": {
      "text/html": [
       "<div>\n",
       "<style scoped>\n",
       "    .dataframe tbody tr th:only-of-type {\n",
       "        vertical-align: middle;\n",
       "    }\n",
       "\n",
       "    .dataframe tbody tr th {\n",
       "        vertical-align: top;\n",
       "    }\n",
       "\n",
       "    .dataframe thead th {\n",
       "        text-align: right;\n",
       "    }\n",
       "</style>\n",
       "<table border=\"1\" class=\"dataframe\">\n",
       "  <thead>\n",
       "    <tr style=\"text-align: right;\">\n",
       "      <th></th>\n",
       "      <th>name</th>\n",
       "      <th>price</th>\n",
       "      <th>city</th>\n",
       "      <th>author</th>\n",
       "      <th>phone</th>\n",
       "      <th>img_url</th>\n",
       "    </tr>\n",
       "  </thead>\n",
       "  <tbody>\n",
       "    <tr>\n",
       "      <th>0</th>\n",
       "      <td>3-комнатная квартира, 174 м², 4/6 этаж, мкр Ер...</td>\n",
       "      <td>71500000</td>\n",
       "      <td>Алматы, Бостандыкский р-н</td>\n",
       "      <td>ТANA REALTY</td>\n",
       "      <td>+7 700 183 8311</td>\n",
       "      <td>https://photos-kr.kcdn.kz/webp/1f/1fa22b13-ed4...</td>\n",
       "    </tr>\n",
       "    <tr>\n",
       "      <th>1</th>\n",
       "      <td>1-комнатная квартира, 44 м², 1/9 этаж, мкр Шуг...</td>\n",
       "      <td>16900000</td>\n",
       "      <td>Алматы, Наурызбайский р-н</td>\n",
       "      <td>ТANA REALTY</td>\n",
       "      <td>+7 700 183 8311</td>\n",
       "      <td>https://photos-kr.kcdn.kz/webp/d8/d8edf96f-aaa...</td>\n",
       "    </tr>\n",
       "    <tr>\n",
       "      <th>2</th>\n",
       "      <td>1-комнатная квартира, 40 м², 7/9 этаж, мкр Шуг...</td>\n",
       "      <td>15700000</td>\n",
       "      <td>Алматы, Наурызбайский р-н</td>\n",
       "      <td>ТANA REALTY</td>\n",
       "      <td>+7 700 183 8311</td>\n",
       "      <td>https://photos-kr.kcdn.kz/webp/5e/5ef0d303-43d...</td>\n",
       "    </tr>\n",
       "    <tr>\n",
       "      <th>3</th>\n",
       "      <td>4-комнатная квартира, 100 м², 3/3 этаж, Жулдыз...</td>\n",
       "      <td>26000000</td>\n",
       "      <td>Алматы, Турксибский р-н</td>\n",
       "      <td>Алтынай Алимкулова</td>\n",
       "      <td>+7 707 457 1994\\n+7 778 583 2676</td>\n",
       "      <td>https://photos-kr.kcdn.kz/webp/76/761549e1-321...</td>\n",
       "    </tr>\n",
       "    <tr>\n",
       "      <th>4</th>\n",
       "      <td>1-комнатная квартира, 123 м², 7/9 этаж, мкр Же...</td>\n",
       "      <td>20000000</td>\n",
       "      <td>Алматы, Ауэзовский р-н</td>\n",
       "      <td>Хозяин недвижимости</td>\n",
       "      <td>+7 708 189 2433</td>\n",
       "      <td>no image</td>\n",
       "    </tr>\n",
       "  </tbody>\n",
       "</table>\n",
       "</div>"
      ],
      "text/plain": [
       "                                                name     price  \\\n",
       "0  3-комнатная квартира, 174 м², 4/6 этаж, мкр Ер...  71500000   \n",
       "1  1-комнатная квартира, 44 м², 1/9 этаж, мкр Шуг...  16900000   \n",
       "2  1-комнатная квартира, 40 м², 7/9 этаж, мкр Шуг...  15700000   \n",
       "3  4-комнатная квартира, 100 м², 3/3 этаж, Жулдыз...  26000000   \n",
       "4  1-комнатная квартира, 123 м², 7/9 этаж, мкр Же...  20000000   \n",
       "\n",
       "                        city               author  \\\n",
       "0  Алматы, Бостандыкский р-н          ТANA REALTY   \n",
       "1  Алматы, Наурызбайский р-н          ТANA REALTY   \n",
       "2  Алматы, Наурызбайский р-н          ТANA REALTY   \n",
       "3    Алматы, Турксибский р-н   Алтынай Алимкулова   \n",
       "4     Алматы, Ауэзовский р-н  Хозяин недвижимости   \n",
       "\n",
       "                              phone  \\\n",
       "0                   +7 700 183 8311   \n",
       "1                   +7 700 183 8311   \n",
       "2                   +7 700 183 8311   \n",
       "3  +7 707 457 1994\\n+7 778 583 2676   \n",
       "4                   +7 708 189 2433   \n",
       "\n",
       "                                             img_url  \n",
       "0  https://photos-kr.kcdn.kz/webp/1f/1fa22b13-ed4...  \n",
       "1  https://photos-kr.kcdn.kz/webp/d8/d8edf96f-aaa...  \n",
       "2  https://photos-kr.kcdn.kz/webp/5e/5ef0d303-43d...  \n",
       "3  https://photos-kr.kcdn.kz/webp/76/761549e1-321...  \n",
       "4                                           no image  "
      ]
     },
     "execution_count": 155,
     "metadata": {},
     "output_type": "execute_result"
    }
   ],
   "source": [
    "data.head()"
   ]
  },
  {
   "cell_type": "markdown",
   "metadata": {},
   "source": [
    "From the dataframe above, the city column was splitted to two - city and district. "
   ]
  },
  {
   "cell_type": "code",
   "execution_count": 156,
   "metadata": {},
   "outputs": [
    {
     "data": {
      "text/html": [
       "<div>\n",
       "<style scoped>\n",
       "    .dataframe tbody tr th:only-of-type {\n",
       "        vertical-align: middle;\n",
       "    }\n",
       "\n",
       "    .dataframe tbody tr th {\n",
       "        vertical-align: top;\n",
       "    }\n",
       "\n",
       "    .dataframe thead th {\n",
       "        text-align: right;\n",
       "    }\n",
       "</style>\n",
       "<table border=\"1\" class=\"dataframe\">\n",
       "  <thead>\n",
       "    <tr style=\"text-align: right;\">\n",
       "      <th></th>\n",
       "      <th>name</th>\n",
       "      <th>price</th>\n",
       "      <th>city</th>\n",
       "      <th>author</th>\n",
       "      <th>phone</th>\n",
       "      <th>img_url</th>\n",
       "      <th>district</th>\n",
       "    </tr>\n",
       "  </thead>\n",
       "  <tbody>\n",
       "    <tr>\n",
       "      <th>0</th>\n",
       "      <td>3-комнатная квартира, 174 м², 4/6 этаж, мкр Ер...</td>\n",
       "      <td>71500000</td>\n",
       "      <td>Алматы</td>\n",
       "      <td>ТANA REALTY</td>\n",
       "      <td>+7 700 183 8311</td>\n",
       "      <td>https://photos-kr.kcdn.kz/webp/1f/1fa22b13-ed4...</td>\n",
       "      <td>Бостандыкский р-н</td>\n",
       "    </tr>\n",
       "    <tr>\n",
       "      <th>1</th>\n",
       "      <td>1-комнатная квартира, 44 м², 1/9 этаж, мкр Шуг...</td>\n",
       "      <td>16900000</td>\n",
       "      <td>Алматы</td>\n",
       "      <td>ТANA REALTY</td>\n",
       "      <td>+7 700 183 8311</td>\n",
       "      <td>https://photos-kr.kcdn.kz/webp/d8/d8edf96f-aaa...</td>\n",
       "      <td>Наурызбайский р-н</td>\n",
       "    </tr>\n",
       "    <tr>\n",
       "      <th>2</th>\n",
       "      <td>1-комнатная квартира, 40 м², 7/9 этаж, мкр Шуг...</td>\n",
       "      <td>15700000</td>\n",
       "      <td>Алматы</td>\n",
       "      <td>ТANA REALTY</td>\n",
       "      <td>+7 700 183 8311</td>\n",
       "      <td>https://photos-kr.kcdn.kz/webp/5e/5ef0d303-43d...</td>\n",
       "      <td>Наурызбайский р-н</td>\n",
       "    </tr>\n",
       "    <tr>\n",
       "      <th>3</th>\n",
       "      <td>4-комнатная квартира, 100 м², 3/3 этаж, Жулдыз...</td>\n",
       "      <td>26000000</td>\n",
       "      <td>Алматы</td>\n",
       "      <td>Алтынай Алимкулова</td>\n",
       "      <td>+7 707 457 1994\\n+7 778 583 2676</td>\n",
       "      <td>https://photos-kr.kcdn.kz/webp/76/761549e1-321...</td>\n",
       "      <td>Турксибский р-н</td>\n",
       "    </tr>\n",
       "    <tr>\n",
       "      <th>4</th>\n",
       "      <td>1-комнатная квартира, 123 м², 7/9 этаж, мкр Же...</td>\n",
       "      <td>20000000</td>\n",
       "      <td>Алматы</td>\n",
       "      <td>Хозяин недвижимости</td>\n",
       "      <td>+7 708 189 2433</td>\n",
       "      <td>no image</td>\n",
       "      <td>Ауэзовский р-н</td>\n",
       "    </tr>\n",
       "  </tbody>\n",
       "</table>\n",
       "</div>"
      ],
      "text/plain": [
       "                                                name     price    city  \\\n",
       "0  3-комнатная квартира, 174 м², 4/6 этаж, мкр Ер...  71500000  Алматы   \n",
       "1  1-комнатная квартира, 44 м², 1/9 этаж, мкр Шуг...  16900000  Алматы   \n",
       "2  1-комнатная квартира, 40 м², 7/9 этаж, мкр Шуг...  15700000  Алматы   \n",
       "3  4-комнатная квартира, 100 м², 3/3 этаж, Жулдыз...  26000000  Алматы   \n",
       "4  1-комнатная квартира, 123 м², 7/9 этаж, мкр Же...  20000000  Алматы   \n",
       "\n",
       "                author                             phone  \\\n",
       "0          ТANA REALTY                   +7 700 183 8311   \n",
       "1          ТANA REALTY                   +7 700 183 8311   \n",
       "2          ТANA REALTY                   +7 700 183 8311   \n",
       "3   Алтынай Алимкулова  +7 707 457 1994\\n+7 778 583 2676   \n",
       "4  Хозяин недвижимости                   +7 708 189 2433   \n",
       "\n",
       "                                             img_url            district  \n",
       "0  https://photos-kr.kcdn.kz/webp/1f/1fa22b13-ed4...   Бостандыкский р-н  \n",
       "1  https://photos-kr.kcdn.kz/webp/d8/d8edf96f-aaa...   Наурызбайский р-н  \n",
       "2  https://photos-kr.kcdn.kz/webp/5e/5ef0d303-43d...   Наурызбайский р-н  \n",
       "3  https://photos-kr.kcdn.kz/webp/76/761549e1-321...     Турксибский р-н  \n",
       "4                                           no image      Ауэзовский р-н  "
      ]
     },
     "execution_count": 156,
     "metadata": {},
     "output_type": "execute_result"
    }
   ],
   "source": [
    "data[['city','district']] = data.city.str.split(\",\",expand=True,)\n",
    "data.head()"
   ]
  },
  {
   "cell_type": "code",
   "execution_count": 162,
   "metadata": {},
   "outputs": [
    {
     "data": {
      "text/html": [
       "<div>\n",
       "<style scoped>\n",
       "    .dataframe tbody tr th:only-of-type {\n",
       "        vertical-align: middle;\n",
       "    }\n",
       "\n",
       "    .dataframe tbody tr th {\n",
       "        vertical-align: top;\n",
       "    }\n",
       "\n",
       "    .dataframe thead th {\n",
       "        text-align: right;\n",
       "    }\n",
       "</style>\n",
       "<table border=\"1\" class=\"dataframe\">\n",
       "  <thead>\n",
       "    <tr style=\"text-align: right;\">\n",
       "      <th></th>\n",
       "      <th>name</th>\n",
       "      <th>price</th>\n",
       "      <th>city</th>\n",
       "      <th>author</th>\n",
       "      <th>phone</th>\n",
       "      <th>img_url</th>\n",
       "      <th>district</th>\n",
       "      <th>area</th>\n",
       "    </tr>\n",
       "  </thead>\n",
       "  <tbody>\n",
       "    <tr>\n",
       "      <th>0</th>\n",
       "      <td>3-комнатная квартира, 174 м², 4/6 этаж, мкр Ер...</td>\n",
       "      <td>71500000</td>\n",
       "      <td>Алматы</td>\n",
       "      <td>ТANA REALTY</td>\n",
       "      <td>+7 700 183 8311</td>\n",
       "      <td>https://photos-kr.kcdn.kz/webp/1f/1fa22b13-ed4...</td>\n",
       "      <td>Бостандыкский р-н</td>\n",
       "      <td>174 м²</td>\n",
       "    </tr>\n",
       "    <tr>\n",
       "      <th>1</th>\n",
       "      <td>1-комнатная квартира, 44 м², 1/9 этаж, мкр Шуг...</td>\n",
       "      <td>16900000</td>\n",
       "      <td>Алматы</td>\n",
       "      <td>ТANA REALTY</td>\n",
       "      <td>+7 700 183 8311</td>\n",
       "      <td>https://photos-kr.kcdn.kz/webp/d8/d8edf96f-aaa...</td>\n",
       "      <td>Наурызбайский р-н</td>\n",
       "      <td>44 м²</td>\n",
       "    </tr>\n",
       "    <tr>\n",
       "      <th>2</th>\n",
       "      <td>1-комнатная квартира, 40 м², 7/9 этаж, мкр Шуг...</td>\n",
       "      <td>15700000</td>\n",
       "      <td>Алматы</td>\n",
       "      <td>ТANA REALTY</td>\n",
       "      <td>+7 700 183 8311</td>\n",
       "      <td>https://photos-kr.kcdn.kz/webp/5e/5ef0d303-43d...</td>\n",
       "      <td>Наурызбайский р-н</td>\n",
       "      <td>40 м²</td>\n",
       "    </tr>\n",
       "    <tr>\n",
       "      <th>3</th>\n",
       "      <td>4-комнатная квартира, 100 м², 3/3 этаж, Жулдыз...</td>\n",
       "      <td>26000000</td>\n",
       "      <td>Алматы</td>\n",
       "      <td>Алтынай Алимкулова</td>\n",
       "      <td>+7 707 457 1994\\n+7 778 583 2676</td>\n",
       "      <td>https://photos-kr.kcdn.kz/webp/76/761549e1-321...</td>\n",
       "      <td>Турксибский р-н</td>\n",
       "      <td>100 м²</td>\n",
       "    </tr>\n",
       "    <tr>\n",
       "      <th>4</th>\n",
       "      <td>1-комнатная квартира, 123 м², 7/9 этаж, мкр Же...</td>\n",
       "      <td>20000000</td>\n",
       "      <td>Алматы</td>\n",
       "      <td>Хозяин недвижимости</td>\n",
       "      <td>+7 708 189 2433</td>\n",
       "      <td>no image</td>\n",
       "      <td>Ауэзовский р-н</td>\n",
       "      <td>123 м²</td>\n",
       "    </tr>\n",
       "  </tbody>\n",
       "</table>\n",
       "</div>"
      ],
      "text/plain": [
       "                                                name     price    city  \\\n",
       "0  3-комнатная квартира, 174 м², 4/6 этаж, мкр Ер...  71500000  Алматы   \n",
       "1  1-комнатная квартира, 44 м², 1/9 этаж, мкр Шуг...  16900000  Алматы   \n",
       "2  1-комнатная квартира, 40 м², 7/9 этаж, мкр Шуг...  15700000  Алматы   \n",
       "3  4-комнатная квартира, 100 м², 3/3 этаж, Жулдыз...  26000000  Алматы   \n",
       "4  1-комнатная квартира, 123 м², 7/9 этаж, мкр Же...  20000000  Алматы   \n",
       "\n",
       "                author                             phone  \\\n",
       "0          ТANA REALTY                   +7 700 183 8311   \n",
       "1          ТANA REALTY                   +7 700 183 8311   \n",
       "2          ТANA REALTY                   +7 700 183 8311   \n",
       "3   Алтынай Алимкулова  +7 707 457 1994\\n+7 778 583 2676   \n",
       "4  Хозяин недвижимости                   +7 708 189 2433   \n",
       "\n",
       "                                             img_url            district  \\\n",
       "0  https://photos-kr.kcdn.kz/webp/1f/1fa22b13-ed4...   Бостандыкский р-н   \n",
       "1  https://photos-kr.kcdn.kz/webp/d8/d8edf96f-aaa...   Наурызбайский р-н   \n",
       "2  https://photos-kr.kcdn.kz/webp/5e/5ef0d303-43d...   Наурызбайский р-н   \n",
       "3  https://photos-kr.kcdn.kz/webp/76/761549e1-321...     Турксибский р-н   \n",
       "4                                           no image      Ауэзовский р-н   \n",
       "\n",
       "      area  \n",
       "0   174 м²  \n",
       "1    44 м²  \n",
       "2    40 м²  \n",
       "3   100 м²  \n",
       "4   123 м²  "
      ]
     },
     "execution_count": 162,
     "metadata": {},
     "output_type": "execute_result"
    }
   ],
   "source": [
    "#to find area of each appartment, we take the second item from string splitted by commas\n",
    "data['area'] = data['name'].str.rsplit(',').str[1] \n",
    "data.head()"
   ]
  },
  {
   "cell_type": "code",
   "execution_count": 163,
   "metadata": {},
   "outputs": [
    {
     "data": {
      "text/html": [
       "<div>\n",
       "<style scoped>\n",
       "    .dataframe tbody tr th:only-of-type {\n",
       "        vertical-align: middle;\n",
       "    }\n",
       "\n",
       "    .dataframe tbody tr th {\n",
       "        vertical-align: top;\n",
       "    }\n",
       "\n",
       "    .dataframe thead th {\n",
       "        text-align: right;\n",
       "    }\n",
       "</style>\n",
       "<table border=\"1\" class=\"dataframe\">\n",
       "  <thead>\n",
       "    <tr style=\"text-align: right;\">\n",
       "      <th></th>\n",
       "      <th>name</th>\n",
       "      <th>price</th>\n",
       "      <th>city</th>\n",
       "      <th>author</th>\n",
       "      <th>phone</th>\n",
       "      <th>img_url</th>\n",
       "      <th>district</th>\n",
       "      <th>area</th>\n",
       "      <th>roomsNumber</th>\n",
       "    </tr>\n",
       "  </thead>\n",
       "  <tbody>\n",
       "    <tr>\n",
       "      <th>0</th>\n",
       "      <td>3-комнатная квартира, 174 м², 4/6 этаж, мкр Ер...</td>\n",
       "      <td>71500000</td>\n",
       "      <td>Алматы</td>\n",
       "      <td>ТANA REALTY</td>\n",
       "      <td>+7 700 183 8311</td>\n",
       "      <td>https://photos-kr.kcdn.kz/webp/1f/1fa22b13-ed4...</td>\n",
       "      <td>Бостандыкский р-н</td>\n",
       "      <td>174 м²</td>\n",
       "      <td>3</td>\n",
       "    </tr>\n",
       "    <tr>\n",
       "      <th>1</th>\n",
       "      <td>1-комнатная квартира, 44 м², 1/9 этаж, мкр Шуг...</td>\n",
       "      <td>16900000</td>\n",
       "      <td>Алматы</td>\n",
       "      <td>ТANA REALTY</td>\n",
       "      <td>+7 700 183 8311</td>\n",
       "      <td>https://photos-kr.kcdn.kz/webp/d8/d8edf96f-aaa...</td>\n",
       "      <td>Наурызбайский р-н</td>\n",
       "      <td>44 м²</td>\n",
       "      <td>1</td>\n",
       "    </tr>\n",
       "    <tr>\n",
       "      <th>2</th>\n",
       "      <td>1-комнатная квартира, 40 м², 7/9 этаж, мкр Шуг...</td>\n",
       "      <td>15700000</td>\n",
       "      <td>Алматы</td>\n",
       "      <td>ТANA REALTY</td>\n",
       "      <td>+7 700 183 8311</td>\n",
       "      <td>https://photos-kr.kcdn.kz/webp/5e/5ef0d303-43d...</td>\n",
       "      <td>Наурызбайский р-н</td>\n",
       "      <td>40 м²</td>\n",
       "      <td>1</td>\n",
       "    </tr>\n",
       "    <tr>\n",
       "      <th>3</th>\n",
       "      <td>4-комнатная квартира, 100 м², 3/3 этаж, Жулдыз...</td>\n",
       "      <td>26000000</td>\n",
       "      <td>Алматы</td>\n",
       "      <td>Алтынай Алимкулова</td>\n",
       "      <td>+7 707 457 1994\\n+7 778 583 2676</td>\n",
       "      <td>https://photos-kr.kcdn.kz/webp/76/761549e1-321...</td>\n",
       "      <td>Турксибский р-н</td>\n",
       "      <td>100 м²</td>\n",
       "      <td>4</td>\n",
       "    </tr>\n",
       "    <tr>\n",
       "      <th>4</th>\n",
       "      <td>1-комнатная квартира, 123 м², 7/9 этаж, мкр Же...</td>\n",
       "      <td>20000000</td>\n",
       "      <td>Алматы</td>\n",
       "      <td>Хозяин недвижимости</td>\n",
       "      <td>+7 708 189 2433</td>\n",
       "      <td>no image</td>\n",
       "      <td>Ауэзовский р-н</td>\n",
       "      <td>123 м²</td>\n",
       "      <td>1</td>\n",
       "    </tr>\n",
       "  </tbody>\n",
       "</table>\n",
       "</div>"
      ],
      "text/plain": [
       "                                                name     price    city  \\\n",
       "0  3-комнатная квартира, 174 м², 4/6 этаж, мкр Ер...  71500000  Алматы   \n",
       "1  1-комнатная квартира, 44 м², 1/9 этаж, мкр Шуг...  16900000  Алматы   \n",
       "2  1-комнатная квартира, 40 м², 7/9 этаж, мкр Шуг...  15700000  Алматы   \n",
       "3  4-комнатная квартира, 100 м², 3/3 этаж, Жулдыз...  26000000  Алматы   \n",
       "4  1-комнатная квартира, 123 м², 7/9 этаж, мкр Же...  20000000  Алматы   \n",
       "\n",
       "                author                             phone  \\\n",
       "0          ТANA REALTY                   +7 700 183 8311   \n",
       "1          ТANA REALTY                   +7 700 183 8311   \n",
       "2          ТANA REALTY                   +7 700 183 8311   \n",
       "3   Алтынай Алимкулова  +7 707 457 1994\\n+7 778 583 2676   \n",
       "4  Хозяин недвижимости                   +7 708 189 2433   \n",
       "\n",
       "                                             img_url            district  \\\n",
       "0  https://photos-kr.kcdn.kz/webp/1f/1fa22b13-ed4...   Бостандыкский р-н   \n",
       "1  https://photos-kr.kcdn.kz/webp/d8/d8edf96f-aaa...   Наурызбайский р-н   \n",
       "2  https://photos-kr.kcdn.kz/webp/5e/5ef0d303-43d...   Наурызбайский р-н   \n",
       "3  https://photos-kr.kcdn.kz/webp/76/761549e1-321...     Турксибский р-н   \n",
       "4                                           no image      Ауэзовский р-н   \n",
       "\n",
       "      area roomsNumber  \n",
       "0   174 м²           3  \n",
       "1    44 м²           1  \n",
       "2    40 м²           1  \n",
       "3   100 м²           4  \n",
       "4   123 м²           1  "
      ]
     },
     "execution_count": 163,
     "metadata": {},
     "output_type": "execute_result"
    }
   ],
   "source": [
    "#number of rooms is the first character in the name column\n",
    "data['roomsNumber'] = data['name'].str[0] \n",
    "data.head()"
   ]
  },
  {
   "cell_type": "code",
   "execution_count": 238,
   "metadata": {},
   "outputs": [],
   "source": [
    "#converting rooms number to int\n",
    "data['roomsNumber'] =pd.to_numeric(data['roomsNumber'])"
   ]
  },
  {
   "cell_type": "code",
   "execution_count": 171,
   "metadata": {},
   "outputs": [
    {
     "data": {
      "text/html": [
       "<div>\n",
       "<style scoped>\n",
       "    .dataframe tbody tr th:only-of-type {\n",
       "        vertical-align: middle;\n",
       "    }\n",
       "\n",
       "    .dataframe tbody tr th {\n",
       "        vertical-align: top;\n",
       "    }\n",
       "\n",
       "    .dataframe thead th {\n",
       "        text-align: right;\n",
       "    }\n",
       "</style>\n",
       "<table border=\"1\" class=\"dataframe\">\n",
       "  <thead>\n",
       "    <tr style=\"text-align: right;\">\n",
       "      <th></th>\n",
       "      <th>name</th>\n",
       "      <th>price</th>\n",
       "      <th>city</th>\n",
       "      <th>author</th>\n",
       "      <th>phone</th>\n",
       "      <th>img_url</th>\n",
       "      <th>district</th>\n",
       "      <th>area</th>\n",
       "      <th>roomsNumber</th>\n",
       "    </tr>\n",
       "  </thead>\n",
       "  <tbody>\n",
       "    <tr>\n",
       "      <th>0</th>\n",
       "      <td>3-комнатная квартира, 174 м², 4/6 этаж, мкр Ер...</td>\n",
       "      <td>71500000</td>\n",
       "      <td>Алматы</td>\n",
       "      <td>ТANA REALTY</td>\n",
       "      <td>+7 700 183 8311</td>\n",
       "      <td>https://photos-kr.kcdn.kz/webp/1f/1fa22b13-ed4...</td>\n",
       "      <td>Бостандыкский р-н</td>\n",
       "      <td>174.0</td>\n",
       "      <td>3</td>\n",
       "    </tr>\n",
       "    <tr>\n",
       "      <th>1</th>\n",
       "      <td>1-комнатная квартира, 44 м², 1/9 этаж, мкр Шуг...</td>\n",
       "      <td>16900000</td>\n",
       "      <td>Алматы</td>\n",
       "      <td>ТANA REALTY</td>\n",
       "      <td>+7 700 183 8311</td>\n",
       "      <td>https://photos-kr.kcdn.kz/webp/d8/d8edf96f-aaa...</td>\n",
       "      <td>Наурызбайский р-н</td>\n",
       "      <td>44.0</td>\n",
       "      <td>1</td>\n",
       "    </tr>\n",
       "    <tr>\n",
       "      <th>2</th>\n",
       "      <td>1-комнатная квартира, 40 м², 7/9 этаж, мкр Шуг...</td>\n",
       "      <td>15700000</td>\n",
       "      <td>Алматы</td>\n",
       "      <td>ТANA REALTY</td>\n",
       "      <td>+7 700 183 8311</td>\n",
       "      <td>https://photos-kr.kcdn.kz/webp/5e/5ef0d303-43d...</td>\n",
       "      <td>Наурызбайский р-н</td>\n",
       "      <td>40.0</td>\n",
       "      <td>1</td>\n",
       "    </tr>\n",
       "    <tr>\n",
       "      <th>3</th>\n",
       "      <td>4-комнатная квартира, 100 м², 3/3 этаж, Жулдыз...</td>\n",
       "      <td>26000000</td>\n",
       "      <td>Алматы</td>\n",
       "      <td>Алтынай Алимкулова</td>\n",
       "      <td>+7 707 457 1994\\n+7 778 583 2676</td>\n",
       "      <td>https://photos-kr.kcdn.kz/webp/76/761549e1-321...</td>\n",
       "      <td>Турксибский р-н</td>\n",
       "      <td>100.0</td>\n",
       "      <td>4</td>\n",
       "    </tr>\n",
       "    <tr>\n",
       "      <th>4</th>\n",
       "      <td>1-комнатная квартира, 123 м², 7/9 этаж, мкр Же...</td>\n",
       "      <td>20000000</td>\n",
       "      <td>Алматы</td>\n",
       "      <td>Хозяин недвижимости</td>\n",
       "      <td>+7 708 189 2433</td>\n",
       "      <td>no image</td>\n",
       "      <td>Ауэзовский р-н</td>\n",
       "      <td>123.0</td>\n",
       "      <td>1</td>\n",
       "    </tr>\n",
       "  </tbody>\n",
       "</table>\n",
       "</div>"
      ],
      "text/plain": [
       "                                                name     price    city  \\\n",
       "0  3-комнатная квартира, 174 м², 4/6 этаж, мкр Ер...  71500000  Алматы   \n",
       "1  1-комнатная квартира, 44 м², 1/9 этаж, мкр Шуг...  16900000  Алматы   \n",
       "2  1-комнатная квартира, 40 м², 7/9 этаж, мкр Шуг...  15700000  Алматы   \n",
       "3  4-комнатная квартира, 100 м², 3/3 этаж, Жулдыз...  26000000  Алматы   \n",
       "4  1-комнатная квартира, 123 м², 7/9 этаж, мкр Же...  20000000  Алматы   \n",
       "\n",
       "                author                             phone  \\\n",
       "0          ТANA REALTY                   +7 700 183 8311   \n",
       "1          ТANA REALTY                   +7 700 183 8311   \n",
       "2          ТANA REALTY                   +7 700 183 8311   \n",
       "3   Алтынай Алимкулова  +7 707 457 1994\\n+7 778 583 2676   \n",
       "4  Хозяин недвижимости                   +7 708 189 2433   \n",
       "\n",
       "                                             img_url            district  \\\n",
       "0  https://photos-kr.kcdn.kz/webp/1f/1fa22b13-ed4...   Бостандыкский р-н   \n",
       "1  https://photos-kr.kcdn.kz/webp/d8/d8edf96f-aaa...   Наурызбайский р-н   \n",
       "2  https://photos-kr.kcdn.kz/webp/5e/5ef0d303-43d...   Наурызбайский р-н   \n",
       "3  https://photos-kr.kcdn.kz/webp/76/761549e1-321...     Турксибский р-н   \n",
       "4                                           no image      Ауэзовский р-н   \n",
       "\n",
       "    area roomsNumber  \n",
       "0  174.0           3  \n",
       "1   44.0           1  \n",
       "2   40.0           1  \n",
       "3  100.0           4  \n",
       "4  123.0           1  "
      ]
     },
     "execution_count": 171,
     "metadata": {},
     "output_type": "execute_result"
    }
   ],
   "source": [
    "#deleting whitespaces and units, converting to float\n",
    "data['area'] = data['area'].str.replace(' ', '')\n",
    "data['area'] = data['area'].str.replace('м²', '')\n",
    "data['area'] =pd.to_numeric(data['area'])\n",
    "data.head()"
   ]
  },
  {
   "cell_type": "code",
   "execution_count": 173,
   "metadata": {},
   "outputs": [
    {
     "data": {
      "text/html": [
       "<div>\n",
       "<style scoped>\n",
       "    .dataframe tbody tr th:only-of-type {\n",
       "        vertical-align: middle;\n",
       "    }\n",
       "\n",
       "    .dataframe tbody tr th {\n",
       "        vertical-align: top;\n",
       "    }\n",
       "\n",
       "    .dataframe thead th {\n",
       "        text-align: right;\n",
       "    }\n",
       "</style>\n",
       "<table border=\"1\" class=\"dataframe\">\n",
       "  <thead>\n",
       "    <tr style=\"text-align: right;\">\n",
       "      <th></th>\n",
       "      <th>name</th>\n",
       "      <th>price</th>\n",
       "      <th>city</th>\n",
       "      <th>author</th>\n",
       "      <th>phone</th>\n",
       "      <th>img_url</th>\n",
       "      <th>district</th>\n",
       "      <th>area</th>\n",
       "      <th>roomsNumber</th>\n",
       "    </tr>\n",
       "  </thead>\n",
       "  <tbody>\n",
       "    <tr>\n",
       "      <th>0</th>\n",
       "      <td>3-комнатная квартира, 174 м², 4/6 этаж, мкр Ер...</td>\n",
       "      <td>71500000</td>\n",
       "      <td>Алматы</td>\n",
       "      <td>ТANA REALTY</td>\n",
       "      <td>+7 700 183 8311</td>\n",
       "      <td>https://photos-kr.kcdn.kz/webp/1f/1fa22b13-ed4...</td>\n",
       "      <td>Бостандыкский р-н</td>\n",
       "      <td>174.0</td>\n",
       "      <td>3</td>\n",
       "    </tr>\n",
       "    <tr>\n",
       "      <th>1</th>\n",
       "      <td>1-комнатная квартира, 44 м², 1/9 этаж, мкр Шуг...</td>\n",
       "      <td>16900000</td>\n",
       "      <td>Алматы</td>\n",
       "      <td>ТANA REALTY</td>\n",
       "      <td>+7 700 183 8311</td>\n",
       "      <td>https://photos-kr.kcdn.kz/webp/d8/d8edf96f-aaa...</td>\n",
       "      <td>Наурызбайский р-н</td>\n",
       "      <td>44.0</td>\n",
       "      <td>1</td>\n",
       "    </tr>\n",
       "    <tr>\n",
       "      <th>2</th>\n",
       "      <td>1-комнатная квартира, 40 м², 7/9 этаж, мкр Шуг...</td>\n",
       "      <td>15700000</td>\n",
       "      <td>Алматы</td>\n",
       "      <td>ТANA REALTY</td>\n",
       "      <td>+7 700 183 8311</td>\n",
       "      <td>https://photos-kr.kcdn.kz/webp/5e/5ef0d303-43d...</td>\n",
       "      <td>Наурызбайский р-н</td>\n",
       "      <td>40.0</td>\n",
       "      <td>1</td>\n",
       "    </tr>\n",
       "    <tr>\n",
       "      <th>3</th>\n",
       "      <td>4-комнатная квартира, 100 м², 3/3 этаж, Жулдыз...</td>\n",
       "      <td>26000000</td>\n",
       "      <td>Алматы</td>\n",
       "      <td>Алтынай Алимкулова</td>\n",
       "      <td>+7 707 457 1994 +7 778 583 2676</td>\n",
       "      <td>https://photos-kr.kcdn.kz/webp/76/761549e1-321...</td>\n",
       "      <td>Турксибский р-н</td>\n",
       "      <td>100.0</td>\n",
       "      <td>4</td>\n",
       "    </tr>\n",
       "    <tr>\n",
       "      <th>4</th>\n",
       "      <td>1-комнатная квартира, 123 м², 7/9 этаж, мкр Же...</td>\n",
       "      <td>20000000</td>\n",
       "      <td>Алматы</td>\n",
       "      <td>Хозяин недвижимости</td>\n",
       "      <td>+7 708 189 2433</td>\n",
       "      <td>no image</td>\n",
       "      <td>Ауэзовский р-н</td>\n",
       "      <td>123.0</td>\n",
       "      <td>1</td>\n",
       "    </tr>\n",
       "  </tbody>\n",
       "</table>\n",
       "</div>"
      ],
      "text/plain": [
       "                                                name     price    city  \\\n",
       "0  3-комнатная квартира, 174 м², 4/6 этаж, мкр Ер...  71500000  Алматы   \n",
       "1  1-комнатная квартира, 44 м², 1/9 этаж, мкр Шуг...  16900000  Алматы   \n",
       "2  1-комнатная квартира, 40 м², 7/9 этаж, мкр Шуг...  15700000  Алматы   \n",
       "3  4-комнатная квартира, 100 м², 3/3 этаж, Жулдыз...  26000000  Алматы   \n",
       "4  1-комнатная квартира, 123 м², 7/9 этаж, мкр Же...  20000000  Алматы   \n",
       "\n",
       "                author                            phone  \\\n",
       "0          ТANA REALTY                  +7 700 183 8311   \n",
       "1          ТANA REALTY                  +7 700 183 8311   \n",
       "2          ТANA REALTY                  +7 700 183 8311   \n",
       "3   Алтынай Алимкулова  +7 707 457 1994 +7 778 583 2676   \n",
       "4  Хозяин недвижимости                  +7 708 189 2433   \n",
       "\n",
       "                                             img_url            district  \\\n",
       "0  https://photos-kr.kcdn.kz/webp/1f/1fa22b13-ed4...   Бостандыкский р-н   \n",
       "1  https://photos-kr.kcdn.kz/webp/d8/d8edf96f-aaa...   Наурызбайский р-н   \n",
       "2  https://photos-kr.kcdn.kz/webp/5e/5ef0d303-43d...   Наурызбайский р-н   \n",
       "3  https://photos-kr.kcdn.kz/webp/76/761549e1-321...     Турксибский р-н   \n",
       "4                                           no image      Ауэзовский р-н   \n",
       "\n",
       "    area roomsNumber  \n",
       "0  174.0           3  \n",
       "1   44.0           1  \n",
       "2   40.0           1  \n",
       "3  100.0           4  \n",
       "4  123.0           1  "
      ]
     },
     "execution_count": 173,
     "metadata": {},
     "output_type": "execute_result"
    }
   ],
   "source": [
    "#for rows with several numbers\n",
    "data['phone'] = data['phone'].str.replace('\\n', ' ')\n",
    "data.head()"
   ]
  },
  {
   "cell_type": "code",
   "execution_count": 175,
   "metadata": {
    "scrolled": true
   },
   "outputs": [],
   "source": [
    "#saving data to excel\n",
    "data.to_excel('TenKamillaBDA1902_hw5krysha.xlsx', index = 'false')"
   ]
  },
  {
   "cell_type": "code",
   "execution_count": 239,
   "metadata": {},
   "outputs": [
    {
     "data": {
      "text/html": [
       "<div>\n",
       "<style scoped>\n",
       "    .dataframe tbody tr th:only-of-type {\n",
       "        vertical-align: middle;\n",
       "    }\n",
       "\n",
       "    .dataframe tbody tr th {\n",
       "        vertical-align: top;\n",
       "    }\n",
       "\n",
       "    .dataframe thead th {\n",
       "        text-align: right;\n",
       "    }\n",
       "</style>\n",
       "<table border=\"1\" class=\"dataframe\">\n",
       "  <thead>\n",
       "    <tr style=\"text-align: right;\">\n",
       "      <th></th>\n",
       "      <th>price</th>\n",
       "      <th>area</th>\n",
       "      <th>roomsNumber</th>\n",
       "    </tr>\n",
       "  </thead>\n",
       "  <tbody>\n",
       "    <tr>\n",
       "      <th>count</th>\n",
       "      <td>1.430000e+02</td>\n",
       "      <td>143.000000</td>\n",
       "      <td>143.000000</td>\n",
       "    </tr>\n",
       "    <tr>\n",
       "      <th>mean</th>\n",
       "      <td>5.299721e+07</td>\n",
       "      <td>89.426294</td>\n",
       "      <td>2.503497</td>\n",
       "    </tr>\n",
       "    <tr>\n",
       "      <th>std</th>\n",
       "      <td>9.787205e+07</td>\n",
       "      <td>74.097773</td>\n",
       "      <td>1.086888</td>\n",
       "    </tr>\n",
       "    <tr>\n",
       "      <th>min</th>\n",
       "      <td>6.999000e+06</td>\n",
       "      <td>17.400000</td>\n",
       "      <td>1.000000</td>\n",
       "    </tr>\n",
       "    <tr>\n",
       "      <th>25%</th>\n",
       "      <td>2.500000e+07</td>\n",
       "      <td>53.000000</td>\n",
       "      <td>2.000000</td>\n",
       "    </tr>\n",
       "    <tr>\n",
       "      <th>50%</th>\n",
       "      <td>3.339000e+07</td>\n",
       "      <td>68.000000</td>\n",
       "      <td>2.000000</td>\n",
       "    </tr>\n",
       "    <tr>\n",
       "      <th>75%</th>\n",
       "      <td>5.475000e+07</td>\n",
       "      <td>101.200000</td>\n",
       "      <td>3.000000</td>\n",
       "    </tr>\n",
       "    <tr>\n",
       "      <th>max</th>\n",
       "      <td>1.128000e+09</td>\n",
       "      <td>750.000000</td>\n",
       "      <td>6.000000</td>\n",
       "    </tr>\n",
       "  </tbody>\n",
       "</table>\n",
       "</div>"
      ],
      "text/plain": [
       "              price        area  roomsNumber\n",
       "count  1.430000e+02  143.000000   143.000000\n",
       "mean   5.299721e+07   89.426294     2.503497\n",
       "std    9.787205e+07   74.097773     1.086888\n",
       "min    6.999000e+06   17.400000     1.000000\n",
       "25%    2.500000e+07   53.000000     2.000000\n",
       "50%    3.339000e+07   68.000000     2.000000\n",
       "75%    5.475000e+07  101.200000     3.000000\n",
       "max    1.128000e+09  750.000000     6.000000"
      ]
     },
     "execution_count": 239,
     "metadata": {},
     "output_type": "execute_result"
    }
   ],
   "source": [
    "data.describe()"
   ]
  },
  {
   "cell_type": "markdown",
   "metadata": {},
   "source": [
    "The above statistics shows that mean price is 50 millions, mean area is 89 square meters and mean rooms number is 2.5. The cheapest appartment in his sample has 17 square meters and 1 room, it costs about 7 millions. While, the most expensive one has six rooms, 759 square meters and costs more than 1 billion tenge."
   ]
  },
  {
   "cell_type": "markdown",
   "metadata": {},
   "source": [
    "### Visualization"
   ]
  },
  {
   "cell_type": "markdown",
   "metadata": {},
   "source": [
    "It is important to mention that all further visualizations and conclusions are true only for previously scrapped sampled and do not reflect real world situation."
   ]
  },
  {
   "cell_type": "code",
   "execution_count": 178,
   "metadata": {},
   "outputs": [
    {
     "data": {
      "application/vnd.plotly.v1+json": {
       "config": {
        "plotlyServerURL": "https://plot.ly"
       },
       "data": [
        {
         "alignmentgroup": "True",
         "bingroup": "x",
         "hovertemplate": "district=%{x}<br>count=%{y}<extra></extra>",
         "legendgroup": "",
         "marker": {
          "color": "#636efa"
         },
         "name": "",
         "offsetgroup": "",
         "orientation": "v",
         "showlegend": false,
         "type": "histogram",
         "x": [
          " Бостандыкский р-н",
          " Наурызбайский р-н",
          " Наурызбайский р-н",
          " Турксибский р-н",
          " Ауэзовский р-н",
          " Бостандыкский р-н",
          " Бостандыкский р-н",
          " Алмалинский р-н",
          " Алмалинский р-н",
          " Ауэзовский р-н",
          null,
          " Медеуский р-н",
          " Бостандыкский р-н",
          " Алатауский р-н",
          " Бостандыкский р-н",
          " Медеуский р-н",
          " Алмалинский р-н",
          " Бостандыкский р-н",
          " Медеуский р-н",
          " Ауэзовский р-н",
          " Бостандыкский р-н",
          " Алмалинский р-н",
          " Бостандыкский р-н",
          " Бостандыкский р-н",
          " Бостандыкский р-н",
          null,
          " Турксибский р-н",
          " Турксибский р-н",
          " Жетысуский р-н",
          null,
          " Медеуский р-н",
          " Бостандыкский р-н",
          " Турксибский р-н",
          " Бостандыкский р-н",
          " Алмалинский р-н",
          " Алмалинский р-н",
          " Ауэзовский р-н",
          " Медеуский р-н",
          " Жетысуский р-н",
          " Ауэзовский р-н",
          " Ауэзовский р-н",
          " Медеуский р-н",
          " Бостандыкский р-н",
          " Медеуский р-н",
          " Алмалинский р-н",
          " Алмалинский р-н",
          " Медеуский р-н",
          " Медеуский р-н",
          " Медеуский р-н",
          " Алмалинский р-н",
          " Алмалинский р-н",
          " Алмалинский р-н",
          " Медеуский р-н",
          " Алмалинский р-н",
          " Медеуский р-н",
          " Алмалинский р-н",
          " Алмалинский р-н",
          " Алмалинский р-н",
          " Медеуский р-н",
          " Бостандыкский р-н",
          " Медеуский р-н",
          " Ауэзовский р-н",
          " Алатауский р-н",
          " Алатауский р-н",
          " Ауэзовский р-н",
          " Ауэзовский р-н",
          null,
          " Бостандыкский р-н",
          null,
          " Турксибский р-н",
          " Турксибский р-н",
          " Медеуский р-н",
          " Ауэзовский р-н",
          " Алатауский р-н",
          " Алмалинский р-н",
          " Бостандыкский р-н",
          " Бостандыкский р-н",
          " Медеуский р-н",
          " Медеуский р-н",
          " Алатауский р-н",
          " Бостандыкский р-н",
          " Медеуский р-н",
          " Медеуский р-н",
          " Алмалинский р-н",
          null,
          null,
          " Медеуский р-н",
          " Бостандыкский р-н",
          " Ауэзовский р-н",
          null,
          null,
          " Бостандыкский р-н",
          null,
          " Алмалинский р-н",
          " Турксибский р-н",
          " Турксибский р-н",
          " Бостандыкский р-н",
          " Бостандыкский р-н",
          " Бостандыкский р-н",
          " Ауэзовский р-н",
          " Алмалинский р-н",
          " Бостандыкский р-н",
          " Ауэзовский р-н",
          " Бостандыкский р-н",
          " Ауэзовский р-н",
          null,
          " Бостандыкский р-н",
          " Турксибский р-н",
          " Бостандыкский р-н",
          " Алатауский р-н",
          " Алмалинский р-н",
          " Алмалинский р-н",
          " Медеуский р-н",
          null,
          " Медеуский р-н",
          " Бостандыкский р-н",
          " Бостандыкский р-н",
          " Ауэзовский р-н",
          " Алмалинский р-н",
          " Медеуский р-н",
          " Алмалинский р-н",
          " Бостандыкский р-н",
          null,
          " Турксибский р-н",
          " Турксибский р-н",
          " Ауэзовский р-н",
          " Бостандыкский р-н",
          " Медеуский р-н",
          " Алатауский р-н",
          " Алмалинский р-н",
          " Бостандыкский р-н",
          " Алмалинский р-н",
          " Бостандыкский р-н",
          " Медеуский р-н",
          " Алатауский р-н",
          " Бостандыкский р-н",
          null,
          null,
          " Бостандыкский р-н",
          null,
          " Турксибский р-н",
          " Бостандыкский р-н",
          " Бостандыкский р-н"
         ],
         "xaxis": "x",
         "yaxis": "y"
        }
       ],
       "layout": {
        "barmode": "relative",
        "height": 400,
        "legend": {
         "tracegroupgap": 0
        },
        "template": {
         "data": {
          "bar": [
           {
            "error_x": {
             "color": "#2a3f5f"
            },
            "error_y": {
             "color": "#2a3f5f"
            },
            "marker": {
             "line": {
              "color": "#E5ECF6",
              "width": 0.5
             }
            },
            "type": "bar"
           }
          ],
          "barpolar": [
           {
            "marker": {
             "line": {
              "color": "#E5ECF6",
              "width": 0.5
             }
            },
            "type": "barpolar"
           }
          ],
          "carpet": [
           {
            "aaxis": {
             "endlinecolor": "#2a3f5f",
             "gridcolor": "white",
             "linecolor": "white",
             "minorgridcolor": "white",
             "startlinecolor": "#2a3f5f"
            },
            "baxis": {
             "endlinecolor": "#2a3f5f",
             "gridcolor": "white",
             "linecolor": "white",
             "minorgridcolor": "white",
             "startlinecolor": "#2a3f5f"
            },
            "type": "carpet"
           }
          ],
          "choropleth": [
           {
            "colorbar": {
             "outlinewidth": 0,
             "ticks": ""
            },
            "type": "choropleth"
           }
          ],
          "contour": [
           {
            "colorbar": {
             "outlinewidth": 0,
             "ticks": ""
            },
            "colorscale": [
             [
              0,
              "#0d0887"
             ],
             [
              0.1111111111111111,
              "#46039f"
             ],
             [
              0.2222222222222222,
              "#7201a8"
             ],
             [
              0.3333333333333333,
              "#9c179e"
             ],
             [
              0.4444444444444444,
              "#bd3786"
             ],
             [
              0.5555555555555556,
              "#d8576b"
             ],
             [
              0.6666666666666666,
              "#ed7953"
             ],
             [
              0.7777777777777778,
              "#fb9f3a"
             ],
             [
              0.8888888888888888,
              "#fdca26"
             ],
             [
              1,
              "#f0f921"
             ]
            ],
            "type": "contour"
           }
          ],
          "contourcarpet": [
           {
            "colorbar": {
             "outlinewidth": 0,
             "ticks": ""
            },
            "type": "contourcarpet"
           }
          ],
          "heatmap": [
           {
            "colorbar": {
             "outlinewidth": 0,
             "ticks": ""
            },
            "colorscale": [
             [
              0,
              "#0d0887"
             ],
             [
              0.1111111111111111,
              "#46039f"
             ],
             [
              0.2222222222222222,
              "#7201a8"
             ],
             [
              0.3333333333333333,
              "#9c179e"
             ],
             [
              0.4444444444444444,
              "#bd3786"
             ],
             [
              0.5555555555555556,
              "#d8576b"
             ],
             [
              0.6666666666666666,
              "#ed7953"
             ],
             [
              0.7777777777777778,
              "#fb9f3a"
             ],
             [
              0.8888888888888888,
              "#fdca26"
             ],
             [
              1,
              "#f0f921"
             ]
            ],
            "type": "heatmap"
           }
          ],
          "heatmapgl": [
           {
            "colorbar": {
             "outlinewidth": 0,
             "ticks": ""
            },
            "colorscale": [
             [
              0,
              "#0d0887"
             ],
             [
              0.1111111111111111,
              "#46039f"
             ],
             [
              0.2222222222222222,
              "#7201a8"
             ],
             [
              0.3333333333333333,
              "#9c179e"
             ],
             [
              0.4444444444444444,
              "#bd3786"
             ],
             [
              0.5555555555555556,
              "#d8576b"
             ],
             [
              0.6666666666666666,
              "#ed7953"
             ],
             [
              0.7777777777777778,
              "#fb9f3a"
             ],
             [
              0.8888888888888888,
              "#fdca26"
             ],
             [
              1,
              "#f0f921"
             ]
            ],
            "type": "heatmapgl"
           }
          ],
          "histogram": [
           {
            "marker": {
             "colorbar": {
              "outlinewidth": 0,
              "ticks": ""
             }
            },
            "type": "histogram"
           }
          ],
          "histogram2d": [
           {
            "colorbar": {
             "outlinewidth": 0,
             "ticks": ""
            },
            "colorscale": [
             [
              0,
              "#0d0887"
             ],
             [
              0.1111111111111111,
              "#46039f"
             ],
             [
              0.2222222222222222,
              "#7201a8"
             ],
             [
              0.3333333333333333,
              "#9c179e"
             ],
             [
              0.4444444444444444,
              "#bd3786"
             ],
             [
              0.5555555555555556,
              "#d8576b"
             ],
             [
              0.6666666666666666,
              "#ed7953"
             ],
             [
              0.7777777777777778,
              "#fb9f3a"
             ],
             [
              0.8888888888888888,
              "#fdca26"
             ],
             [
              1,
              "#f0f921"
             ]
            ],
            "type": "histogram2d"
           }
          ],
          "histogram2dcontour": [
           {
            "colorbar": {
             "outlinewidth": 0,
             "ticks": ""
            },
            "colorscale": [
             [
              0,
              "#0d0887"
             ],
             [
              0.1111111111111111,
              "#46039f"
             ],
             [
              0.2222222222222222,
              "#7201a8"
             ],
             [
              0.3333333333333333,
              "#9c179e"
             ],
             [
              0.4444444444444444,
              "#bd3786"
             ],
             [
              0.5555555555555556,
              "#d8576b"
             ],
             [
              0.6666666666666666,
              "#ed7953"
             ],
             [
              0.7777777777777778,
              "#fb9f3a"
             ],
             [
              0.8888888888888888,
              "#fdca26"
             ],
             [
              1,
              "#f0f921"
             ]
            ],
            "type": "histogram2dcontour"
           }
          ],
          "mesh3d": [
           {
            "colorbar": {
             "outlinewidth": 0,
             "ticks": ""
            },
            "type": "mesh3d"
           }
          ],
          "parcoords": [
           {
            "line": {
             "colorbar": {
              "outlinewidth": 0,
              "ticks": ""
             }
            },
            "type": "parcoords"
           }
          ],
          "pie": [
           {
            "automargin": true,
            "type": "pie"
           }
          ],
          "scatter": [
           {
            "marker": {
             "colorbar": {
              "outlinewidth": 0,
              "ticks": ""
             }
            },
            "type": "scatter"
           }
          ],
          "scatter3d": [
           {
            "line": {
             "colorbar": {
              "outlinewidth": 0,
              "ticks": ""
             }
            },
            "marker": {
             "colorbar": {
              "outlinewidth": 0,
              "ticks": ""
             }
            },
            "type": "scatter3d"
           }
          ],
          "scattercarpet": [
           {
            "marker": {
             "colorbar": {
              "outlinewidth": 0,
              "ticks": ""
             }
            },
            "type": "scattercarpet"
           }
          ],
          "scattergeo": [
           {
            "marker": {
             "colorbar": {
              "outlinewidth": 0,
              "ticks": ""
             }
            },
            "type": "scattergeo"
           }
          ],
          "scattergl": [
           {
            "marker": {
             "colorbar": {
              "outlinewidth": 0,
              "ticks": ""
             }
            },
            "type": "scattergl"
           }
          ],
          "scattermapbox": [
           {
            "marker": {
             "colorbar": {
              "outlinewidth": 0,
              "ticks": ""
             }
            },
            "type": "scattermapbox"
           }
          ],
          "scatterpolar": [
           {
            "marker": {
             "colorbar": {
              "outlinewidth": 0,
              "ticks": ""
             }
            },
            "type": "scatterpolar"
           }
          ],
          "scatterpolargl": [
           {
            "marker": {
             "colorbar": {
              "outlinewidth": 0,
              "ticks": ""
             }
            },
            "type": "scatterpolargl"
           }
          ],
          "scatterternary": [
           {
            "marker": {
             "colorbar": {
              "outlinewidth": 0,
              "ticks": ""
             }
            },
            "type": "scatterternary"
           }
          ],
          "surface": [
           {
            "colorbar": {
             "outlinewidth": 0,
             "ticks": ""
            },
            "colorscale": [
             [
              0,
              "#0d0887"
             ],
             [
              0.1111111111111111,
              "#46039f"
             ],
             [
              0.2222222222222222,
              "#7201a8"
             ],
             [
              0.3333333333333333,
              "#9c179e"
             ],
             [
              0.4444444444444444,
              "#bd3786"
             ],
             [
              0.5555555555555556,
              "#d8576b"
             ],
             [
              0.6666666666666666,
              "#ed7953"
             ],
             [
              0.7777777777777778,
              "#fb9f3a"
             ],
             [
              0.8888888888888888,
              "#fdca26"
             ],
             [
              1,
              "#f0f921"
             ]
            ],
            "type": "surface"
           }
          ],
          "table": [
           {
            "cells": {
             "fill": {
              "color": "#EBF0F8"
             },
             "line": {
              "color": "white"
             }
            },
            "header": {
             "fill": {
              "color": "#C8D4E3"
             },
             "line": {
              "color": "white"
             }
            },
            "type": "table"
           }
          ]
         },
         "layout": {
          "annotationdefaults": {
           "arrowcolor": "#2a3f5f",
           "arrowhead": 0,
           "arrowwidth": 1
          },
          "autotypenumbers": "strict",
          "coloraxis": {
           "colorbar": {
            "outlinewidth": 0,
            "ticks": ""
           }
          },
          "colorscale": {
           "diverging": [
            [
             0,
             "#8e0152"
            ],
            [
             0.1,
             "#c51b7d"
            ],
            [
             0.2,
             "#de77ae"
            ],
            [
             0.3,
             "#f1b6da"
            ],
            [
             0.4,
             "#fde0ef"
            ],
            [
             0.5,
             "#f7f7f7"
            ],
            [
             0.6,
             "#e6f5d0"
            ],
            [
             0.7,
             "#b8e186"
            ],
            [
             0.8,
             "#7fbc41"
            ],
            [
             0.9,
             "#4d9221"
            ],
            [
             1,
             "#276419"
            ]
           ],
           "sequential": [
            [
             0,
             "#0d0887"
            ],
            [
             0.1111111111111111,
             "#46039f"
            ],
            [
             0.2222222222222222,
             "#7201a8"
            ],
            [
             0.3333333333333333,
             "#9c179e"
            ],
            [
             0.4444444444444444,
             "#bd3786"
            ],
            [
             0.5555555555555556,
             "#d8576b"
            ],
            [
             0.6666666666666666,
             "#ed7953"
            ],
            [
             0.7777777777777778,
             "#fb9f3a"
            ],
            [
             0.8888888888888888,
             "#fdca26"
            ],
            [
             1,
             "#f0f921"
            ]
           ],
           "sequentialminus": [
            [
             0,
             "#0d0887"
            ],
            [
             0.1111111111111111,
             "#46039f"
            ],
            [
             0.2222222222222222,
             "#7201a8"
            ],
            [
             0.3333333333333333,
             "#9c179e"
            ],
            [
             0.4444444444444444,
             "#bd3786"
            ],
            [
             0.5555555555555556,
             "#d8576b"
            ],
            [
             0.6666666666666666,
             "#ed7953"
            ],
            [
             0.7777777777777778,
             "#fb9f3a"
            ],
            [
             0.8888888888888888,
             "#fdca26"
            ],
            [
             1,
             "#f0f921"
            ]
           ]
          },
          "colorway": [
           "#636efa",
           "#EF553B",
           "#00cc96",
           "#ab63fa",
           "#FFA15A",
           "#19d3f3",
           "#FF6692",
           "#B6E880",
           "#FF97FF",
           "#FECB52"
          ],
          "font": {
           "color": "#2a3f5f"
          },
          "geo": {
           "bgcolor": "white",
           "lakecolor": "white",
           "landcolor": "#E5ECF6",
           "showlakes": true,
           "showland": true,
           "subunitcolor": "white"
          },
          "hoverlabel": {
           "align": "left"
          },
          "hovermode": "closest",
          "mapbox": {
           "style": "light"
          },
          "paper_bgcolor": "white",
          "plot_bgcolor": "#E5ECF6",
          "polar": {
           "angularaxis": {
            "gridcolor": "white",
            "linecolor": "white",
            "ticks": ""
           },
           "bgcolor": "#E5ECF6",
           "radialaxis": {
            "gridcolor": "white",
            "linecolor": "white",
            "ticks": ""
           }
          },
          "scene": {
           "xaxis": {
            "backgroundcolor": "#E5ECF6",
            "gridcolor": "white",
            "gridwidth": 2,
            "linecolor": "white",
            "showbackground": true,
            "ticks": "",
            "zerolinecolor": "white"
           },
           "yaxis": {
            "backgroundcolor": "#E5ECF6",
            "gridcolor": "white",
            "gridwidth": 2,
            "linecolor": "white",
            "showbackground": true,
            "ticks": "",
            "zerolinecolor": "white"
           },
           "zaxis": {
            "backgroundcolor": "#E5ECF6",
            "gridcolor": "white",
            "gridwidth": 2,
            "linecolor": "white",
            "showbackground": true,
            "ticks": "",
            "zerolinecolor": "white"
           }
          },
          "shapedefaults": {
           "line": {
            "color": "#2a3f5f"
           }
          },
          "ternary": {
           "aaxis": {
            "gridcolor": "white",
            "linecolor": "white",
            "ticks": ""
           },
           "baxis": {
            "gridcolor": "white",
            "linecolor": "white",
            "ticks": ""
           },
           "bgcolor": "#E5ECF6",
           "caxis": {
            "gridcolor": "white",
            "linecolor": "white",
            "ticks": ""
           }
          },
          "title": {
           "x": 0.05
          },
          "xaxis": {
           "automargin": true,
           "gridcolor": "white",
           "linecolor": "white",
           "ticks": "",
           "title": {
            "standoff": 15
           },
           "zerolinecolor": "white",
           "zerolinewidth": 2
          },
          "yaxis": {
           "automargin": true,
           "gridcolor": "white",
           "linecolor": "white",
           "ticks": "",
           "title": {
            "standoff": 15
           },
           "zerolinecolor": "white",
           "zerolinewidth": 2
          }
         }
        },
        "title": {
         "text": "Distribution of appartments by district"
        },
        "width": 600,
        "xaxis": {
         "anchor": "y",
         "domain": [
          0,
          1
         ],
         "title": {
          "text": "district"
         }
        },
        "yaxis": {
         "anchor": "x",
         "domain": [
          0,
          1
         ],
         "title": {
          "text": "count"
         }
        }
       }
      },
      "text/html": [
       "<div>                            <div id=\"92fc0556-d021-41c5-b628-098bdc5fd8bf\" class=\"plotly-graph-div\" style=\"height:400px; width:600px;\"></div>            <script type=\"text/javascript\">                require([\"plotly\"], function(Plotly) {                    window.PLOTLYENV=window.PLOTLYENV || {};                                    if (document.getElementById(\"92fc0556-d021-41c5-b628-098bdc5fd8bf\")) {                    Plotly.newPlot(                        \"92fc0556-d021-41c5-b628-098bdc5fd8bf\",                        [{\"alignmentgroup\": \"True\", \"bingroup\": \"x\", \"hovertemplate\": \"district=%{x}<br>count=%{y}<extra></extra>\", \"legendgroup\": \"\", \"marker\": {\"color\": \"#636efa\"}, \"name\": \"\", \"offsetgroup\": \"\", \"orientation\": \"v\", \"showlegend\": false, \"type\": \"histogram\", \"x\": [\" \\u0411\\u043e\\u0441\\u0442\\u0430\\u043d\\u0434\\u044b\\u043a\\u0441\\u043a\\u0438\\u0439 \\u0440-\\u043d\", \" \\u041d\\u0430\\u0443\\u0440\\u044b\\u0437\\u0431\\u0430\\u0439\\u0441\\u043a\\u0438\\u0439 \\u0440-\\u043d\", \" \\u041d\\u0430\\u0443\\u0440\\u044b\\u0437\\u0431\\u0430\\u0439\\u0441\\u043a\\u0438\\u0439 \\u0440-\\u043d\", \" \\u0422\\u0443\\u0440\\u043a\\u0441\\u0438\\u0431\\u0441\\u043a\\u0438\\u0439 \\u0440-\\u043d\", \" \\u0410\\u0443\\u044d\\u0437\\u043e\\u0432\\u0441\\u043a\\u0438\\u0439 \\u0440-\\u043d\", \" \\u0411\\u043e\\u0441\\u0442\\u0430\\u043d\\u0434\\u044b\\u043a\\u0441\\u043a\\u0438\\u0439 \\u0440-\\u043d\", \" \\u0411\\u043e\\u0441\\u0442\\u0430\\u043d\\u0434\\u044b\\u043a\\u0441\\u043a\\u0438\\u0439 \\u0440-\\u043d\", \" \\u0410\\u043b\\u043c\\u0430\\u043b\\u0438\\u043d\\u0441\\u043a\\u0438\\u0439 \\u0440-\\u043d\", \" \\u0410\\u043b\\u043c\\u0430\\u043b\\u0438\\u043d\\u0441\\u043a\\u0438\\u0439 \\u0440-\\u043d\", \" \\u0410\\u0443\\u044d\\u0437\\u043e\\u0432\\u0441\\u043a\\u0438\\u0439 \\u0440-\\u043d\", null, \" \\u041c\\u0435\\u0434\\u0435\\u0443\\u0441\\u043a\\u0438\\u0439 \\u0440-\\u043d\", \" \\u0411\\u043e\\u0441\\u0442\\u0430\\u043d\\u0434\\u044b\\u043a\\u0441\\u043a\\u0438\\u0439 \\u0440-\\u043d\", \" \\u0410\\u043b\\u0430\\u0442\\u0430\\u0443\\u0441\\u043a\\u0438\\u0439 \\u0440-\\u043d\", \" \\u0411\\u043e\\u0441\\u0442\\u0430\\u043d\\u0434\\u044b\\u043a\\u0441\\u043a\\u0438\\u0439 \\u0440-\\u043d\", \" \\u041c\\u0435\\u0434\\u0435\\u0443\\u0441\\u043a\\u0438\\u0439 \\u0440-\\u043d\", \" \\u0410\\u043b\\u043c\\u0430\\u043b\\u0438\\u043d\\u0441\\u043a\\u0438\\u0439 \\u0440-\\u043d\", \" \\u0411\\u043e\\u0441\\u0442\\u0430\\u043d\\u0434\\u044b\\u043a\\u0441\\u043a\\u0438\\u0439 \\u0440-\\u043d\", \" \\u041c\\u0435\\u0434\\u0435\\u0443\\u0441\\u043a\\u0438\\u0439 \\u0440-\\u043d\", \" \\u0410\\u0443\\u044d\\u0437\\u043e\\u0432\\u0441\\u043a\\u0438\\u0439 \\u0440-\\u043d\", \" \\u0411\\u043e\\u0441\\u0442\\u0430\\u043d\\u0434\\u044b\\u043a\\u0441\\u043a\\u0438\\u0439 \\u0440-\\u043d\", \" \\u0410\\u043b\\u043c\\u0430\\u043b\\u0438\\u043d\\u0441\\u043a\\u0438\\u0439 \\u0440-\\u043d\", \" \\u0411\\u043e\\u0441\\u0442\\u0430\\u043d\\u0434\\u044b\\u043a\\u0441\\u043a\\u0438\\u0439 \\u0440-\\u043d\", \" \\u0411\\u043e\\u0441\\u0442\\u0430\\u043d\\u0434\\u044b\\u043a\\u0441\\u043a\\u0438\\u0439 \\u0440-\\u043d\", \" \\u0411\\u043e\\u0441\\u0442\\u0430\\u043d\\u0434\\u044b\\u043a\\u0441\\u043a\\u0438\\u0439 \\u0440-\\u043d\", null, \" \\u0422\\u0443\\u0440\\u043a\\u0441\\u0438\\u0431\\u0441\\u043a\\u0438\\u0439 \\u0440-\\u043d\", \" \\u0422\\u0443\\u0440\\u043a\\u0441\\u0438\\u0431\\u0441\\u043a\\u0438\\u0439 \\u0440-\\u043d\", \" \\u0416\\u0435\\u0442\\u044b\\u0441\\u0443\\u0441\\u043a\\u0438\\u0439 \\u0440-\\u043d\", null, \" \\u041c\\u0435\\u0434\\u0435\\u0443\\u0441\\u043a\\u0438\\u0439 \\u0440-\\u043d\", \" \\u0411\\u043e\\u0441\\u0442\\u0430\\u043d\\u0434\\u044b\\u043a\\u0441\\u043a\\u0438\\u0439 \\u0440-\\u043d\", \" \\u0422\\u0443\\u0440\\u043a\\u0441\\u0438\\u0431\\u0441\\u043a\\u0438\\u0439 \\u0440-\\u043d\", \" \\u0411\\u043e\\u0441\\u0442\\u0430\\u043d\\u0434\\u044b\\u043a\\u0441\\u043a\\u0438\\u0439 \\u0440-\\u043d\", \" \\u0410\\u043b\\u043c\\u0430\\u043b\\u0438\\u043d\\u0441\\u043a\\u0438\\u0439 \\u0440-\\u043d\", \" \\u0410\\u043b\\u043c\\u0430\\u043b\\u0438\\u043d\\u0441\\u043a\\u0438\\u0439 \\u0440-\\u043d\", \" \\u0410\\u0443\\u044d\\u0437\\u043e\\u0432\\u0441\\u043a\\u0438\\u0439 \\u0440-\\u043d\", \" \\u041c\\u0435\\u0434\\u0435\\u0443\\u0441\\u043a\\u0438\\u0439 \\u0440-\\u043d\", \" \\u0416\\u0435\\u0442\\u044b\\u0441\\u0443\\u0441\\u043a\\u0438\\u0439 \\u0440-\\u043d\", \" \\u0410\\u0443\\u044d\\u0437\\u043e\\u0432\\u0441\\u043a\\u0438\\u0439 \\u0440-\\u043d\", \" \\u0410\\u0443\\u044d\\u0437\\u043e\\u0432\\u0441\\u043a\\u0438\\u0439 \\u0440-\\u043d\", \" \\u041c\\u0435\\u0434\\u0435\\u0443\\u0441\\u043a\\u0438\\u0439 \\u0440-\\u043d\", \" \\u0411\\u043e\\u0441\\u0442\\u0430\\u043d\\u0434\\u044b\\u043a\\u0441\\u043a\\u0438\\u0439 \\u0440-\\u043d\", \" \\u041c\\u0435\\u0434\\u0435\\u0443\\u0441\\u043a\\u0438\\u0439 \\u0440-\\u043d\", \" \\u0410\\u043b\\u043c\\u0430\\u043b\\u0438\\u043d\\u0441\\u043a\\u0438\\u0439 \\u0440-\\u043d\", \" \\u0410\\u043b\\u043c\\u0430\\u043b\\u0438\\u043d\\u0441\\u043a\\u0438\\u0439 \\u0440-\\u043d\", \" \\u041c\\u0435\\u0434\\u0435\\u0443\\u0441\\u043a\\u0438\\u0439 \\u0440-\\u043d\", \" \\u041c\\u0435\\u0434\\u0435\\u0443\\u0441\\u043a\\u0438\\u0439 \\u0440-\\u043d\", \" \\u041c\\u0435\\u0434\\u0435\\u0443\\u0441\\u043a\\u0438\\u0439 \\u0440-\\u043d\", \" \\u0410\\u043b\\u043c\\u0430\\u043b\\u0438\\u043d\\u0441\\u043a\\u0438\\u0439 \\u0440-\\u043d\", \" \\u0410\\u043b\\u043c\\u0430\\u043b\\u0438\\u043d\\u0441\\u043a\\u0438\\u0439 \\u0440-\\u043d\", \" \\u0410\\u043b\\u043c\\u0430\\u043b\\u0438\\u043d\\u0441\\u043a\\u0438\\u0439 \\u0440-\\u043d\", \" \\u041c\\u0435\\u0434\\u0435\\u0443\\u0441\\u043a\\u0438\\u0439 \\u0440-\\u043d\", \" \\u0410\\u043b\\u043c\\u0430\\u043b\\u0438\\u043d\\u0441\\u043a\\u0438\\u0439 \\u0440-\\u043d\", \" \\u041c\\u0435\\u0434\\u0435\\u0443\\u0441\\u043a\\u0438\\u0439 \\u0440-\\u043d\", \" \\u0410\\u043b\\u043c\\u0430\\u043b\\u0438\\u043d\\u0441\\u043a\\u0438\\u0439 \\u0440-\\u043d\", \" \\u0410\\u043b\\u043c\\u0430\\u043b\\u0438\\u043d\\u0441\\u043a\\u0438\\u0439 \\u0440-\\u043d\", \" \\u0410\\u043b\\u043c\\u0430\\u043b\\u0438\\u043d\\u0441\\u043a\\u0438\\u0439 \\u0440-\\u043d\", \" \\u041c\\u0435\\u0434\\u0435\\u0443\\u0441\\u043a\\u0438\\u0439 \\u0440-\\u043d\", \" \\u0411\\u043e\\u0441\\u0442\\u0430\\u043d\\u0434\\u044b\\u043a\\u0441\\u043a\\u0438\\u0439 \\u0440-\\u043d\", \" \\u041c\\u0435\\u0434\\u0435\\u0443\\u0441\\u043a\\u0438\\u0439 \\u0440-\\u043d\", \" \\u0410\\u0443\\u044d\\u0437\\u043e\\u0432\\u0441\\u043a\\u0438\\u0439 \\u0440-\\u043d\", \" \\u0410\\u043b\\u0430\\u0442\\u0430\\u0443\\u0441\\u043a\\u0438\\u0439 \\u0440-\\u043d\", \" \\u0410\\u043b\\u0430\\u0442\\u0430\\u0443\\u0441\\u043a\\u0438\\u0439 \\u0440-\\u043d\", \" \\u0410\\u0443\\u044d\\u0437\\u043e\\u0432\\u0441\\u043a\\u0438\\u0439 \\u0440-\\u043d\", \" \\u0410\\u0443\\u044d\\u0437\\u043e\\u0432\\u0441\\u043a\\u0438\\u0439 \\u0440-\\u043d\", null, \" \\u0411\\u043e\\u0441\\u0442\\u0430\\u043d\\u0434\\u044b\\u043a\\u0441\\u043a\\u0438\\u0439 \\u0440-\\u043d\", null, \" \\u0422\\u0443\\u0440\\u043a\\u0441\\u0438\\u0431\\u0441\\u043a\\u0438\\u0439 \\u0440-\\u043d\", \" \\u0422\\u0443\\u0440\\u043a\\u0441\\u0438\\u0431\\u0441\\u043a\\u0438\\u0439 \\u0440-\\u043d\", \" \\u041c\\u0435\\u0434\\u0435\\u0443\\u0441\\u043a\\u0438\\u0439 \\u0440-\\u043d\", \" \\u0410\\u0443\\u044d\\u0437\\u043e\\u0432\\u0441\\u043a\\u0438\\u0439 \\u0440-\\u043d\", \" \\u0410\\u043b\\u0430\\u0442\\u0430\\u0443\\u0441\\u043a\\u0438\\u0439 \\u0440-\\u043d\", \" \\u0410\\u043b\\u043c\\u0430\\u043b\\u0438\\u043d\\u0441\\u043a\\u0438\\u0439 \\u0440-\\u043d\", \" \\u0411\\u043e\\u0441\\u0442\\u0430\\u043d\\u0434\\u044b\\u043a\\u0441\\u043a\\u0438\\u0439 \\u0440-\\u043d\", \" \\u0411\\u043e\\u0441\\u0442\\u0430\\u043d\\u0434\\u044b\\u043a\\u0441\\u043a\\u0438\\u0439 \\u0440-\\u043d\", \" \\u041c\\u0435\\u0434\\u0435\\u0443\\u0441\\u043a\\u0438\\u0439 \\u0440-\\u043d\", \" \\u041c\\u0435\\u0434\\u0435\\u0443\\u0441\\u043a\\u0438\\u0439 \\u0440-\\u043d\", \" \\u0410\\u043b\\u0430\\u0442\\u0430\\u0443\\u0441\\u043a\\u0438\\u0439 \\u0440-\\u043d\", \" \\u0411\\u043e\\u0441\\u0442\\u0430\\u043d\\u0434\\u044b\\u043a\\u0441\\u043a\\u0438\\u0439 \\u0440-\\u043d\", \" \\u041c\\u0435\\u0434\\u0435\\u0443\\u0441\\u043a\\u0438\\u0439 \\u0440-\\u043d\", \" \\u041c\\u0435\\u0434\\u0435\\u0443\\u0441\\u043a\\u0438\\u0439 \\u0440-\\u043d\", \" \\u0410\\u043b\\u043c\\u0430\\u043b\\u0438\\u043d\\u0441\\u043a\\u0438\\u0439 \\u0440-\\u043d\", null, null, \" \\u041c\\u0435\\u0434\\u0435\\u0443\\u0441\\u043a\\u0438\\u0439 \\u0440-\\u043d\", \" \\u0411\\u043e\\u0441\\u0442\\u0430\\u043d\\u0434\\u044b\\u043a\\u0441\\u043a\\u0438\\u0439 \\u0440-\\u043d\", \" \\u0410\\u0443\\u044d\\u0437\\u043e\\u0432\\u0441\\u043a\\u0438\\u0439 \\u0440-\\u043d\", null, null, \" \\u0411\\u043e\\u0441\\u0442\\u0430\\u043d\\u0434\\u044b\\u043a\\u0441\\u043a\\u0438\\u0439 \\u0440-\\u043d\", null, \" \\u0410\\u043b\\u043c\\u0430\\u043b\\u0438\\u043d\\u0441\\u043a\\u0438\\u0439 \\u0440-\\u043d\", \" \\u0422\\u0443\\u0440\\u043a\\u0441\\u0438\\u0431\\u0441\\u043a\\u0438\\u0439 \\u0440-\\u043d\", \" \\u0422\\u0443\\u0440\\u043a\\u0441\\u0438\\u0431\\u0441\\u043a\\u0438\\u0439 \\u0440-\\u043d\", \" \\u0411\\u043e\\u0441\\u0442\\u0430\\u043d\\u0434\\u044b\\u043a\\u0441\\u043a\\u0438\\u0439 \\u0440-\\u043d\", \" \\u0411\\u043e\\u0441\\u0442\\u0430\\u043d\\u0434\\u044b\\u043a\\u0441\\u043a\\u0438\\u0439 \\u0440-\\u043d\", \" \\u0411\\u043e\\u0441\\u0442\\u0430\\u043d\\u0434\\u044b\\u043a\\u0441\\u043a\\u0438\\u0439 \\u0440-\\u043d\", \" \\u0410\\u0443\\u044d\\u0437\\u043e\\u0432\\u0441\\u043a\\u0438\\u0439 \\u0440-\\u043d\", \" \\u0410\\u043b\\u043c\\u0430\\u043b\\u0438\\u043d\\u0441\\u043a\\u0438\\u0439 \\u0440-\\u043d\", \" \\u0411\\u043e\\u0441\\u0442\\u0430\\u043d\\u0434\\u044b\\u043a\\u0441\\u043a\\u0438\\u0439 \\u0440-\\u043d\", \" \\u0410\\u0443\\u044d\\u0437\\u043e\\u0432\\u0441\\u043a\\u0438\\u0439 \\u0440-\\u043d\", \" \\u0411\\u043e\\u0441\\u0442\\u0430\\u043d\\u0434\\u044b\\u043a\\u0441\\u043a\\u0438\\u0439 \\u0440-\\u043d\", \" \\u0410\\u0443\\u044d\\u0437\\u043e\\u0432\\u0441\\u043a\\u0438\\u0439 \\u0440-\\u043d\", null, \" \\u0411\\u043e\\u0441\\u0442\\u0430\\u043d\\u0434\\u044b\\u043a\\u0441\\u043a\\u0438\\u0439 \\u0440-\\u043d\", \" \\u0422\\u0443\\u0440\\u043a\\u0441\\u0438\\u0431\\u0441\\u043a\\u0438\\u0439 \\u0440-\\u043d\", \" \\u0411\\u043e\\u0441\\u0442\\u0430\\u043d\\u0434\\u044b\\u043a\\u0441\\u043a\\u0438\\u0439 \\u0440-\\u043d\", \" \\u0410\\u043b\\u0430\\u0442\\u0430\\u0443\\u0441\\u043a\\u0438\\u0439 \\u0440-\\u043d\", \" \\u0410\\u043b\\u043c\\u0430\\u043b\\u0438\\u043d\\u0441\\u043a\\u0438\\u0439 \\u0440-\\u043d\", \" \\u0410\\u043b\\u043c\\u0430\\u043b\\u0438\\u043d\\u0441\\u043a\\u0438\\u0439 \\u0440-\\u043d\", \" \\u041c\\u0435\\u0434\\u0435\\u0443\\u0441\\u043a\\u0438\\u0439 \\u0440-\\u043d\", null, \" \\u041c\\u0435\\u0434\\u0435\\u0443\\u0441\\u043a\\u0438\\u0439 \\u0440-\\u043d\", \" \\u0411\\u043e\\u0441\\u0442\\u0430\\u043d\\u0434\\u044b\\u043a\\u0441\\u043a\\u0438\\u0439 \\u0440-\\u043d\", \" \\u0411\\u043e\\u0441\\u0442\\u0430\\u043d\\u0434\\u044b\\u043a\\u0441\\u043a\\u0438\\u0439 \\u0440-\\u043d\", \" \\u0410\\u0443\\u044d\\u0437\\u043e\\u0432\\u0441\\u043a\\u0438\\u0439 \\u0440-\\u043d\", \" \\u0410\\u043b\\u043c\\u0430\\u043b\\u0438\\u043d\\u0441\\u043a\\u0438\\u0439 \\u0440-\\u043d\", \" \\u041c\\u0435\\u0434\\u0435\\u0443\\u0441\\u043a\\u0438\\u0439 \\u0440-\\u043d\", \" \\u0410\\u043b\\u043c\\u0430\\u043b\\u0438\\u043d\\u0441\\u043a\\u0438\\u0439 \\u0440-\\u043d\", \" \\u0411\\u043e\\u0441\\u0442\\u0430\\u043d\\u0434\\u044b\\u043a\\u0441\\u043a\\u0438\\u0439 \\u0440-\\u043d\", null, \" \\u0422\\u0443\\u0440\\u043a\\u0441\\u0438\\u0431\\u0441\\u043a\\u0438\\u0439 \\u0440-\\u043d\", \" \\u0422\\u0443\\u0440\\u043a\\u0441\\u0438\\u0431\\u0441\\u043a\\u0438\\u0439 \\u0440-\\u043d\", \" \\u0410\\u0443\\u044d\\u0437\\u043e\\u0432\\u0441\\u043a\\u0438\\u0439 \\u0440-\\u043d\", \" \\u0411\\u043e\\u0441\\u0442\\u0430\\u043d\\u0434\\u044b\\u043a\\u0441\\u043a\\u0438\\u0439 \\u0440-\\u043d\", \" \\u041c\\u0435\\u0434\\u0435\\u0443\\u0441\\u043a\\u0438\\u0439 \\u0440-\\u043d\", \" \\u0410\\u043b\\u0430\\u0442\\u0430\\u0443\\u0441\\u043a\\u0438\\u0439 \\u0440-\\u043d\", \" \\u0410\\u043b\\u043c\\u0430\\u043b\\u0438\\u043d\\u0441\\u043a\\u0438\\u0439 \\u0440-\\u043d\", \" \\u0411\\u043e\\u0441\\u0442\\u0430\\u043d\\u0434\\u044b\\u043a\\u0441\\u043a\\u0438\\u0439 \\u0440-\\u043d\", \" \\u0410\\u043b\\u043c\\u0430\\u043b\\u0438\\u043d\\u0441\\u043a\\u0438\\u0439 \\u0440-\\u043d\", \" \\u0411\\u043e\\u0441\\u0442\\u0430\\u043d\\u0434\\u044b\\u043a\\u0441\\u043a\\u0438\\u0439 \\u0440-\\u043d\", \" \\u041c\\u0435\\u0434\\u0435\\u0443\\u0441\\u043a\\u0438\\u0439 \\u0440-\\u043d\", \" \\u0410\\u043b\\u0430\\u0442\\u0430\\u0443\\u0441\\u043a\\u0438\\u0439 \\u0440-\\u043d\", \" \\u0411\\u043e\\u0441\\u0442\\u0430\\u043d\\u0434\\u044b\\u043a\\u0441\\u043a\\u0438\\u0439 \\u0440-\\u043d\", null, null, \" \\u0411\\u043e\\u0441\\u0442\\u0430\\u043d\\u0434\\u044b\\u043a\\u0441\\u043a\\u0438\\u0439 \\u0440-\\u043d\", null, \" \\u0422\\u0443\\u0440\\u043a\\u0441\\u0438\\u0431\\u0441\\u043a\\u0438\\u0439 \\u0440-\\u043d\", \" \\u0411\\u043e\\u0441\\u0442\\u0430\\u043d\\u0434\\u044b\\u043a\\u0441\\u043a\\u0438\\u0439 \\u0440-\\u043d\", \" \\u0411\\u043e\\u0441\\u0442\\u0430\\u043d\\u0434\\u044b\\u043a\\u0441\\u043a\\u0438\\u0439 \\u0440-\\u043d\"], \"xaxis\": \"x\", \"yaxis\": \"y\"}],                        {\"barmode\": \"relative\", \"height\": 400, \"legend\": {\"tracegroupgap\": 0}, \"template\": {\"data\": {\"bar\": [{\"error_x\": {\"color\": \"#2a3f5f\"}, \"error_y\": {\"color\": \"#2a3f5f\"}, \"marker\": {\"line\": {\"color\": \"#E5ECF6\", \"width\": 0.5}}, \"type\": \"bar\"}], \"barpolar\": [{\"marker\": {\"line\": {\"color\": \"#E5ECF6\", \"width\": 0.5}}, \"type\": \"barpolar\"}], \"carpet\": [{\"aaxis\": {\"endlinecolor\": \"#2a3f5f\", \"gridcolor\": \"white\", \"linecolor\": \"white\", \"minorgridcolor\": \"white\", \"startlinecolor\": \"#2a3f5f\"}, \"baxis\": {\"endlinecolor\": \"#2a3f5f\", \"gridcolor\": \"white\", \"linecolor\": \"white\", \"minorgridcolor\": \"white\", \"startlinecolor\": \"#2a3f5f\"}, \"type\": \"carpet\"}], \"choropleth\": [{\"colorbar\": {\"outlinewidth\": 0, \"ticks\": \"\"}, \"type\": \"choropleth\"}], \"contour\": [{\"colorbar\": {\"outlinewidth\": 0, \"ticks\": \"\"}, \"colorscale\": [[0.0, \"#0d0887\"], [0.1111111111111111, \"#46039f\"], [0.2222222222222222, \"#7201a8\"], [0.3333333333333333, \"#9c179e\"], [0.4444444444444444, \"#bd3786\"], [0.5555555555555556, \"#d8576b\"], [0.6666666666666666, \"#ed7953\"], [0.7777777777777778, \"#fb9f3a\"], [0.8888888888888888, \"#fdca26\"], [1.0, \"#f0f921\"]], \"type\": \"contour\"}], \"contourcarpet\": [{\"colorbar\": {\"outlinewidth\": 0, \"ticks\": \"\"}, \"type\": \"contourcarpet\"}], \"heatmap\": [{\"colorbar\": {\"outlinewidth\": 0, \"ticks\": \"\"}, \"colorscale\": [[0.0, \"#0d0887\"], [0.1111111111111111, \"#46039f\"], [0.2222222222222222, \"#7201a8\"], [0.3333333333333333, \"#9c179e\"], [0.4444444444444444, \"#bd3786\"], [0.5555555555555556, \"#d8576b\"], [0.6666666666666666, \"#ed7953\"], [0.7777777777777778, \"#fb9f3a\"], [0.8888888888888888, \"#fdca26\"], [1.0, \"#f0f921\"]], \"type\": \"heatmap\"}], \"heatmapgl\": [{\"colorbar\": {\"outlinewidth\": 0, \"ticks\": \"\"}, \"colorscale\": [[0.0, \"#0d0887\"], [0.1111111111111111, \"#46039f\"], [0.2222222222222222, \"#7201a8\"], [0.3333333333333333, \"#9c179e\"], [0.4444444444444444, \"#bd3786\"], [0.5555555555555556, \"#d8576b\"], [0.6666666666666666, \"#ed7953\"], [0.7777777777777778, \"#fb9f3a\"], [0.8888888888888888, \"#fdca26\"], [1.0, \"#f0f921\"]], \"type\": \"heatmapgl\"}], \"histogram\": [{\"marker\": {\"colorbar\": {\"outlinewidth\": 0, \"ticks\": \"\"}}, \"type\": \"histogram\"}], \"histogram2d\": [{\"colorbar\": {\"outlinewidth\": 0, \"ticks\": \"\"}, \"colorscale\": [[0.0, \"#0d0887\"], [0.1111111111111111, \"#46039f\"], [0.2222222222222222, \"#7201a8\"], [0.3333333333333333, \"#9c179e\"], [0.4444444444444444, \"#bd3786\"], [0.5555555555555556, \"#d8576b\"], [0.6666666666666666, \"#ed7953\"], [0.7777777777777778, \"#fb9f3a\"], [0.8888888888888888, \"#fdca26\"], [1.0, \"#f0f921\"]], \"type\": \"histogram2d\"}], \"histogram2dcontour\": [{\"colorbar\": {\"outlinewidth\": 0, \"ticks\": \"\"}, \"colorscale\": [[0.0, \"#0d0887\"], [0.1111111111111111, \"#46039f\"], [0.2222222222222222, \"#7201a8\"], [0.3333333333333333, \"#9c179e\"], [0.4444444444444444, \"#bd3786\"], [0.5555555555555556, \"#d8576b\"], [0.6666666666666666, \"#ed7953\"], [0.7777777777777778, \"#fb9f3a\"], [0.8888888888888888, \"#fdca26\"], [1.0, \"#f0f921\"]], \"type\": \"histogram2dcontour\"}], \"mesh3d\": [{\"colorbar\": {\"outlinewidth\": 0, \"ticks\": \"\"}, \"type\": \"mesh3d\"}], \"parcoords\": [{\"line\": {\"colorbar\": {\"outlinewidth\": 0, \"ticks\": \"\"}}, \"type\": \"parcoords\"}], \"pie\": [{\"automargin\": true, \"type\": \"pie\"}], \"scatter\": [{\"marker\": {\"colorbar\": {\"outlinewidth\": 0, \"ticks\": \"\"}}, \"type\": \"scatter\"}], \"scatter3d\": [{\"line\": {\"colorbar\": {\"outlinewidth\": 0, \"ticks\": \"\"}}, \"marker\": {\"colorbar\": {\"outlinewidth\": 0, \"ticks\": \"\"}}, \"type\": \"scatter3d\"}], \"scattercarpet\": [{\"marker\": {\"colorbar\": {\"outlinewidth\": 0, \"ticks\": \"\"}}, \"type\": \"scattercarpet\"}], \"scattergeo\": [{\"marker\": {\"colorbar\": {\"outlinewidth\": 0, \"ticks\": \"\"}}, \"type\": \"scattergeo\"}], \"scattergl\": [{\"marker\": {\"colorbar\": {\"outlinewidth\": 0, \"ticks\": \"\"}}, \"type\": \"scattergl\"}], \"scattermapbox\": [{\"marker\": {\"colorbar\": {\"outlinewidth\": 0, \"ticks\": \"\"}}, \"type\": \"scattermapbox\"}], \"scatterpolar\": [{\"marker\": {\"colorbar\": {\"outlinewidth\": 0, \"ticks\": \"\"}}, \"type\": \"scatterpolar\"}], \"scatterpolargl\": [{\"marker\": {\"colorbar\": {\"outlinewidth\": 0, \"ticks\": \"\"}}, \"type\": \"scatterpolargl\"}], \"scatterternary\": [{\"marker\": {\"colorbar\": {\"outlinewidth\": 0, \"ticks\": \"\"}}, \"type\": \"scatterternary\"}], \"surface\": [{\"colorbar\": {\"outlinewidth\": 0, \"ticks\": \"\"}, \"colorscale\": [[0.0, \"#0d0887\"], [0.1111111111111111, \"#46039f\"], [0.2222222222222222, \"#7201a8\"], [0.3333333333333333, \"#9c179e\"], [0.4444444444444444, \"#bd3786\"], [0.5555555555555556, \"#d8576b\"], [0.6666666666666666, \"#ed7953\"], [0.7777777777777778, \"#fb9f3a\"], [0.8888888888888888, \"#fdca26\"], [1.0, \"#f0f921\"]], \"type\": \"surface\"}], \"table\": [{\"cells\": {\"fill\": {\"color\": \"#EBF0F8\"}, \"line\": {\"color\": \"white\"}}, \"header\": {\"fill\": {\"color\": \"#C8D4E3\"}, \"line\": {\"color\": \"white\"}}, \"type\": \"table\"}]}, \"layout\": {\"annotationdefaults\": {\"arrowcolor\": \"#2a3f5f\", \"arrowhead\": 0, \"arrowwidth\": 1}, \"autotypenumbers\": \"strict\", \"coloraxis\": {\"colorbar\": {\"outlinewidth\": 0, \"ticks\": \"\"}}, \"colorscale\": {\"diverging\": [[0, \"#8e0152\"], [0.1, \"#c51b7d\"], [0.2, \"#de77ae\"], [0.3, \"#f1b6da\"], [0.4, \"#fde0ef\"], [0.5, \"#f7f7f7\"], [0.6, \"#e6f5d0\"], [0.7, \"#b8e186\"], [0.8, \"#7fbc41\"], [0.9, \"#4d9221\"], [1, \"#276419\"]], \"sequential\": [[0.0, \"#0d0887\"], [0.1111111111111111, \"#46039f\"], [0.2222222222222222, \"#7201a8\"], [0.3333333333333333, \"#9c179e\"], [0.4444444444444444, \"#bd3786\"], [0.5555555555555556, \"#d8576b\"], [0.6666666666666666, \"#ed7953\"], [0.7777777777777778, \"#fb9f3a\"], [0.8888888888888888, \"#fdca26\"], [1.0, \"#f0f921\"]], \"sequentialminus\": [[0.0, \"#0d0887\"], [0.1111111111111111, \"#46039f\"], [0.2222222222222222, \"#7201a8\"], [0.3333333333333333, \"#9c179e\"], [0.4444444444444444, \"#bd3786\"], [0.5555555555555556, \"#d8576b\"], [0.6666666666666666, \"#ed7953\"], [0.7777777777777778, \"#fb9f3a\"], [0.8888888888888888, \"#fdca26\"], [1.0, \"#f0f921\"]]}, \"colorway\": [\"#636efa\", \"#EF553B\", \"#00cc96\", \"#ab63fa\", \"#FFA15A\", \"#19d3f3\", \"#FF6692\", \"#B6E880\", \"#FF97FF\", \"#FECB52\"], \"font\": {\"color\": \"#2a3f5f\"}, \"geo\": {\"bgcolor\": \"white\", \"lakecolor\": \"white\", \"landcolor\": \"#E5ECF6\", \"showlakes\": true, \"showland\": true, \"subunitcolor\": \"white\"}, \"hoverlabel\": {\"align\": \"left\"}, \"hovermode\": \"closest\", \"mapbox\": {\"style\": \"light\"}, \"paper_bgcolor\": \"white\", \"plot_bgcolor\": \"#E5ECF6\", \"polar\": {\"angularaxis\": {\"gridcolor\": \"white\", \"linecolor\": \"white\", \"ticks\": \"\"}, \"bgcolor\": \"#E5ECF6\", \"radialaxis\": {\"gridcolor\": \"white\", \"linecolor\": \"white\", \"ticks\": \"\"}}, \"scene\": {\"xaxis\": {\"backgroundcolor\": \"#E5ECF6\", \"gridcolor\": \"white\", \"gridwidth\": 2, \"linecolor\": \"white\", \"showbackground\": true, \"ticks\": \"\", \"zerolinecolor\": \"white\"}, \"yaxis\": {\"backgroundcolor\": \"#E5ECF6\", \"gridcolor\": \"white\", \"gridwidth\": 2, \"linecolor\": \"white\", \"showbackground\": true, \"ticks\": \"\", \"zerolinecolor\": \"white\"}, \"zaxis\": {\"backgroundcolor\": \"#E5ECF6\", \"gridcolor\": \"white\", \"gridwidth\": 2, \"linecolor\": \"white\", \"showbackground\": true, \"ticks\": \"\", \"zerolinecolor\": \"white\"}}, \"shapedefaults\": {\"line\": {\"color\": \"#2a3f5f\"}}, \"ternary\": {\"aaxis\": {\"gridcolor\": \"white\", \"linecolor\": \"white\", \"ticks\": \"\"}, \"baxis\": {\"gridcolor\": \"white\", \"linecolor\": \"white\", \"ticks\": \"\"}, \"bgcolor\": \"#E5ECF6\", \"caxis\": {\"gridcolor\": \"white\", \"linecolor\": \"white\", \"ticks\": \"\"}}, \"title\": {\"x\": 0.05}, \"xaxis\": {\"automargin\": true, \"gridcolor\": \"white\", \"linecolor\": \"white\", \"ticks\": \"\", \"title\": {\"standoff\": 15}, \"zerolinecolor\": \"white\", \"zerolinewidth\": 2}, \"yaxis\": {\"automargin\": true, \"gridcolor\": \"white\", \"linecolor\": \"white\", \"ticks\": \"\", \"title\": {\"standoff\": 15}, \"zerolinecolor\": \"white\", \"zerolinewidth\": 2}}}, \"title\": {\"text\": \"Distribution of appartments by district\"}, \"width\": 600, \"xaxis\": {\"anchor\": \"y\", \"domain\": [0.0, 1.0], \"title\": {\"text\": \"district\"}}, \"yaxis\": {\"anchor\": \"x\", \"domain\": [0.0, 1.0], \"title\": {\"text\": \"count\"}}},                        {\"responsive\": true}                    ).then(function(){\n",
       "                            \n",
       "var gd = document.getElementById('92fc0556-d021-41c5-b628-098bdc5fd8bf');\n",
       "var x = new MutationObserver(function (mutations, observer) {{\n",
       "        var display = window.getComputedStyle(gd).display;\n",
       "        if (!display || display === 'none') {{\n",
       "            console.log([gd, 'removed!']);\n",
       "            Plotly.purge(gd);\n",
       "            observer.disconnect();\n",
       "        }}\n",
       "}});\n",
       "\n",
       "// Listen for the removal of the full notebook cells\n",
       "var notebookContainer = gd.closest('#notebook-container');\n",
       "if (notebookContainer) {{\n",
       "    x.observe(notebookContainer, {childList: true});\n",
       "}}\n",
       "\n",
       "// Listen for the clearing of the current output cell\n",
       "var outputEl = gd.closest('.output');\n",
       "if (outputEl) {{\n",
       "    x.observe(outputEl, {childList: true});\n",
       "}}\n",
       "\n",
       "                        })                };                });            </script>        </div>"
      ]
     },
     "metadata": {},
     "output_type": "display_data"
    }
   ],
   "source": [
    "import plotly.express as px \n",
    "distr = px.histogram(data, x= 'district', width=600, height=400, title=\"Distribution of appartments by district\")\n",
    "distr.show();"
   ]
  },
  {
   "cell_type": "markdown",
   "metadata": {},
   "source": [
    "The histogram above shows the distribution of appartments for sale in different Almaty districts. It is clear that the most popular one is \"Бостандыкский\", then \"Алмалинский\" and \"Медеуский\". The least popular ones are \"Наурызбайский\" and \"Жетысуйский\"."
   ]
  },
  {
   "cell_type": "code",
   "execution_count": 189,
   "metadata": {
    "scrolled": false
   },
   "outputs": [
    {
     "data": {
      "application/vnd.plotly.v1+json": {
       "config": {
        "plotlyServerURL": "https://plot.ly"
       },
       "data": [
        {
         "alignmentgroup": "True",
         "boxpoints": "all",
         "fillcolor": "rgba(255,255,255,0)",
         "hoveron": "points",
         "hovertemplate": "price=%{x}<br>district=%{y}<extra></extra>",
         "legendgroup": "",
         "line": {
          "color": "rgba(255,255,255,0)"
         },
         "marker": {
          "color": "#636efa"
         },
         "name": "",
         "offsetgroup": "",
         "orientation": "h",
         "pointpos": 0,
         "showlegend": false,
         "type": "box",
         "x": [
          71500000,
          16900000,
          15700000,
          26000000,
          20000000,
          25500000,
          51800000,
          25500000,
          47500000,
          20500000,
          80175000,
          83580000,
          27000000,
          26000000,
          71000000,
          92000000,
          57500000,
          31948600,
          94952972,
          38180000,
          31000000,
          23000000,
          42500000,
          27900000,
          26269000,
          57500000,
          30000000,
          15984000,
          13200000,
          26812500,
          57044000,
          52644600,
          10000000,
          46092000,
          19500000,
          25000000,
          21000000,
          25500000,
          10000000,
          26800000,
          53000000,
          92000000,
          37577100,
          98591615,
          36865000,
          62000000,
          125000000,
          1128000000,
          95000000,
          56000000,
          35000000,
          38000000,
          168000000,
          53000000,
          58000000,
          30500000,
          63000000,
          62000000,
          115000000,
          23000000,
          230000000,
          18500000,
          24000000,
          24000000,
          19500000,
          19500000,
          80340000,
          33354000,
          57800000,
          35000000,
          18072000,
          110000000,
          22500000,
          25000000,
          18700000,
          52000000,
          54500000,
          30000000,
          195000000,
          18259000,
          44000000,
          55000000,
          25999999,
          8800000,
          34743200,
          60196150,
          31537500,
          39858000,
          25000000,
          26500000,
          25400000,
          33463000,
          28080000,
          25822000,
          6999000,
          10008000,
          27900000,
          200000000,
          22500000,
          29000000,
          31000000,
          30294000,
          42081000,
          30294000,
          42081000,
          27871800,
          83835000,
          16000000,
          16000000,
          16800000,
          37000000,
          29838500,
          34945000,
          81000000,
          60156000,
          40722000,
          79500000,
          25000000,
          33390000,
          33500000,
          140000000,
          33986200,
          28950000,
          14000000,
          10656000,
          29000000,
          45000000,
          54060061,
          21000000,
          37800000,
          35000000,
          27400000,
          28500000,
          150000000,
          20150000,
          42576000,
          35000000,
          83982500,
          36264300,
          29600000,
          14520000,
          46500000,
          36000000
         ],
         "x0": " ",
         "xaxis": "x",
         "y": [
          " Бостандыкский р-н",
          " Наурызбайский р-н",
          " Наурызбайский р-н",
          " Турксибский р-н",
          " Ауэзовский р-н",
          " Бостандыкский р-н",
          " Бостандыкский р-н",
          " Алмалинский р-н",
          " Алмалинский р-н",
          " Ауэзовский р-н",
          null,
          " Медеуский р-н",
          " Бостандыкский р-н",
          " Алатауский р-н",
          " Бостандыкский р-н",
          " Медеуский р-н",
          " Алмалинский р-н",
          " Бостандыкский р-н",
          " Медеуский р-н",
          " Ауэзовский р-н",
          " Бостандыкский р-н",
          " Алмалинский р-н",
          " Бостандыкский р-н",
          " Бостандыкский р-н",
          " Бостандыкский р-н",
          null,
          " Турксибский р-н",
          " Турксибский р-н",
          " Жетысуский р-н",
          null,
          " Медеуский р-н",
          " Бостандыкский р-н",
          " Турксибский р-н",
          " Бостандыкский р-н",
          " Алмалинский р-н",
          " Алмалинский р-н",
          " Ауэзовский р-н",
          " Медеуский р-н",
          " Жетысуский р-н",
          " Ауэзовский р-н",
          " Ауэзовский р-н",
          " Медеуский р-н",
          " Бостандыкский р-н",
          " Медеуский р-н",
          " Алмалинский р-н",
          " Алмалинский р-н",
          " Медеуский р-н",
          " Медеуский р-н",
          " Медеуский р-н",
          " Алмалинский р-н",
          " Алмалинский р-н",
          " Алмалинский р-н",
          " Медеуский р-н",
          " Алмалинский р-н",
          " Медеуский р-н",
          " Алмалинский р-н",
          " Алмалинский р-н",
          " Алмалинский р-н",
          " Медеуский р-н",
          " Бостандыкский р-н",
          " Медеуский р-н",
          " Ауэзовский р-н",
          " Алатауский р-н",
          " Алатауский р-н",
          " Ауэзовский р-н",
          " Ауэзовский р-н",
          null,
          " Бостандыкский р-н",
          null,
          " Турксибский р-н",
          " Турксибский р-н",
          " Медеуский р-н",
          " Ауэзовский р-н",
          " Алатауский р-н",
          " Алмалинский р-н",
          " Бостандыкский р-н",
          " Бостандыкский р-н",
          " Медеуский р-н",
          " Медеуский р-н",
          " Алатауский р-н",
          " Бостандыкский р-н",
          " Медеуский р-н",
          " Медеуский р-н",
          " Алмалинский р-н",
          null,
          null,
          " Медеуский р-н",
          " Бостандыкский р-н",
          " Ауэзовский р-н",
          null,
          null,
          " Бостандыкский р-н",
          null,
          " Алмалинский р-н",
          " Турксибский р-н",
          " Турксибский р-н",
          " Бостандыкский р-н",
          " Бостандыкский р-н",
          " Бостандыкский р-н",
          " Ауэзовский р-н",
          " Алмалинский р-н",
          " Бостандыкский р-н",
          " Ауэзовский р-н",
          " Бостандыкский р-н",
          " Ауэзовский р-н",
          null,
          " Бостандыкский р-н",
          " Турксибский р-н",
          " Бостандыкский р-н",
          " Алатауский р-н",
          " Алмалинский р-н",
          " Алмалинский р-н",
          " Медеуский р-н",
          null,
          " Медеуский р-н",
          " Бостандыкский р-н",
          " Бостандыкский р-н",
          " Ауэзовский р-н",
          " Алмалинский р-н",
          " Медеуский р-н",
          " Алмалинский р-н",
          " Бостандыкский р-н",
          null,
          " Турксибский р-н",
          " Турксибский р-н",
          " Ауэзовский р-н",
          " Бостандыкский р-н",
          " Медеуский р-н",
          " Алатауский р-н",
          " Алмалинский р-н",
          " Бостандыкский р-н",
          " Алмалинский р-н",
          " Бостандыкский р-н",
          " Медеуский р-н",
          " Алатауский р-н",
          " Бостандыкский р-н",
          null,
          null,
          " Бостандыкский р-н",
          null,
          " Турксибский р-н",
          " Бостандыкский р-н",
          " Бостандыкский р-н"
         ],
         "y0": " ",
         "yaxis": "y"
        }
       ],
       "layout": {
        "boxmode": "group",
        "height": 500,
        "legend": {
         "tracegroupgap": 0
        },
        "template": {
         "data": {
          "bar": [
           {
            "error_x": {
             "color": "#2a3f5f"
            },
            "error_y": {
             "color": "#2a3f5f"
            },
            "marker": {
             "line": {
              "color": "#E5ECF6",
              "width": 0.5
             }
            },
            "type": "bar"
           }
          ],
          "barpolar": [
           {
            "marker": {
             "line": {
              "color": "#E5ECF6",
              "width": 0.5
             }
            },
            "type": "barpolar"
           }
          ],
          "carpet": [
           {
            "aaxis": {
             "endlinecolor": "#2a3f5f",
             "gridcolor": "white",
             "linecolor": "white",
             "minorgridcolor": "white",
             "startlinecolor": "#2a3f5f"
            },
            "baxis": {
             "endlinecolor": "#2a3f5f",
             "gridcolor": "white",
             "linecolor": "white",
             "minorgridcolor": "white",
             "startlinecolor": "#2a3f5f"
            },
            "type": "carpet"
           }
          ],
          "choropleth": [
           {
            "colorbar": {
             "outlinewidth": 0,
             "ticks": ""
            },
            "type": "choropleth"
           }
          ],
          "contour": [
           {
            "colorbar": {
             "outlinewidth": 0,
             "ticks": ""
            },
            "colorscale": [
             [
              0,
              "#0d0887"
             ],
             [
              0.1111111111111111,
              "#46039f"
             ],
             [
              0.2222222222222222,
              "#7201a8"
             ],
             [
              0.3333333333333333,
              "#9c179e"
             ],
             [
              0.4444444444444444,
              "#bd3786"
             ],
             [
              0.5555555555555556,
              "#d8576b"
             ],
             [
              0.6666666666666666,
              "#ed7953"
             ],
             [
              0.7777777777777778,
              "#fb9f3a"
             ],
             [
              0.8888888888888888,
              "#fdca26"
             ],
             [
              1,
              "#f0f921"
             ]
            ],
            "type": "contour"
           }
          ],
          "contourcarpet": [
           {
            "colorbar": {
             "outlinewidth": 0,
             "ticks": ""
            },
            "type": "contourcarpet"
           }
          ],
          "heatmap": [
           {
            "colorbar": {
             "outlinewidth": 0,
             "ticks": ""
            },
            "colorscale": [
             [
              0,
              "#0d0887"
             ],
             [
              0.1111111111111111,
              "#46039f"
             ],
             [
              0.2222222222222222,
              "#7201a8"
             ],
             [
              0.3333333333333333,
              "#9c179e"
             ],
             [
              0.4444444444444444,
              "#bd3786"
             ],
             [
              0.5555555555555556,
              "#d8576b"
             ],
             [
              0.6666666666666666,
              "#ed7953"
             ],
             [
              0.7777777777777778,
              "#fb9f3a"
             ],
             [
              0.8888888888888888,
              "#fdca26"
             ],
             [
              1,
              "#f0f921"
             ]
            ],
            "type": "heatmap"
           }
          ],
          "heatmapgl": [
           {
            "colorbar": {
             "outlinewidth": 0,
             "ticks": ""
            },
            "colorscale": [
             [
              0,
              "#0d0887"
             ],
             [
              0.1111111111111111,
              "#46039f"
             ],
             [
              0.2222222222222222,
              "#7201a8"
             ],
             [
              0.3333333333333333,
              "#9c179e"
             ],
             [
              0.4444444444444444,
              "#bd3786"
             ],
             [
              0.5555555555555556,
              "#d8576b"
             ],
             [
              0.6666666666666666,
              "#ed7953"
             ],
             [
              0.7777777777777778,
              "#fb9f3a"
             ],
             [
              0.8888888888888888,
              "#fdca26"
             ],
             [
              1,
              "#f0f921"
             ]
            ],
            "type": "heatmapgl"
           }
          ],
          "histogram": [
           {
            "marker": {
             "colorbar": {
              "outlinewidth": 0,
              "ticks": ""
             }
            },
            "type": "histogram"
           }
          ],
          "histogram2d": [
           {
            "colorbar": {
             "outlinewidth": 0,
             "ticks": ""
            },
            "colorscale": [
             [
              0,
              "#0d0887"
             ],
             [
              0.1111111111111111,
              "#46039f"
             ],
             [
              0.2222222222222222,
              "#7201a8"
             ],
             [
              0.3333333333333333,
              "#9c179e"
             ],
             [
              0.4444444444444444,
              "#bd3786"
             ],
             [
              0.5555555555555556,
              "#d8576b"
             ],
             [
              0.6666666666666666,
              "#ed7953"
             ],
             [
              0.7777777777777778,
              "#fb9f3a"
             ],
             [
              0.8888888888888888,
              "#fdca26"
             ],
             [
              1,
              "#f0f921"
             ]
            ],
            "type": "histogram2d"
           }
          ],
          "histogram2dcontour": [
           {
            "colorbar": {
             "outlinewidth": 0,
             "ticks": ""
            },
            "colorscale": [
             [
              0,
              "#0d0887"
             ],
             [
              0.1111111111111111,
              "#46039f"
             ],
             [
              0.2222222222222222,
              "#7201a8"
             ],
             [
              0.3333333333333333,
              "#9c179e"
             ],
             [
              0.4444444444444444,
              "#bd3786"
             ],
             [
              0.5555555555555556,
              "#d8576b"
             ],
             [
              0.6666666666666666,
              "#ed7953"
             ],
             [
              0.7777777777777778,
              "#fb9f3a"
             ],
             [
              0.8888888888888888,
              "#fdca26"
             ],
             [
              1,
              "#f0f921"
             ]
            ],
            "type": "histogram2dcontour"
           }
          ],
          "mesh3d": [
           {
            "colorbar": {
             "outlinewidth": 0,
             "ticks": ""
            },
            "type": "mesh3d"
           }
          ],
          "parcoords": [
           {
            "line": {
             "colorbar": {
              "outlinewidth": 0,
              "ticks": ""
             }
            },
            "type": "parcoords"
           }
          ],
          "pie": [
           {
            "automargin": true,
            "type": "pie"
           }
          ],
          "scatter": [
           {
            "marker": {
             "colorbar": {
              "outlinewidth": 0,
              "ticks": ""
             }
            },
            "type": "scatter"
           }
          ],
          "scatter3d": [
           {
            "line": {
             "colorbar": {
              "outlinewidth": 0,
              "ticks": ""
             }
            },
            "marker": {
             "colorbar": {
              "outlinewidth": 0,
              "ticks": ""
             }
            },
            "type": "scatter3d"
           }
          ],
          "scattercarpet": [
           {
            "marker": {
             "colorbar": {
              "outlinewidth": 0,
              "ticks": ""
             }
            },
            "type": "scattercarpet"
           }
          ],
          "scattergeo": [
           {
            "marker": {
             "colorbar": {
              "outlinewidth": 0,
              "ticks": ""
             }
            },
            "type": "scattergeo"
           }
          ],
          "scattergl": [
           {
            "marker": {
             "colorbar": {
              "outlinewidth": 0,
              "ticks": ""
             }
            },
            "type": "scattergl"
           }
          ],
          "scattermapbox": [
           {
            "marker": {
             "colorbar": {
              "outlinewidth": 0,
              "ticks": ""
             }
            },
            "type": "scattermapbox"
           }
          ],
          "scatterpolar": [
           {
            "marker": {
             "colorbar": {
              "outlinewidth": 0,
              "ticks": ""
             }
            },
            "type": "scatterpolar"
           }
          ],
          "scatterpolargl": [
           {
            "marker": {
             "colorbar": {
              "outlinewidth": 0,
              "ticks": ""
             }
            },
            "type": "scatterpolargl"
           }
          ],
          "scatterternary": [
           {
            "marker": {
             "colorbar": {
              "outlinewidth": 0,
              "ticks": ""
             }
            },
            "type": "scatterternary"
           }
          ],
          "surface": [
           {
            "colorbar": {
             "outlinewidth": 0,
             "ticks": ""
            },
            "colorscale": [
             [
              0,
              "#0d0887"
             ],
             [
              0.1111111111111111,
              "#46039f"
             ],
             [
              0.2222222222222222,
              "#7201a8"
             ],
             [
              0.3333333333333333,
              "#9c179e"
             ],
             [
              0.4444444444444444,
              "#bd3786"
             ],
             [
              0.5555555555555556,
              "#d8576b"
             ],
             [
              0.6666666666666666,
              "#ed7953"
             ],
             [
              0.7777777777777778,
              "#fb9f3a"
             ],
             [
              0.8888888888888888,
              "#fdca26"
             ],
             [
              1,
              "#f0f921"
             ]
            ],
            "type": "surface"
           }
          ],
          "table": [
           {
            "cells": {
             "fill": {
              "color": "#EBF0F8"
             },
             "line": {
              "color": "white"
             }
            },
            "header": {
             "fill": {
              "color": "#C8D4E3"
             },
             "line": {
              "color": "white"
             }
            },
            "type": "table"
           }
          ]
         },
         "layout": {
          "annotationdefaults": {
           "arrowcolor": "#2a3f5f",
           "arrowhead": 0,
           "arrowwidth": 1
          },
          "autotypenumbers": "strict",
          "coloraxis": {
           "colorbar": {
            "outlinewidth": 0,
            "ticks": ""
           }
          },
          "colorscale": {
           "diverging": [
            [
             0,
             "#8e0152"
            ],
            [
             0.1,
             "#c51b7d"
            ],
            [
             0.2,
             "#de77ae"
            ],
            [
             0.3,
             "#f1b6da"
            ],
            [
             0.4,
             "#fde0ef"
            ],
            [
             0.5,
             "#f7f7f7"
            ],
            [
             0.6,
             "#e6f5d0"
            ],
            [
             0.7,
             "#b8e186"
            ],
            [
             0.8,
             "#7fbc41"
            ],
            [
             0.9,
             "#4d9221"
            ],
            [
             1,
             "#276419"
            ]
           ],
           "sequential": [
            [
             0,
             "#0d0887"
            ],
            [
             0.1111111111111111,
             "#46039f"
            ],
            [
             0.2222222222222222,
             "#7201a8"
            ],
            [
             0.3333333333333333,
             "#9c179e"
            ],
            [
             0.4444444444444444,
             "#bd3786"
            ],
            [
             0.5555555555555556,
             "#d8576b"
            ],
            [
             0.6666666666666666,
             "#ed7953"
            ],
            [
             0.7777777777777778,
             "#fb9f3a"
            ],
            [
             0.8888888888888888,
             "#fdca26"
            ],
            [
             1,
             "#f0f921"
            ]
           ],
           "sequentialminus": [
            [
             0,
             "#0d0887"
            ],
            [
             0.1111111111111111,
             "#46039f"
            ],
            [
             0.2222222222222222,
             "#7201a8"
            ],
            [
             0.3333333333333333,
             "#9c179e"
            ],
            [
             0.4444444444444444,
             "#bd3786"
            ],
            [
             0.5555555555555556,
             "#d8576b"
            ],
            [
             0.6666666666666666,
             "#ed7953"
            ],
            [
             0.7777777777777778,
             "#fb9f3a"
            ],
            [
             0.8888888888888888,
             "#fdca26"
            ],
            [
             1,
             "#f0f921"
            ]
           ]
          },
          "colorway": [
           "#636efa",
           "#EF553B",
           "#00cc96",
           "#ab63fa",
           "#FFA15A",
           "#19d3f3",
           "#FF6692",
           "#B6E880",
           "#FF97FF",
           "#FECB52"
          ],
          "font": {
           "color": "#2a3f5f"
          },
          "geo": {
           "bgcolor": "white",
           "lakecolor": "white",
           "landcolor": "#E5ECF6",
           "showlakes": true,
           "showland": true,
           "subunitcolor": "white"
          },
          "hoverlabel": {
           "align": "left"
          },
          "hovermode": "closest",
          "mapbox": {
           "style": "light"
          },
          "paper_bgcolor": "white",
          "plot_bgcolor": "#E5ECF6",
          "polar": {
           "angularaxis": {
            "gridcolor": "white",
            "linecolor": "white",
            "ticks": ""
           },
           "bgcolor": "#E5ECF6",
           "radialaxis": {
            "gridcolor": "white",
            "linecolor": "white",
            "ticks": ""
           }
          },
          "scene": {
           "xaxis": {
            "backgroundcolor": "#E5ECF6",
            "gridcolor": "white",
            "gridwidth": 2,
            "linecolor": "white",
            "showbackground": true,
            "ticks": "",
            "zerolinecolor": "white"
           },
           "yaxis": {
            "backgroundcolor": "#E5ECF6",
            "gridcolor": "white",
            "gridwidth": 2,
            "linecolor": "white",
            "showbackground": true,
            "ticks": "",
            "zerolinecolor": "white"
           },
           "zaxis": {
            "backgroundcolor": "#E5ECF6",
            "gridcolor": "white",
            "gridwidth": 2,
            "linecolor": "white",
            "showbackground": true,
            "ticks": "",
            "zerolinecolor": "white"
           }
          },
          "shapedefaults": {
           "line": {
            "color": "#2a3f5f"
           }
          },
          "ternary": {
           "aaxis": {
            "gridcolor": "white",
            "linecolor": "white",
            "ticks": ""
           },
           "baxis": {
            "gridcolor": "white",
            "linecolor": "white",
            "ticks": ""
           },
           "bgcolor": "#E5ECF6",
           "caxis": {
            "gridcolor": "white",
            "linecolor": "white",
            "ticks": ""
           }
          },
          "title": {
           "x": 0.05
          },
          "xaxis": {
           "automargin": true,
           "gridcolor": "white",
           "linecolor": "white",
           "ticks": "",
           "title": {
            "standoff": 15
           },
           "zerolinecolor": "white",
           "zerolinewidth": 2
          },
          "yaxis": {
           "automargin": true,
           "gridcolor": "white",
           "linecolor": "white",
           "ticks": "",
           "title": {
            "standoff": 15
           },
           "zerolinecolor": "white",
           "zerolinewidth": 2
          }
         }
        },
        "title": {
         "text": "District influence on Price"
        },
        "width": 800,
        "xaxis": {
         "anchor": "y",
         "domain": [
          0,
          1
         ],
         "title": {
          "text": "price"
         }
        },
        "yaxis": {
         "anchor": "x",
         "domain": [
          0,
          1
         ],
         "title": {
          "text": "district"
         }
        }
       }
      },
      "text/html": [
       "<div>                            <div id=\"7ac55224-a378-407b-a3ec-dd759ca4dcab\" class=\"plotly-graph-div\" style=\"height:500px; width:800px;\"></div>            <script type=\"text/javascript\">                require([\"plotly\"], function(Plotly) {                    window.PLOTLYENV=window.PLOTLYENV || {};                                    if (document.getElementById(\"7ac55224-a378-407b-a3ec-dd759ca4dcab\")) {                    Plotly.newPlot(                        \"7ac55224-a378-407b-a3ec-dd759ca4dcab\",                        [{\"alignmentgroup\": \"True\", \"boxpoints\": \"all\", \"fillcolor\": \"rgba(255,255,255,0)\", \"hoveron\": \"points\", \"hovertemplate\": \"price=%{x}<br>district=%{y}<extra></extra>\", \"legendgroup\": \"\", \"line\": {\"color\": \"rgba(255,255,255,0)\"}, \"marker\": {\"color\": \"#636efa\"}, \"name\": \"\", \"offsetgroup\": \"\", \"orientation\": \"h\", \"pointpos\": 0, \"showlegend\": false, \"type\": \"box\", \"x\": [71500000, 16900000, 15700000, 26000000, 20000000, 25500000, 51800000, 25500000, 47500000, 20500000, 80175000, 83580000, 27000000, 26000000, 71000000, 92000000, 57500000, 31948600, 94952972, 38180000, 31000000, 23000000, 42500000, 27900000, 26269000, 57500000, 30000000, 15984000, 13200000, 26812500, 57044000, 52644600, 10000000, 46092000, 19500000, 25000000, 21000000, 25500000, 10000000, 26800000, 53000000, 92000000, 37577100, 98591615, 36865000, 62000000, 125000000, 1128000000, 95000000, 56000000, 35000000, 38000000, 168000000, 53000000, 58000000, 30500000, 63000000, 62000000, 115000000, 23000000, 230000000, 18500000, 24000000, 24000000, 19500000, 19500000, 80340000, 33354000, 57800000, 35000000, 18072000, 110000000, 22500000, 25000000, 18700000, 52000000, 54500000, 30000000, 195000000, 18259000, 44000000, 55000000, 25999999, 8800000, 34743200, 60196150, 31537500, 39858000, 25000000, 26500000, 25400000, 33463000, 28080000, 25822000, 6999000, 10008000, 27900000, 200000000, 22500000, 29000000, 31000000, 30294000, 42081000, 30294000, 42081000, 27871800, 83835000, 16000000, 16000000, 16800000, 37000000, 29838500, 34945000, 81000000, 60156000, 40722000, 79500000, 25000000, 33390000, 33500000, 140000000, 33986200, 28950000, 14000000, 10656000, 29000000, 45000000, 54060061, 21000000, 37800000, 35000000, 27400000, 28500000, 150000000, 20150000, 42576000, 35000000, 83982500, 36264300, 29600000, 14520000, 46500000, 36000000], \"x0\": \" \", \"xaxis\": \"x\", \"y\": [\" \\u0411\\u043e\\u0441\\u0442\\u0430\\u043d\\u0434\\u044b\\u043a\\u0441\\u043a\\u0438\\u0439 \\u0440-\\u043d\", \" \\u041d\\u0430\\u0443\\u0440\\u044b\\u0437\\u0431\\u0430\\u0439\\u0441\\u043a\\u0438\\u0439 \\u0440-\\u043d\", \" \\u041d\\u0430\\u0443\\u0440\\u044b\\u0437\\u0431\\u0430\\u0439\\u0441\\u043a\\u0438\\u0439 \\u0440-\\u043d\", \" \\u0422\\u0443\\u0440\\u043a\\u0441\\u0438\\u0431\\u0441\\u043a\\u0438\\u0439 \\u0440-\\u043d\", \" \\u0410\\u0443\\u044d\\u0437\\u043e\\u0432\\u0441\\u043a\\u0438\\u0439 \\u0440-\\u043d\", \" \\u0411\\u043e\\u0441\\u0442\\u0430\\u043d\\u0434\\u044b\\u043a\\u0441\\u043a\\u0438\\u0439 \\u0440-\\u043d\", \" \\u0411\\u043e\\u0441\\u0442\\u0430\\u043d\\u0434\\u044b\\u043a\\u0441\\u043a\\u0438\\u0439 \\u0440-\\u043d\", \" \\u0410\\u043b\\u043c\\u0430\\u043b\\u0438\\u043d\\u0441\\u043a\\u0438\\u0439 \\u0440-\\u043d\", \" \\u0410\\u043b\\u043c\\u0430\\u043b\\u0438\\u043d\\u0441\\u043a\\u0438\\u0439 \\u0440-\\u043d\", \" \\u0410\\u0443\\u044d\\u0437\\u043e\\u0432\\u0441\\u043a\\u0438\\u0439 \\u0440-\\u043d\", null, \" \\u041c\\u0435\\u0434\\u0435\\u0443\\u0441\\u043a\\u0438\\u0439 \\u0440-\\u043d\", \" \\u0411\\u043e\\u0441\\u0442\\u0430\\u043d\\u0434\\u044b\\u043a\\u0441\\u043a\\u0438\\u0439 \\u0440-\\u043d\", \" \\u0410\\u043b\\u0430\\u0442\\u0430\\u0443\\u0441\\u043a\\u0438\\u0439 \\u0440-\\u043d\", \" \\u0411\\u043e\\u0441\\u0442\\u0430\\u043d\\u0434\\u044b\\u043a\\u0441\\u043a\\u0438\\u0439 \\u0440-\\u043d\", \" \\u041c\\u0435\\u0434\\u0435\\u0443\\u0441\\u043a\\u0438\\u0439 \\u0440-\\u043d\", \" \\u0410\\u043b\\u043c\\u0430\\u043b\\u0438\\u043d\\u0441\\u043a\\u0438\\u0439 \\u0440-\\u043d\", \" \\u0411\\u043e\\u0441\\u0442\\u0430\\u043d\\u0434\\u044b\\u043a\\u0441\\u043a\\u0438\\u0439 \\u0440-\\u043d\", \" \\u041c\\u0435\\u0434\\u0435\\u0443\\u0441\\u043a\\u0438\\u0439 \\u0440-\\u043d\", \" \\u0410\\u0443\\u044d\\u0437\\u043e\\u0432\\u0441\\u043a\\u0438\\u0439 \\u0440-\\u043d\", \" \\u0411\\u043e\\u0441\\u0442\\u0430\\u043d\\u0434\\u044b\\u043a\\u0441\\u043a\\u0438\\u0439 \\u0440-\\u043d\", \" \\u0410\\u043b\\u043c\\u0430\\u043b\\u0438\\u043d\\u0441\\u043a\\u0438\\u0439 \\u0440-\\u043d\", \" \\u0411\\u043e\\u0441\\u0442\\u0430\\u043d\\u0434\\u044b\\u043a\\u0441\\u043a\\u0438\\u0439 \\u0440-\\u043d\", \" \\u0411\\u043e\\u0441\\u0442\\u0430\\u043d\\u0434\\u044b\\u043a\\u0441\\u043a\\u0438\\u0439 \\u0440-\\u043d\", \" \\u0411\\u043e\\u0441\\u0442\\u0430\\u043d\\u0434\\u044b\\u043a\\u0441\\u043a\\u0438\\u0439 \\u0440-\\u043d\", null, \" \\u0422\\u0443\\u0440\\u043a\\u0441\\u0438\\u0431\\u0441\\u043a\\u0438\\u0439 \\u0440-\\u043d\", \" \\u0422\\u0443\\u0440\\u043a\\u0441\\u0438\\u0431\\u0441\\u043a\\u0438\\u0439 \\u0440-\\u043d\", \" \\u0416\\u0435\\u0442\\u044b\\u0441\\u0443\\u0441\\u043a\\u0438\\u0439 \\u0440-\\u043d\", null, \" \\u041c\\u0435\\u0434\\u0435\\u0443\\u0441\\u043a\\u0438\\u0439 \\u0440-\\u043d\", \" \\u0411\\u043e\\u0441\\u0442\\u0430\\u043d\\u0434\\u044b\\u043a\\u0441\\u043a\\u0438\\u0439 \\u0440-\\u043d\", \" \\u0422\\u0443\\u0440\\u043a\\u0441\\u0438\\u0431\\u0441\\u043a\\u0438\\u0439 \\u0440-\\u043d\", \" \\u0411\\u043e\\u0441\\u0442\\u0430\\u043d\\u0434\\u044b\\u043a\\u0441\\u043a\\u0438\\u0439 \\u0440-\\u043d\", \" \\u0410\\u043b\\u043c\\u0430\\u043b\\u0438\\u043d\\u0441\\u043a\\u0438\\u0439 \\u0440-\\u043d\", \" \\u0410\\u043b\\u043c\\u0430\\u043b\\u0438\\u043d\\u0441\\u043a\\u0438\\u0439 \\u0440-\\u043d\", \" \\u0410\\u0443\\u044d\\u0437\\u043e\\u0432\\u0441\\u043a\\u0438\\u0439 \\u0440-\\u043d\", \" \\u041c\\u0435\\u0434\\u0435\\u0443\\u0441\\u043a\\u0438\\u0439 \\u0440-\\u043d\", \" \\u0416\\u0435\\u0442\\u044b\\u0441\\u0443\\u0441\\u043a\\u0438\\u0439 \\u0440-\\u043d\", \" \\u0410\\u0443\\u044d\\u0437\\u043e\\u0432\\u0441\\u043a\\u0438\\u0439 \\u0440-\\u043d\", \" \\u0410\\u0443\\u044d\\u0437\\u043e\\u0432\\u0441\\u043a\\u0438\\u0439 \\u0440-\\u043d\", \" \\u041c\\u0435\\u0434\\u0435\\u0443\\u0441\\u043a\\u0438\\u0439 \\u0440-\\u043d\", \" \\u0411\\u043e\\u0441\\u0442\\u0430\\u043d\\u0434\\u044b\\u043a\\u0441\\u043a\\u0438\\u0439 \\u0440-\\u043d\", \" \\u041c\\u0435\\u0434\\u0435\\u0443\\u0441\\u043a\\u0438\\u0439 \\u0440-\\u043d\", \" \\u0410\\u043b\\u043c\\u0430\\u043b\\u0438\\u043d\\u0441\\u043a\\u0438\\u0439 \\u0440-\\u043d\", \" \\u0410\\u043b\\u043c\\u0430\\u043b\\u0438\\u043d\\u0441\\u043a\\u0438\\u0439 \\u0440-\\u043d\", \" \\u041c\\u0435\\u0434\\u0435\\u0443\\u0441\\u043a\\u0438\\u0439 \\u0440-\\u043d\", \" \\u041c\\u0435\\u0434\\u0435\\u0443\\u0441\\u043a\\u0438\\u0439 \\u0440-\\u043d\", \" \\u041c\\u0435\\u0434\\u0435\\u0443\\u0441\\u043a\\u0438\\u0439 \\u0440-\\u043d\", \" \\u0410\\u043b\\u043c\\u0430\\u043b\\u0438\\u043d\\u0441\\u043a\\u0438\\u0439 \\u0440-\\u043d\", \" \\u0410\\u043b\\u043c\\u0430\\u043b\\u0438\\u043d\\u0441\\u043a\\u0438\\u0439 \\u0440-\\u043d\", \" \\u0410\\u043b\\u043c\\u0430\\u043b\\u0438\\u043d\\u0441\\u043a\\u0438\\u0439 \\u0440-\\u043d\", \" \\u041c\\u0435\\u0434\\u0435\\u0443\\u0441\\u043a\\u0438\\u0439 \\u0440-\\u043d\", \" \\u0410\\u043b\\u043c\\u0430\\u043b\\u0438\\u043d\\u0441\\u043a\\u0438\\u0439 \\u0440-\\u043d\", \" \\u041c\\u0435\\u0434\\u0435\\u0443\\u0441\\u043a\\u0438\\u0439 \\u0440-\\u043d\", \" \\u0410\\u043b\\u043c\\u0430\\u043b\\u0438\\u043d\\u0441\\u043a\\u0438\\u0439 \\u0440-\\u043d\", \" \\u0410\\u043b\\u043c\\u0430\\u043b\\u0438\\u043d\\u0441\\u043a\\u0438\\u0439 \\u0440-\\u043d\", \" \\u0410\\u043b\\u043c\\u0430\\u043b\\u0438\\u043d\\u0441\\u043a\\u0438\\u0439 \\u0440-\\u043d\", \" \\u041c\\u0435\\u0434\\u0435\\u0443\\u0441\\u043a\\u0438\\u0439 \\u0440-\\u043d\", \" \\u0411\\u043e\\u0441\\u0442\\u0430\\u043d\\u0434\\u044b\\u043a\\u0441\\u043a\\u0438\\u0439 \\u0440-\\u043d\", \" \\u041c\\u0435\\u0434\\u0435\\u0443\\u0441\\u043a\\u0438\\u0439 \\u0440-\\u043d\", \" \\u0410\\u0443\\u044d\\u0437\\u043e\\u0432\\u0441\\u043a\\u0438\\u0439 \\u0440-\\u043d\", \" \\u0410\\u043b\\u0430\\u0442\\u0430\\u0443\\u0441\\u043a\\u0438\\u0439 \\u0440-\\u043d\", \" \\u0410\\u043b\\u0430\\u0442\\u0430\\u0443\\u0441\\u043a\\u0438\\u0439 \\u0440-\\u043d\", \" \\u0410\\u0443\\u044d\\u0437\\u043e\\u0432\\u0441\\u043a\\u0438\\u0439 \\u0440-\\u043d\", \" \\u0410\\u0443\\u044d\\u0437\\u043e\\u0432\\u0441\\u043a\\u0438\\u0439 \\u0440-\\u043d\", null, \" \\u0411\\u043e\\u0441\\u0442\\u0430\\u043d\\u0434\\u044b\\u043a\\u0441\\u043a\\u0438\\u0439 \\u0440-\\u043d\", null, \" \\u0422\\u0443\\u0440\\u043a\\u0441\\u0438\\u0431\\u0441\\u043a\\u0438\\u0439 \\u0440-\\u043d\", \" \\u0422\\u0443\\u0440\\u043a\\u0441\\u0438\\u0431\\u0441\\u043a\\u0438\\u0439 \\u0440-\\u043d\", \" \\u041c\\u0435\\u0434\\u0435\\u0443\\u0441\\u043a\\u0438\\u0439 \\u0440-\\u043d\", \" \\u0410\\u0443\\u044d\\u0437\\u043e\\u0432\\u0441\\u043a\\u0438\\u0439 \\u0440-\\u043d\", \" \\u0410\\u043b\\u0430\\u0442\\u0430\\u0443\\u0441\\u043a\\u0438\\u0439 \\u0440-\\u043d\", \" \\u0410\\u043b\\u043c\\u0430\\u043b\\u0438\\u043d\\u0441\\u043a\\u0438\\u0439 \\u0440-\\u043d\", \" \\u0411\\u043e\\u0441\\u0442\\u0430\\u043d\\u0434\\u044b\\u043a\\u0441\\u043a\\u0438\\u0439 \\u0440-\\u043d\", \" \\u0411\\u043e\\u0441\\u0442\\u0430\\u043d\\u0434\\u044b\\u043a\\u0441\\u043a\\u0438\\u0439 \\u0440-\\u043d\", \" \\u041c\\u0435\\u0434\\u0435\\u0443\\u0441\\u043a\\u0438\\u0439 \\u0440-\\u043d\", \" \\u041c\\u0435\\u0434\\u0435\\u0443\\u0441\\u043a\\u0438\\u0439 \\u0440-\\u043d\", \" \\u0410\\u043b\\u0430\\u0442\\u0430\\u0443\\u0441\\u043a\\u0438\\u0439 \\u0440-\\u043d\", \" \\u0411\\u043e\\u0441\\u0442\\u0430\\u043d\\u0434\\u044b\\u043a\\u0441\\u043a\\u0438\\u0439 \\u0440-\\u043d\", \" \\u041c\\u0435\\u0434\\u0435\\u0443\\u0441\\u043a\\u0438\\u0439 \\u0440-\\u043d\", \" \\u041c\\u0435\\u0434\\u0435\\u0443\\u0441\\u043a\\u0438\\u0439 \\u0440-\\u043d\", \" \\u0410\\u043b\\u043c\\u0430\\u043b\\u0438\\u043d\\u0441\\u043a\\u0438\\u0439 \\u0440-\\u043d\", null, null, \" \\u041c\\u0435\\u0434\\u0435\\u0443\\u0441\\u043a\\u0438\\u0439 \\u0440-\\u043d\", \" \\u0411\\u043e\\u0441\\u0442\\u0430\\u043d\\u0434\\u044b\\u043a\\u0441\\u043a\\u0438\\u0439 \\u0440-\\u043d\", \" \\u0410\\u0443\\u044d\\u0437\\u043e\\u0432\\u0441\\u043a\\u0438\\u0439 \\u0440-\\u043d\", null, null, \" \\u0411\\u043e\\u0441\\u0442\\u0430\\u043d\\u0434\\u044b\\u043a\\u0441\\u043a\\u0438\\u0439 \\u0440-\\u043d\", null, \" \\u0410\\u043b\\u043c\\u0430\\u043b\\u0438\\u043d\\u0441\\u043a\\u0438\\u0439 \\u0440-\\u043d\", \" \\u0422\\u0443\\u0440\\u043a\\u0441\\u0438\\u0431\\u0441\\u043a\\u0438\\u0439 \\u0440-\\u043d\", \" \\u0422\\u0443\\u0440\\u043a\\u0441\\u0438\\u0431\\u0441\\u043a\\u0438\\u0439 \\u0440-\\u043d\", \" \\u0411\\u043e\\u0441\\u0442\\u0430\\u043d\\u0434\\u044b\\u043a\\u0441\\u043a\\u0438\\u0439 \\u0440-\\u043d\", \" \\u0411\\u043e\\u0441\\u0442\\u0430\\u043d\\u0434\\u044b\\u043a\\u0441\\u043a\\u0438\\u0439 \\u0440-\\u043d\", \" \\u0411\\u043e\\u0441\\u0442\\u0430\\u043d\\u0434\\u044b\\u043a\\u0441\\u043a\\u0438\\u0439 \\u0440-\\u043d\", \" \\u0410\\u0443\\u044d\\u0437\\u043e\\u0432\\u0441\\u043a\\u0438\\u0439 \\u0440-\\u043d\", \" \\u0410\\u043b\\u043c\\u0430\\u043b\\u0438\\u043d\\u0441\\u043a\\u0438\\u0439 \\u0440-\\u043d\", \" \\u0411\\u043e\\u0441\\u0442\\u0430\\u043d\\u0434\\u044b\\u043a\\u0441\\u043a\\u0438\\u0439 \\u0440-\\u043d\", \" \\u0410\\u0443\\u044d\\u0437\\u043e\\u0432\\u0441\\u043a\\u0438\\u0439 \\u0440-\\u043d\", \" \\u0411\\u043e\\u0441\\u0442\\u0430\\u043d\\u0434\\u044b\\u043a\\u0441\\u043a\\u0438\\u0439 \\u0440-\\u043d\", \" \\u0410\\u0443\\u044d\\u0437\\u043e\\u0432\\u0441\\u043a\\u0438\\u0439 \\u0440-\\u043d\", null, \" \\u0411\\u043e\\u0441\\u0442\\u0430\\u043d\\u0434\\u044b\\u043a\\u0441\\u043a\\u0438\\u0439 \\u0440-\\u043d\", \" \\u0422\\u0443\\u0440\\u043a\\u0441\\u0438\\u0431\\u0441\\u043a\\u0438\\u0439 \\u0440-\\u043d\", \" \\u0411\\u043e\\u0441\\u0442\\u0430\\u043d\\u0434\\u044b\\u043a\\u0441\\u043a\\u0438\\u0439 \\u0440-\\u043d\", \" \\u0410\\u043b\\u0430\\u0442\\u0430\\u0443\\u0441\\u043a\\u0438\\u0439 \\u0440-\\u043d\", \" \\u0410\\u043b\\u043c\\u0430\\u043b\\u0438\\u043d\\u0441\\u043a\\u0438\\u0439 \\u0440-\\u043d\", \" \\u0410\\u043b\\u043c\\u0430\\u043b\\u0438\\u043d\\u0441\\u043a\\u0438\\u0439 \\u0440-\\u043d\", \" \\u041c\\u0435\\u0434\\u0435\\u0443\\u0441\\u043a\\u0438\\u0439 \\u0440-\\u043d\", null, \" \\u041c\\u0435\\u0434\\u0435\\u0443\\u0441\\u043a\\u0438\\u0439 \\u0440-\\u043d\", \" \\u0411\\u043e\\u0441\\u0442\\u0430\\u043d\\u0434\\u044b\\u043a\\u0441\\u043a\\u0438\\u0439 \\u0440-\\u043d\", \" \\u0411\\u043e\\u0441\\u0442\\u0430\\u043d\\u0434\\u044b\\u043a\\u0441\\u043a\\u0438\\u0439 \\u0440-\\u043d\", \" \\u0410\\u0443\\u044d\\u0437\\u043e\\u0432\\u0441\\u043a\\u0438\\u0439 \\u0440-\\u043d\", \" \\u0410\\u043b\\u043c\\u0430\\u043b\\u0438\\u043d\\u0441\\u043a\\u0438\\u0439 \\u0440-\\u043d\", \" \\u041c\\u0435\\u0434\\u0435\\u0443\\u0441\\u043a\\u0438\\u0439 \\u0440-\\u043d\", \" \\u0410\\u043b\\u043c\\u0430\\u043b\\u0438\\u043d\\u0441\\u043a\\u0438\\u0439 \\u0440-\\u043d\", \" \\u0411\\u043e\\u0441\\u0442\\u0430\\u043d\\u0434\\u044b\\u043a\\u0441\\u043a\\u0438\\u0439 \\u0440-\\u043d\", null, \" \\u0422\\u0443\\u0440\\u043a\\u0441\\u0438\\u0431\\u0441\\u043a\\u0438\\u0439 \\u0440-\\u043d\", \" \\u0422\\u0443\\u0440\\u043a\\u0441\\u0438\\u0431\\u0441\\u043a\\u0438\\u0439 \\u0440-\\u043d\", \" \\u0410\\u0443\\u044d\\u0437\\u043e\\u0432\\u0441\\u043a\\u0438\\u0439 \\u0440-\\u043d\", \" \\u0411\\u043e\\u0441\\u0442\\u0430\\u043d\\u0434\\u044b\\u043a\\u0441\\u043a\\u0438\\u0439 \\u0440-\\u043d\", \" \\u041c\\u0435\\u0434\\u0435\\u0443\\u0441\\u043a\\u0438\\u0439 \\u0440-\\u043d\", \" \\u0410\\u043b\\u0430\\u0442\\u0430\\u0443\\u0441\\u043a\\u0438\\u0439 \\u0440-\\u043d\", \" \\u0410\\u043b\\u043c\\u0430\\u043b\\u0438\\u043d\\u0441\\u043a\\u0438\\u0439 \\u0440-\\u043d\", \" \\u0411\\u043e\\u0441\\u0442\\u0430\\u043d\\u0434\\u044b\\u043a\\u0441\\u043a\\u0438\\u0439 \\u0440-\\u043d\", \" \\u0410\\u043b\\u043c\\u0430\\u043b\\u0438\\u043d\\u0441\\u043a\\u0438\\u0439 \\u0440-\\u043d\", \" \\u0411\\u043e\\u0441\\u0442\\u0430\\u043d\\u0434\\u044b\\u043a\\u0441\\u043a\\u0438\\u0439 \\u0440-\\u043d\", \" \\u041c\\u0435\\u0434\\u0435\\u0443\\u0441\\u043a\\u0438\\u0439 \\u0440-\\u043d\", \" \\u0410\\u043b\\u0430\\u0442\\u0430\\u0443\\u0441\\u043a\\u0438\\u0439 \\u0440-\\u043d\", \" \\u0411\\u043e\\u0441\\u0442\\u0430\\u043d\\u0434\\u044b\\u043a\\u0441\\u043a\\u0438\\u0439 \\u0440-\\u043d\", null, null, \" \\u0411\\u043e\\u0441\\u0442\\u0430\\u043d\\u0434\\u044b\\u043a\\u0441\\u043a\\u0438\\u0439 \\u0440-\\u043d\", null, \" \\u0422\\u0443\\u0440\\u043a\\u0441\\u0438\\u0431\\u0441\\u043a\\u0438\\u0439 \\u0440-\\u043d\", \" \\u0411\\u043e\\u0441\\u0442\\u0430\\u043d\\u0434\\u044b\\u043a\\u0441\\u043a\\u0438\\u0439 \\u0440-\\u043d\", \" \\u0411\\u043e\\u0441\\u0442\\u0430\\u043d\\u0434\\u044b\\u043a\\u0441\\u043a\\u0438\\u0439 \\u0440-\\u043d\"], \"y0\": \" \", \"yaxis\": \"y\"}],                        {\"boxmode\": \"group\", \"height\": 500, \"legend\": {\"tracegroupgap\": 0}, \"template\": {\"data\": {\"bar\": [{\"error_x\": {\"color\": \"#2a3f5f\"}, \"error_y\": {\"color\": \"#2a3f5f\"}, \"marker\": {\"line\": {\"color\": \"#E5ECF6\", \"width\": 0.5}}, \"type\": \"bar\"}], \"barpolar\": [{\"marker\": {\"line\": {\"color\": \"#E5ECF6\", \"width\": 0.5}}, \"type\": \"barpolar\"}], \"carpet\": [{\"aaxis\": {\"endlinecolor\": \"#2a3f5f\", \"gridcolor\": \"white\", \"linecolor\": \"white\", \"minorgridcolor\": \"white\", \"startlinecolor\": \"#2a3f5f\"}, \"baxis\": {\"endlinecolor\": \"#2a3f5f\", \"gridcolor\": \"white\", \"linecolor\": \"white\", \"minorgridcolor\": \"white\", \"startlinecolor\": \"#2a3f5f\"}, \"type\": \"carpet\"}], \"choropleth\": [{\"colorbar\": {\"outlinewidth\": 0, \"ticks\": \"\"}, \"type\": \"choropleth\"}], \"contour\": [{\"colorbar\": {\"outlinewidth\": 0, \"ticks\": \"\"}, \"colorscale\": [[0.0, \"#0d0887\"], [0.1111111111111111, \"#46039f\"], [0.2222222222222222, \"#7201a8\"], [0.3333333333333333, \"#9c179e\"], [0.4444444444444444, \"#bd3786\"], [0.5555555555555556, \"#d8576b\"], [0.6666666666666666, \"#ed7953\"], [0.7777777777777778, \"#fb9f3a\"], [0.8888888888888888, \"#fdca26\"], [1.0, \"#f0f921\"]], \"type\": \"contour\"}], \"contourcarpet\": [{\"colorbar\": {\"outlinewidth\": 0, \"ticks\": \"\"}, \"type\": \"contourcarpet\"}], \"heatmap\": [{\"colorbar\": {\"outlinewidth\": 0, \"ticks\": \"\"}, \"colorscale\": [[0.0, \"#0d0887\"], [0.1111111111111111, \"#46039f\"], [0.2222222222222222, \"#7201a8\"], [0.3333333333333333, \"#9c179e\"], [0.4444444444444444, \"#bd3786\"], [0.5555555555555556, \"#d8576b\"], [0.6666666666666666, \"#ed7953\"], [0.7777777777777778, \"#fb9f3a\"], [0.8888888888888888, \"#fdca26\"], [1.0, \"#f0f921\"]], \"type\": \"heatmap\"}], \"heatmapgl\": [{\"colorbar\": {\"outlinewidth\": 0, \"ticks\": \"\"}, \"colorscale\": [[0.0, \"#0d0887\"], [0.1111111111111111, \"#46039f\"], [0.2222222222222222, \"#7201a8\"], [0.3333333333333333, \"#9c179e\"], [0.4444444444444444, \"#bd3786\"], [0.5555555555555556, \"#d8576b\"], [0.6666666666666666, \"#ed7953\"], [0.7777777777777778, \"#fb9f3a\"], [0.8888888888888888, \"#fdca26\"], [1.0, \"#f0f921\"]], \"type\": \"heatmapgl\"}], \"histogram\": [{\"marker\": {\"colorbar\": {\"outlinewidth\": 0, \"ticks\": \"\"}}, \"type\": \"histogram\"}], \"histogram2d\": [{\"colorbar\": {\"outlinewidth\": 0, \"ticks\": \"\"}, \"colorscale\": [[0.0, \"#0d0887\"], [0.1111111111111111, \"#46039f\"], [0.2222222222222222, \"#7201a8\"], [0.3333333333333333, \"#9c179e\"], [0.4444444444444444, \"#bd3786\"], [0.5555555555555556, \"#d8576b\"], [0.6666666666666666, \"#ed7953\"], [0.7777777777777778, \"#fb9f3a\"], [0.8888888888888888, \"#fdca26\"], [1.0, \"#f0f921\"]], \"type\": \"histogram2d\"}], \"histogram2dcontour\": [{\"colorbar\": {\"outlinewidth\": 0, \"ticks\": \"\"}, \"colorscale\": [[0.0, \"#0d0887\"], [0.1111111111111111, \"#46039f\"], [0.2222222222222222, \"#7201a8\"], [0.3333333333333333, \"#9c179e\"], [0.4444444444444444, \"#bd3786\"], [0.5555555555555556, \"#d8576b\"], [0.6666666666666666, \"#ed7953\"], [0.7777777777777778, \"#fb9f3a\"], [0.8888888888888888, \"#fdca26\"], [1.0, \"#f0f921\"]], \"type\": \"histogram2dcontour\"}], \"mesh3d\": [{\"colorbar\": {\"outlinewidth\": 0, \"ticks\": \"\"}, \"type\": \"mesh3d\"}], \"parcoords\": [{\"line\": {\"colorbar\": {\"outlinewidth\": 0, \"ticks\": \"\"}}, \"type\": \"parcoords\"}], \"pie\": [{\"automargin\": true, \"type\": \"pie\"}], \"scatter\": [{\"marker\": {\"colorbar\": {\"outlinewidth\": 0, \"ticks\": \"\"}}, \"type\": \"scatter\"}], \"scatter3d\": [{\"line\": {\"colorbar\": {\"outlinewidth\": 0, \"ticks\": \"\"}}, \"marker\": {\"colorbar\": {\"outlinewidth\": 0, \"ticks\": \"\"}}, \"type\": \"scatter3d\"}], \"scattercarpet\": [{\"marker\": {\"colorbar\": {\"outlinewidth\": 0, \"ticks\": \"\"}}, \"type\": \"scattercarpet\"}], \"scattergeo\": [{\"marker\": {\"colorbar\": {\"outlinewidth\": 0, \"ticks\": \"\"}}, \"type\": \"scattergeo\"}], \"scattergl\": [{\"marker\": {\"colorbar\": {\"outlinewidth\": 0, \"ticks\": \"\"}}, \"type\": \"scattergl\"}], \"scattermapbox\": [{\"marker\": {\"colorbar\": {\"outlinewidth\": 0, \"ticks\": \"\"}}, \"type\": \"scattermapbox\"}], \"scatterpolar\": [{\"marker\": {\"colorbar\": {\"outlinewidth\": 0, \"ticks\": \"\"}}, \"type\": \"scatterpolar\"}], \"scatterpolargl\": [{\"marker\": {\"colorbar\": {\"outlinewidth\": 0, \"ticks\": \"\"}}, \"type\": \"scatterpolargl\"}], \"scatterternary\": [{\"marker\": {\"colorbar\": {\"outlinewidth\": 0, \"ticks\": \"\"}}, \"type\": \"scatterternary\"}], \"surface\": [{\"colorbar\": {\"outlinewidth\": 0, \"ticks\": \"\"}, \"colorscale\": [[0.0, \"#0d0887\"], [0.1111111111111111, \"#46039f\"], [0.2222222222222222, \"#7201a8\"], [0.3333333333333333, \"#9c179e\"], [0.4444444444444444, \"#bd3786\"], [0.5555555555555556, \"#d8576b\"], [0.6666666666666666, \"#ed7953\"], [0.7777777777777778, \"#fb9f3a\"], [0.8888888888888888, \"#fdca26\"], [1.0, \"#f0f921\"]], \"type\": \"surface\"}], \"table\": [{\"cells\": {\"fill\": {\"color\": \"#EBF0F8\"}, \"line\": {\"color\": \"white\"}}, \"header\": {\"fill\": {\"color\": \"#C8D4E3\"}, \"line\": {\"color\": \"white\"}}, \"type\": \"table\"}]}, \"layout\": {\"annotationdefaults\": {\"arrowcolor\": \"#2a3f5f\", \"arrowhead\": 0, \"arrowwidth\": 1}, \"autotypenumbers\": \"strict\", \"coloraxis\": {\"colorbar\": {\"outlinewidth\": 0, \"ticks\": \"\"}}, \"colorscale\": {\"diverging\": [[0, \"#8e0152\"], [0.1, \"#c51b7d\"], [0.2, \"#de77ae\"], [0.3, \"#f1b6da\"], [0.4, \"#fde0ef\"], [0.5, \"#f7f7f7\"], [0.6, \"#e6f5d0\"], [0.7, \"#b8e186\"], [0.8, \"#7fbc41\"], [0.9, \"#4d9221\"], [1, \"#276419\"]], \"sequential\": [[0.0, \"#0d0887\"], [0.1111111111111111, \"#46039f\"], [0.2222222222222222, \"#7201a8\"], [0.3333333333333333, \"#9c179e\"], [0.4444444444444444, \"#bd3786\"], [0.5555555555555556, \"#d8576b\"], [0.6666666666666666, \"#ed7953\"], [0.7777777777777778, \"#fb9f3a\"], [0.8888888888888888, \"#fdca26\"], [1.0, \"#f0f921\"]], \"sequentialminus\": [[0.0, \"#0d0887\"], [0.1111111111111111, \"#46039f\"], [0.2222222222222222, \"#7201a8\"], [0.3333333333333333, \"#9c179e\"], [0.4444444444444444, \"#bd3786\"], [0.5555555555555556, \"#d8576b\"], [0.6666666666666666, \"#ed7953\"], [0.7777777777777778, \"#fb9f3a\"], [0.8888888888888888, \"#fdca26\"], [1.0, \"#f0f921\"]]}, \"colorway\": [\"#636efa\", \"#EF553B\", \"#00cc96\", \"#ab63fa\", \"#FFA15A\", \"#19d3f3\", \"#FF6692\", \"#B6E880\", \"#FF97FF\", \"#FECB52\"], \"font\": {\"color\": \"#2a3f5f\"}, \"geo\": {\"bgcolor\": \"white\", \"lakecolor\": \"white\", \"landcolor\": \"#E5ECF6\", \"showlakes\": true, \"showland\": true, \"subunitcolor\": \"white\"}, \"hoverlabel\": {\"align\": \"left\"}, \"hovermode\": \"closest\", \"mapbox\": {\"style\": \"light\"}, \"paper_bgcolor\": \"white\", \"plot_bgcolor\": \"#E5ECF6\", \"polar\": {\"angularaxis\": {\"gridcolor\": \"white\", \"linecolor\": \"white\", \"ticks\": \"\"}, \"bgcolor\": \"#E5ECF6\", \"radialaxis\": {\"gridcolor\": \"white\", \"linecolor\": \"white\", \"ticks\": \"\"}}, \"scene\": {\"xaxis\": {\"backgroundcolor\": \"#E5ECF6\", \"gridcolor\": \"white\", \"gridwidth\": 2, \"linecolor\": \"white\", \"showbackground\": true, \"ticks\": \"\", \"zerolinecolor\": \"white\"}, \"yaxis\": {\"backgroundcolor\": \"#E5ECF6\", \"gridcolor\": \"white\", \"gridwidth\": 2, \"linecolor\": \"white\", \"showbackground\": true, \"ticks\": \"\", \"zerolinecolor\": \"white\"}, \"zaxis\": {\"backgroundcolor\": \"#E5ECF6\", \"gridcolor\": \"white\", \"gridwidth\": 2, \"linecolor\": \"white\", \"showbackground\": true, \"ticks\": \"\", \"zerolinecolor\": \"white\"}}, \"shapedefaults\": {\"line\": {\"color\": \"#2a3f5f\"}}, \"ternary\": {\"aaxis\": {\"gridcolor\": \"white\", \"linecolor\": \"white\", \"ticks\": \"\"}, \"baxis\": {\"gridcolor\": \"white\", \"linecolor\": \"white\", \"ticks\": \"\"}, \"bgcolor\": \"#E5ECF6\", \"caxis\": {\"gridcolor\": \"white\", \"linecolor\": \"white\", \"ticks\": \"\"}}, \"title\": {\"x\": 0.05}, \"xaxis\": {\"automargin\": true, \"gridcolor\": \"white\", \"linecolor\": \"white\", \"ticks\": \"\", \"title\": {\"standoff\": 15}, \"zerolinecolor\": \"white\", \"zerolinewidth\": 2}, \"yaxis\": {\"automargin\": true, \"gridcolor\": \"white\", \"linecolor\": \"white\", \"ticks\": \"\", \"title\": {\"standoff\": 15}, \"zerolinecolor\": \"white\", \"zerolinewidth\": 2}}}, \"title\": {\"text\": \"District influence on Price\"}, \"width\": 800, \"xaxis\": {\"anchor\": \"y\", \"domain\": [0.0, 1.0], \"title\": {\"text\": \"price\"}}, \"yaxis\": {\"anchor\": \"x\", \"domain\": [0.0, 1.0], \"title\": {\"text\": \"district\"}}},                        {\"responsive\": true}                    ).then(function(){\n",
       "                            \n",
       "var gd = document.getElementById('7ac55224-a378-407b-a3ec-dd759ca4dcab');\n",
       "var x = new MutationObserver(function (mutations, observer) {{\n",
       "        var display = window.getComputedStyle(gd).display;\n",
       "        if (!display || display === 'none') {{\n",
       "            console.log([gd, 'removed!']);\n",
       "            Plotly.purge(gd);\n",
       "            observer.disconnect();\n",
       "        }}\n",
       "}});\n",
       "\n",
       "// Listen for the removal of the full notebook cells\n",
       "var notebookContainer = gd.closest('#notebook-container');\n",
       "if (notebookContainer) {{\n",
       "    x.observe(notebookContainer, {childList: true});\n",
       "}}\n",
       "\n",
       "// Listen for the clearing of the current output cell\n",
       "var outputEl = gd.closest('.output');\n",
       "if (outputEl) {{\n",
       "    x.observe(outputEl, {childList: true});\n",
       "}}\n",
       "\n",
       "                        })                };                });            </script>        </div>"
      ]
     },
     "metadata": {},
     "output_type": "display_data"
    }
   ],
   "source": [
    "fig = px.strip(data, x=\"price\", y=\"district\", width=800, height=500, title=\"District influence on Price\")\n",
    "fig.show();"
   ]
  },
  {
   "cell_type": "markdown",
   "metadata": {},
   "source": [
    "The categorical plot illustrates that the distrit with highest price for appartments is \"Медеуский\".While, overall, the price amoung all districts is no more than 0.2 billions"
   ]
  },
  {
   "cell_type": "code",
   "execution_count": 236,
   "metadata": {},
   "outputs": [
    {
     "data": {
      "application/vnd.plotly.v1+json": {
       "config": {
        "plotlyServerURL": "https://plot.ly"
       },
       "data": [
        {
         "hovertemplate": "area=%{x}<br>price=%{y}<extra></extra>",
         "legendgroup": "",
         "marker": {
          "color": "#636efa",
          "symbol": "circle"
         },
         "mode": "markers",
         "name": "",
         "orientation": "v",
         "showlegend": false,
         "type": "scatter",
         "x": [
          174,
          44,
          40,
          100,
          123,
          57,
          95,
          53,
          116,
          58,
          106.9,
          87,
          62,
          58,
          80,
          110,
          90,
          51.53,
          137.2,
          92,
          46,
          42,
          89,
          59,
          48.2,
          123,
          100,
          66.6,
          43.1,
          81.25,
          109.7,
          96.11,
          35,
          66.8,
          41,
          44.6,
          46.4,
          51,
          37,
          82,
          105,
          119.2,
          63.69,
          134.6,
          101,
          128,
          170,
          750,
          100,
          94,
          81,
          62,
          154,
          88,
          80,
          51,
          84,
          77,
          210,
          45,
          300,
          44,
          72,
          72,
          43,
          44,
          123.6,
          61.2,
          137.8,
          199,
          75.3,
          181,
          51.2,
          68,
          35.4,
          87,
          110,
          60,
          305,
          58.9,
          90,
          110,
          75.7,
          17.4,
          63.4,
          113.9,
          43.5,
          66.43,
          60,
          52,
          49,
          61.4,
          46.8,
          50.9,
          32,
          41.7,
          59,
          234,
          58,
          53,
          58,
          55.47,
          101.4,
          55.47,
          101.4,
          84.46,
          121.5,
          57.73,
          48,
          45.7,
          72,
          71.9,
          48.2,
          108,
          133.68,
          67.87,
          170,
          80,
          78,
          67.7,
          230,
          62.36,
          48.5,
          62.8,
          44.4,
          68,
          101.4,
          77,
          60,
          81.3,
          62,
          64,
          64.8,
          247,
          65,
          70.96,
          92,
          125.31,
          66.54,
          49.8,
          60.5,
          60,
          51.4
         ],
         "xaxis": "x",
         "y": [
          71500000,
          16900000,
          15700000,
          26000000,
          20000000,
          25500000,
          51800000,
          25500000,
          47500000,
          20500000,
          80175000,
          83580000,
          27000000,
          26000000,
          71000000,
          92000000,
          57500000,
          31948600,
          94952972,
          38180000,
          31000000,
          23000000,
          42500000,
          27900000,
          26269000,
          57500000,
          30000000,
          15984000,
          13200000,
          26812500,
          57044000,
          52644600,
          10000000,
          46092000,
          19500000,
          25000000,
          21000000,
          25500000,
          10000000,
          26800000,
          53000000,
          92000000,
          37577100,
          98591615,
          36865000,
          62000000,
          125000000,
          1128000000,
          95000000,
          56000000,
          35000000,
          38000000,
          168000000,
          53000000,
          58000000,
          30500000,
          63000000,
          62000000,
          115000000,
          23000000,
          230000000,
          18500000,
          24000000,
          24000000,
          19500000,
          19500000,
          80340000,
          33354000,
          57800000,
          35000000,
          18072000,
          110000000,
          22500000,
          25000000,
          18700000,
          52000000,
          54500000,
          30000000,
          195000000,
          18259000,
          44000000,
          55000000,
          25999999,
          8800000,
          34743200,
          60196150,
          31537500,
          39858000,
          25000000,
          26500000,
          25400000,
          33463000,
          28080000,
          25822000,
          6999000,
          10008000,
          27900000,
          200000000,
          22500000,
          29000000,
          31000000,
          30294000,
          42081000,
          30294000,
          42081000,
          27871800,
          83835000,
          16000000,
          16000000,
          16800000,
          37000000,
          29838500,
          34945000,
          81000000,
          60156000,
          40722000,
          79500000,
          25000000,
          33390000,
          33500000,
          140000000,
          33986200,
          28950000,
          14000000,
          10656000,
          29000000,
          45000000,
          54060061,
          21000000,
          37800000,
          35000000,
          27400000,
          28500000,
          150000000,
          20150000,
          42576000,
          35000000,
          83982500,
          36264300,
          29600000,
          14520000,
          46500000,
          36000000
         ],
         "yaxis": "y"
        }
       ],
       "layout": {
        "legend": {
         "tracegroupgap": 0
        },
        "template": {
         "data": {
          "bar": [
           {
            "error_x": {
             "color": "#2a3f5f"
            },
            "error_y": {
             "color": "#2a3f5f"
            },
            "marker": {
             "line": {
              "color": "#E5ECF6",
              "width": 0.5
             }
            },
            "type": "bar"
           }
          ],
          "barpolar": [
           {
            "marker": {
             "line": {
              "color": "#E5ECF6",
              "width": 0.5
             }
            },
            "type": "barpolar"
           }
          ],
          "carpet": [
           {
            "aaxis": {
             "endlinecolor": "#2a3f5f",
             "gridcolor": "white",
             "linecolor": "white",
             "minorgridcolor": "white",
             "startlinecolor": "#2a3f5f"
            },
            "baxis": {
             "endlinecolor": "#2a3f5f",
             "gridcolor": "white",
             "linecolor": "white",
             "minorgridcolor": "white",
             "startlinecolor": "#2a3f5f"
            },
            "type": "carpet"
           }
          ],
          "choropleth": [
           {
            "colorbar": {
             "outlinewidth": 0,
             "ticks": ""
            },
            "type": "choropleth"
           }
          ],
          "contour": [
           {
            "colorbar": {
             "outlinewidth": 0,
             "ticks": ""
            },
            "colorscale": [
             [
              0,
              "#0d0887"
             ],
             [
              0.1111111111111111,
              "#46039f"
             ],
             [
              0.2222222222222222,
              "#7201a8"
             ],
             [
              0.3333333333333333,
              "#9c179e"
             ],
             [
              0.4444444444444444,
              "#bd3786"
             ],
             [
              0.5555555555555556,
              "#d8576b"
             ],
             [
              0.6666666666666666,
              "#ed7953"
             ],
             [
              0.7777777777777778,
              "#fb9f3a"
             ],
             [
              0.8888888888888888,
              "#fdca26"
             ],
             [
              1,
              "#f0f921"
             ]
            ],
            "type": "contour"
           }
          ],
          "contourcarpet": [
           {
            "colorbar": {
             "outlinewidth": 0,
             "ticks": ""
            },
            "type": "contourcarpet"
           }
          ],
          "heatmap": [
           {
            "colorbar": {
             "outlinewidth": 0,
             "ticks": ""
            },
            "colorscale": [
             [
              0,
              "#0d0887"
             ],
             [
              0.1111111111111111,
              "#46039f"
             ],
             [
              0.2222222222222222,
              "#7201a8"
             ],
             [
              0.3333333333333333,
              "#9c179e"
             ],
             [
              0.4444444444444444,
              "#bd3786"
             ],
             [
              0.5555555555555556,
              "#d8576b"
             ],
             [
              0.6666666666666666,
              "#ed7953"
             ],
             [
              0.7777777777777778,
              "#fb9f3a"
             ],
             [
              0.8888888888888888,
              "#fdca26"
             ],
             [
              1,
              "#f0f921"
             ]
            ],
            "type": "heatmap"
           }
          ],
          "heatmapgl": [
           {
            "colorbar": {
             "outlinewidth": 0,
             "ticks": ""
            },
            "colorscale": [
             [
              0,
              "#0d0887"
             ],
             [
              0.1111111111111111,
              "#46039f"
             ],
             [
              0.2222222222222222,
              "#7201a8"
             ],
             [
              0.3333333333333333,
              "#9c179e"
             ],
             [
              0.4444444444444444,
              "#bd3786"
             ],
             [
              0.5555555555555556,
              "#d8576b"
             ],
             [
              0.6666666666666666,
              "#ed7953"
             ],
             [
              0.7777777777777778,
              "#fb9f3a"
             ],
             [
              0.8888888888888888,
              "#fdca26"
             ],
             [
              1,
              "#f0f921"
             ]
            ],
            "type": "heatmapgl"
           }
          ],
          "histogram": [
           {
            "marker": {
             "colorbar": {
              "outlinewidth": 0,
              "ticks": ""
             }
            },
            "type": "histogram"
           }
          ],
          "histogram2d": [
           {
            "colorbar": {
             "outlinewidth": 0,
             "ticks": ""
            },
            "colorscale": [
             [
              0,
              "#0d0887"
             ],
             [
              0.1111111111111111,
              "#46039f"
             ],
             [
              0.2222222222222222,
              "#7201a8"
             ],
             [
              0.3333333333333333,
              "#9c179e"
             ],
             [
              0.4444444444444444,
              "#bd3786"
             ],
             [
              0.5555555555555556,
              "#d8576b"
             ],
             [
              0.6666666666666666,
              "#ed7953"
             ],
             [
              0.7777777777777778,
              "#fb9f3a"
             ],
             [
              0.8888888888888888,
              "#fdca26"
             ],
             [
              1,
              "#f0f921"
             ]
            ],
            "type": "histogram2d"
           }
          ],
          "histogram2dcontour": [
           {
            "colorbar": {
             "outlinewidth": 0,
             "ticks": ""
            },
            "colorscale": [
             [
              0,
              "#0d0887"
             ],
             [
              0.1111111111111111,
              "#46039f"
             ],
             [
              0.2222222222222222,
              "#7201a8"
             ],
             [
              0.3333333333333333,
              "#9c179e"
             ],
             [
              0.4444444444444444,
              "#bd3786"
             ],
             [
              0.5555555555555556,
              "#d8576b"
             ],
             [
              0.6666666666666666,
              "#ed7953"
             ],
             [
              0.7777777777777778,
              "#fb9f3a"
             ],
             [
              0.8888888888888888,
              "#fdca26"
             ],
             [
              1,
              "#f0f921"
             ]
            ],
            "type": "histogram2dcontour"
           }
          ],
          "mesh3d": [
           {
            "colorbar": {
             "outlinewidth": 0,
             "ticks": ""
            },
            "type": "mesh3d"
           }
          ],
          "parcoords": [
           {
            "line": {
             "colorbar": {
              "outlinewidth": 0,
              "ticks": ""
             }
            },
            "type": "parcoords"
           }
          ],
          "pie": [
           {
            "automargin": true,
            "type": "pie"
           }
          ],
          "scatter": [
           {
            "marker": {
             "colorbar": {
              "outlinewidth": 0,
              "ticks": ""
             }
            },
            "type": "scatter"
           }
          ],
          "scatter3d": [
           {
            "line": {
             "colorbar": {
              "outlinewidth": 0,
              "ticks": ""
             }
            },
            "marker": {
             "colorbar": {
              "outlinewidth": 0,
              "ticks": ""
             }
            },
            "type": "scatter3d"
           }
          ],
          "scattercarpet": [
           {
            "marker": {
             "colorbar": {
              "outlinewidth": 0,
              "ticks": ""
             }
            },
            "type": "scattercarpet"
           }
          ],
          "scattergeo": [
           {
            "marker": {
             "colorbar": {
              "outlinewidth": 0,
              "ticks": ""
             }
            },
            "type": "scattergeo"
           }
          ],
          "scattergl": [
           {
            "marker": {
             "colorbar": {
              "outlinewidth": 0,
              "ticks": ""
             }
            },
            "type": "scattergl"
           }
          ],
          "scattermapbox": [
           {
            "marker": {
             "colorbar": {
              "outlinewidth": 0,
              "ticks": ""
             }
            },
            "type": "scattermapbox"
           }
          ],
          "scatterpolar": [
           {
            "marker": {
             "colorbar": {
              "outlinewidth": 0,
              "ticks": ""
             }
            },
            "type": "scatterpolar"
           }
          ],
          "scatterpolargl": [
           {
            "marker": {
             "colorbar": {
              "outlinewidth": 0,
              "ticks": ""
             }
            },
            "type": "scatterpolargl"
           }
          ],
          "scatterternary": [
           {
            "marker": {
             "colorbar": {
              "outlinewidth": 0,
              "ticks": ""
             }
            },
            "type": "scatterternary"
           }
          ],
          "surface": [
           {
            "colorbar": {
             "outlinewidth": 0,
             "ticks": ""
            },
            "colorscale": [
             [
              0,
              "#0d0887"
             ],
             [
              0.1111111111111111,
              "#46039f"
             ],
             [
              0.2222222222222222,
              "#7201a8"
             ],
             [
              0.3333333333333333,
              "#9c179e"
             ],
             [
              0.4444444444444444,
              "#bd3786"
             ],
             [
              0.5555555555555556,
              "#d8576b"
             ],
             [
              0.6666666666666666,
              "#ed7953"
             ],
             [
              0.7777777777777778,
              "#fb9f3a"
             ],
             [
              0.8888888888888888,
              "#fdca26"
             ],
             [
              1,
              "#f0f921"
             ]
            ],
            "type": "surface"
           }
          ],
          "table": [
           {
            "cells": {
             "fill": {
              "color": "#EBF0F8"
             },
             "line": {
              "color": "white"
             }
            },
            "header": {
             "fill": {
              "color": "#C8D4E3"
             },
             "line": {
              "color": "white"
             }
            },
            "type": "table"
           }
          ]
         },
         "layout": {
          "annotationdefaults": {
           "arrowcolor": "#2a3f5f",
           "arrowhead": 0,
           "arrowwidth": 1
          },
          "autotypenumbers": "strict",
          "coloraxis": {
           "colorbar": {
            "outlinewidth": 0,
            "ticks": ""
           }
          },
          "colorscale": {
           "diverging": [
            [
             0,
             "#8e0152"
            ],
            [
             0.1,
             "#c51b7d"
            ],
            [
             0.2,
             "#de77ae"
            ],
            [
             0.3,
             "#f1b6da"
            ],
            [
             0.4,
             "#fde0ef"
            ],
            [
             0.5,
             "#f7f7f7"
            ],
            [
             0.6,
             "#e6f5d0"
            ],
            [
             0.7,
             "#b8e186"
            ],
            [
             0.8,
             "#7fbc41"
            ],
            [
             0.9,
             "#4d9221"
            ],
            [
             1,
             "#276419"
            ]
           ],
           "sequential": [
            [
             0,
             "#0d0887"
            ],
            [
             0.1111111111111111,
             "#46039f"
            ],
            [
             0.2222222222222222,
             "#7201a8"
            ],
            [
             0.3333333333333333,
             "#9c179e"
            ],
            [
             0.4444444444444444,
             "#bd3786"
            ],
            [
             0.5555555555555556,
             "#d8576b"
            ],
            [
             0.6666666666666666,
             "#ed7953"
            ],
            [
             0.7777777777777778,
             "#fb9f3a"
            ],
            [
             0.8888888888888888,
             "#fdca26"
            ],
            [
             1,
             "#f0f921"
            ]
           ],
           "sequentialminus": [
            [
             0,
             "#0d0887"
            ],
            [
             0.1111111111111111,
             "#46039f"
            ],
            [
             0.2222222222222222,
             "#7201a8"
            ],
            [
             0.3333333333333333,
             "#9c179e"
            ],
            [
             0.4444444444444444,
             "#bd3786"
            ],
            [
             0.5555555555555556,
             "#d8576b"
            ],
            [
             0.6666666666666666,
             "#ed7953"
            ],
            [
             0.7777777777777778,
             "#fb9f3a"
            ],
            [
             0.8888888888888888,
             "#fdca26"
            ],
            [
             1,
             "#f0f921"
            ]
           ]
          },
          "colorway": [
           "#636efa",
           "#EF553B",
           "#00cc96",
           "#ab63fa",
           "#FFA15A",
           "#19d3f3",
           "#FF6692",
           "#B6E880",
           "#FF97FF",
           "#FECB52"
          ],
          "font": {
           "color": "#2a3f5f"
          },
          "geo": {
           "bgcolor": "white",
           "lakecolor": "white",
           "landcolor": "#E5ECF6",
           "showlakes": true,
           "showland": true,
           "subunitcolor": "white"
          },
          "hoverlabel": {
           "align": "left"
          },
          "hovermode": "closest",
          "mapbox": {
           "style": "light"
          },
          "paper_bgcolor": "white",
          "plot_bgcolor": "#E5ECF6",
          "polar": {
           "angularaxis": {
            "gridcolor": "white",
            "linecolor": "white",
            "ticks": ""
           },
           "bgcolor": "#E5ECF6",
           "radialaxis": {
            "gridcolor": "white",
            "linecolor": "white",
            "ticks": ""
           }
          },
          "scene": {
           "xaxis": {
            "backgroundcolor": "#E5ECF6",
            "gridcolor": "white",
            "gridwidth": 2,
            "linecolor": "white",
            "showbackground": true,
            "ticks": "",
            "zerolinecolor": "white"
           },
           "yaxis": {
            "backgroundcolor": "#E5ECF6",
            "gridcolor": "white",
            "gridwidth": 2,
            "linecolor": "white",
            "showbackground": true,
            "ticks": "",
            "zerolinecolor": "white"
           },
           "zaxis": {
            "backgroundcolor": "#E5ECF6",
            "gridcolor": "white",
            "gridwidth": 2,
            "linecolor": "white",
            "showbackground": true,
            "ticks": "",
            "zerolinecolor": "white"
           }
          },
          "shapedefaults": {
           "line": {
            "color": "#2a3f5f"
           }
          },
          "ternary": {
           "aaxis": {
            "gridcolor": "white",
            "linecolor": "white",
            "ticks": ""
           },
           "baxis": {
            "gridcolor": "white",
            "linecolor": "white",
            "ticks": ""
           },
           "bgcolor": "#E5ECF6",
           "caxis": {
            "gridcolor": "white",
            "linecolor": "white",
            "ticks": ""
           }
          },
          "title": {
           "x": 0.05
          },
          "xaxis": {
           "automargin": true,
           "gridcolor": "white",
           "linecolor": "white",
           "ticks": "",
           "title": {
            "standoff": 15
           },
           "zerolinecolor": "white",
           "zerolinewidth": 2
          },
          "yaxis": {
           "automargin": true,
           "gridcolor": "white",
           "linecolor": "white",
           "ticks": "",
           "title": {
            "standoff": 15
           },
           "zerolinecolor": "white",
           "zerolinewidth": 2
          }
         }
        },
        "title": {
         "text": "Price vs. Area"
        },
        "xaxis": {
         "anchor": "y",
         "domain": [
          0,
          1
         ],
         "title": {
          "text": "area"
         }
        },
        "yaxis": {
         "anchor": "x",
         "domain": [
          0,
          1
         ],
         "title": {
          "text": "price"
         }
        }
       }
      },
      "text/html": [
       "<div>                            <div id=\"fd90a032-ce4a-419c-94bf-c4bb9b0fac62\" class=\"plotly-graph-div\" style=\"height:525px; width:100%;\"></div>            <script type=\"text/javascript\">                require([\"plotly\"], function(Plotly) {                    window.PLOTLYENV=window.PLOTLYENV || {};                                    if (document.getElementById(\"fd90a032-ce4a-419c-94bf-c4bb9b0fac62\")) {                    Plotly.newPlot(                        \"fd90a032-ce4a-419c-94bf-c4bb9b0fac62\",                        [{\"hovertemplate\": \"area=%{x}<br>price=%{y}<extra></extra>\", \"legendgroup\": \"\", \"marker\": {\"color\": \"#636efa\", \"symbol\": \"circle\"}, \"mode\": \"markers\", \"name\": \"\", \"orientation\": \"v\", \"showlegend\": false, \"type\": \"scatter\", \"x\": [174.0, 44.0, 40.0, 100.0, 123.0, 57.0, 95.0, 53.0, 116.0, 58.0, 106.9, 87.0, 62.0, 58.0, 80.0, 110.0, 90.0, 51.53, 137.2, 92.0, 46.0, 42.0, 89.0, 59.0, 48.2, 123.0, 100.0, 66.6, 43.1, 81.25, 109.7, 96.11, 35.0, 66.8, 41.0, 44.6, 46.4, 51.0, 37.0, 82.0, 105.0, 119.2, 63.69, 134.6, 101.0, 128.0, 170.0, 750.0, 100.0, 94.0, 81.0, 62.0, 154.0, 88.0, 80.0, 51.0, 84.0, 77.0, 210.0, 45.0, 300.0, 44.0, 72.0, 72.0, 43.0, 44.0, 123.6, 61.2, 137.8, 199.0, 75.3, 181.0, 51.2, 68.0, 35.4, 87.0, 110.0, 60.0, 305.0, 58.9, 90.0, 110.0, 75.7, 17.4, 63.4, 113.9, 43.5, 66.43, 60.0, 52.0, 49.0, 61.4, 46.8, 50.9, 32.0, 41.7, 59.0, 234.0, 58.0, 53.0, 58.0, 55.47, 101.4, 55.47, 101.4, 84.46, 121.5, 57.73, 48.0, 45.7, 72.0, 71.9, 48.2, 108.0, 133.68, 67.87, 170.0, 80.0, 78.0, 67.7, 230.0, 62.36, 48.5, 62.8, 44.4, 68.0, 101.4, 77.0, 60.0, 81.3, 62.0, 64.0, 64.8, 247.0, 65.0, 70.96, 92.0, 125.31, 66.54, 49.8, 60.5, 60.0, 51.4], \"xaxis\": \"x\", \"y\": [71500000, 16900000, 15700000, 26000000, 20000000, 25500000, 51800000, 25500000, 47500000, 20500000, 80175000, 83580000, 27000000, 26000000, 71000000, 92000000, 57500000, 31948600, 94952972, 38180000, 31000000, 23000000, 42500000, 27900000, 26269000, 57500000, 30000000, 15984000, 13200000, 26812500, 57044000, 52644600, 10000000, 46092000, 19500000, 25000000, 21000000, 25500000, 10000000, 26800000, 53000000, 92000000, 37577100, 98591615, 36865000, 62000000, 125000000, 1128000000, 95000000, 56000000, 35000000, 38000000, 168000000, 53000000, 58000000, 30500000, 63000000, 62000000, 115000000, 23000000, 230000000, 18500000, 24000000, 24000000, 19500000, 19500000, 80340000, 33354000, 57800000, 35000000, 18072000, 110000000, 22500000, 25000000, 18700000, 52000000, 54500000, 30000000, 195000000, 18259000, 44000000, 55000000, 25999999, 8800000, 34743200, 60196150, 31537500, 39858000, 25000000, 26500000, 25400000, 33463000, 28080000, 25822000, 6999000, 10008000, 27900000, 200000000, 22500000, 29000000, 31000000, 30294000, 42081000, 30294000, 42081000, 27871800, 83835000, 16000000, 16000000, 16800000, 37000000, 29838500, 34945000, 81000000, 60156000, 40722000, 79500000, 25000000, 33390000, 33500000, 140000000, 33986200, 28950000, 14000000, 10656000, 29000000, 45000000, 54060061, 21000000, 37800000, 35000000, 27400000, 28500000, 150000000, 20150000, 42576000, 35000000, 83982500, 36264300, 29600000, 14520000, 46500000, 36000000], \"yaxis\": \"y\"}],                        {\"legend\": {\"tracegroupgap\": 0}, \"template\": {\"data\": {\"bar\": [{\"error_x\": {\"color\": \"#2a3f5f\"}, \"error_y\": {\"color\": \"#2a3f5f\"}, \"marker\": {\"line\": {\"color\": \"#E5ECF6\", \"width\": 0.5}}, \"type\": \"bar\"}], \"barpolar\": [{\"marker\": {\"line\": {\"color\": \"#E5ECF6\", \"width\": 0.5}}, \"type\": \"barpolar\"}], \"carpet\": [{\"aaxis\": {\"endlinecolor\": \"#2a3f5f\", \"gridcolor\": \"white\", \"linecolor\": \"white\", \"minorgridcolor\": \"white\", \"startlinecolor\": \"#2a3f5f\"}, \"baxis\": {\"endlinecolor\": \"#2a3f5f\", \"gridcolor\": \"white\", \"linecolor\": \"white\", \"minorgridcolor\": \"white\", \"startlinecolor\": \"#2a3f5f\"}, \"type\": \"carpet\"}], \"choropleth\": [{\"colorbar\": {\"outlinewidth\": 0, \"ticks\": \"\"}, \"type\": \"choropleth\"}], \"contour\": [{\"colorbar\": {\"outlinewidth\": 0, \"ticks\": \"\"}, \"colorscale\": [[0.0, \"#0d0887\"], [0.1111111111111111, \"#46039f\"], [0.2222222222222222, \"#7201a8\"], [0.3333333333333333, \"#9c179e\"], [0.4444444444444444, \"#bd3786\"], [0.5555555555555556, \"#d8576b\"], [0.6666666666666666, \"#ed7953\"], [0.7777777777777778, \"#fb9f3a\"], [0.8888888888888888, \"#fdca26\"], [1.0, \"#f0f921\"]], \"type\": \"contour\"}], \"contourcarpet\": [{\"colorbar\": {\"outlinewidth\": 0, \"ticks\": \"\"}, \"type\": \"contourcarpet\"}], \"heatmap\": [{\"colorbar\": {\"outlinewidth\": 0, \"ticks\": \"\"}, \"colorscale\": [[0.0, \"#0d0887\"], [0.1111111111111111, \"#46039f\"], [0.2222222222222222, \"#7201a8\"], [0.3333333333333333, \"#9c179e\"], [0.4444444444444444, \"#bd3786\"], [0.5555555555555556, \"#d8576b\"], [0.6666666666666666, \"#ed7953\"], [0.7777777777777778, \"#fb9f3a\"], [0.8888888888888888, \"#fdca26\"], [1.0, \"#f0f921\"]], \"type\": \"heatmap\"}], \"heatmapgl\": [{\"colorbar\": {\"outlinewidth\": 0, \"ticks\": \"\"}, \"colorscale\": [[0.0, \"#0d0887\"], [0.1111111111111111, \"#46039f\"], [0.2222222222222222, \"#7201a8\"], [0.3333333333333333, \"#9c179e\"], [0.4444444444444444, \"#bd3786\"], [0.5555555555555556, \"#d8576b\"], [0.6666666666666666, \"#ed7953\"], [0.7777777777777778, \"#fb9f3a\"], [0.8888888888888888, \"#fdca26\"], [1.0, \"#f0f921\"]], \"type\": \"heatmapgl\"}], \"histogram\": [{\"marker\": {\"colorbar\": {\"outlinewidth\": 0, \"ticks\": \"\"}}, \"type\": \"histogram\"}], \"histogram2d\": [{\"colorbar\": {\"outlinewidth\": 0, \"ticks\": \"\"}, \"colorscale\": [[0.0, \"#0d0887\"], [0.1111111111111111, \"#46039f\"], [0.2222222222222222, \"#7201a8\"], [0.3333333333333333, \"#9c179e\"], [0.4444444444444444, \"#bd3786\"], [0.5555555555555556, \"#d8576b\"], [0.6666666666666666, \"#ed7953\"], [0.7777777777777778, \"#fb9f3a\"], [0.8888888888888888, \"#fdca26\"], [1.0, \"#f0f921\"]], \"type\": \"histogram2d\"}], \"histogram2dcontour\": [{\"colorbar\": {\"outlinewidth\": 0, \"ticks\": \"\"}, \"colorscale\": [[0.0, \"#0d0887\"], [0.1111111111111111, \"#46039f\"], [0.2222222222222222, \"#7201a8\"], [0.3333333333333333, \"#9c179e\"], [0.4444444444444444, \"#bd3786\"], [0.5555555555555556, \"#d8576b\"], [0.6666666666666666, \"#ed7953\"], [0.7777777777777778, \"#fb9f3a\"], [0.8888888888888888, \"#fdca26\"], [1.0, \"#f0f921\"]], \"type\": \"histogram2dcontour\"}], \"mesh3d\": [{\"colorbar\": {\"outlinewidth\": 0, \"ticks\": \"\"}, \"type\": \"mesh3d\"}], \"parcoords\": [{\"line\": {\"colorbar\": {\"outlinewidth\": 0, \"ticks\": \"\"}}, \"type\": \"parcoords\"}], \"pie\": [{\"automargin\": true, \"type\": \"pie\"}], \"scatter\": [{\"marker\": {\"colorbar\": {\"outlinewidth\": 0, \"ticks\": \"\"}}, \"type\": \"scatter\"}], \"scatter3d\": [{\"line\": {\"colorbar\": {\"outlinewidth\": 0, \"ticks\": \"\"}}, \"marker\": {\"colorbar\": {\"outlinewidth\": 0, \"ticks\": \"\"}}, \"type\": \"scatter3d\"}], \"scattercarpet\": [{\"marker\": {\"colorbar\": {\"outlinewidth\": 0, \"ticks\": \"\"}}, \"type\": \"scattercarpet\"}], \"scattergeo\": [{\"marker\": {\"colorbar\": {\"outlinewidth\": 0, \"ticks\": \"\"}}, \"type\": \"scattergeo\"}], \"scattergl\": [{\"marker\": {\"colorbar\": {\"outlinewidth\": 0, \"ticks\": \"\"}}, \"type\": \"scattergl\"}], \"scattermapbox\": [{\"marker\": {\"colorbar\": {\"outlinewidth\": 0, \"ticks\": \"\"}}, \"type\": \"scattermapbox\"}], \"scatterpolar\": [{\"marker\": {\"colorbar\": {\"outlinewidth\": 0, \"ticks\": \"\"}}, \"type\": \"scatterpolar\"}], \"scatterpolargl\": [{\"marker\": {\"colorbar\": {\"outlinewidth\": 0, \"ticks\": \"\"}}, \"type\": \"scatterpolargl\"}], \"scatterternary\": [{\"marker\": {\"colorbar\": {\"outlinewidth\": 0, \"ticks\": \"\"}}, \"type\": \"scatterternary\"}], \"surface\": [{\"colorbar\": {\"outlinewidth\": 0, \"ticks\": \"\"}, \"colorscale\": [[0.0, \"#0d0887\"], [0.1111111111111111, \"#46039f\"], [0.2222222222222222, \"#7201a8\"], [0.3333333333333333, \"#9c179e\"], [0.4444444444444444, \"#bd3786\"], [0.5555555555555556, \"#d8576b\"], [0.6666666666666666, \"#ed7953\"], [0.7777777777777778, \"#fb9f3a\"], [0.8888888888888888, \"#fdca26\"], [1.0, \"#f0f921\"]], \"type\": \"surface\"}], \"table\": [{\"cells\": {\"fill\": {\"color\": \"#EBF0F8\"}, \"line\": {\"color\": \"white\"}}, \"header\": {\"fill\": {\"color\": \"#C8D4E3\"}, \"line\": {\"color\": \"white\"}}, \"type\": \"table\"}]}, \"layout\": {\"annotationdefaults\": {\"arrowcolor\": \"#2a3f5f\", \"arrowhead\": 0, \"arrowwidth\": 1}, \"autotypenumbers\": \"strict\", \"coloraxis\": {\"colorbar\": {\"outlinewidth\": 0, \"ticks\": \"\"}}, \"colorscale\": {\"diverging\": [[0, \"#8e0152\"], [0.1, \"#c51b7d\"], [0.2, \"#de77ae\"], [0.3, \"#f1b6da\"], [0.4, \"#fde0ef\"], [0.5, \"#f7f7f7\"], [0.6, \"#e6f5d0\"], [0.7, \"#b8e186\"], [0.8, \"#7fbc41\"], [0.9, \"#4d9221\"], [1, \"#276419\"]], \"sequential\": [[0.0, \"#0d0887\"], [0.1111111111111111, \"#46039f\"], [0.2222222222222222, \"#7201a8\"], [0.3333333333333333, \"#9c179e\"], [0.4444444444444444, \"#bd3786\"], [0.5555555555555556, \"#d8576b\"], [0.6666666666666666, \"#ed7953\"], [0.7777777777777778, \"#fb9f3a\"], [0.8888888888888888, \"#fdca26\"], [1.0, \"#f0f921\"]], \"sequentialminus\": [[0.0, \"#0d0887\"], [0.1111111111111111, \"#46039f\"], [0.2222222222222222, \"#7201a8\"], [0.3333333333333333, \"#9c179e\"], [0.4444444444444444, \"#bd3786\"], [0.5555555555555556, \"#d8576b\"], [0.6666666666666666, \"#ed7953\"], [0.7777777777777778, \"#fb9f3a\"], [0.8888888888888888, \"#fdca26\"], [1.0, \"#f0f921\"]]}, \"colorway\": [\"#636efa\", \"#EF553B\", \"#00cc96\", \"#ab63fa\", \"#FFA15A\", \"#19d3f3\", \"#FF6692\", \"#B6E880\", \"#FF97FF\", \"#FECB52\"], \"font\": {\"color\": \"#2a3f5f\"}, \"geo\": {\"bgcolor\": \"white\", \"lakecolor\": \"white\", \"landcolor\": \"#E5ECF6\", \"showlakes\": true, \"showland\": true, \"subunitcolor\": \"white\"}, \"hoverlabel\": {\"align\": \"left\"}, \"hovermode\": \"closest\", \"mapbox\": {\"style\": \"light\"}, \"paper_bgcolor\": \"white\", \"plot_bgcolor\": \"#E5ECF6\", \"polar\": {\"angularaxis\": {\"gridcolor\": \"white\", \"linecolor\": \"white\", \"ticks\": \"\"}, \"bgcolor\": \"#E5ECF6\", \"radialaxis\": {\"gridcolor\": \"white\", \"linecolor\": \"white\", \"ticks\": \"\"}}, \"scene\": {\"xaxis\": {\"backgroundcolor\": \"#E5ECF6\", \"gridcolor\": \"white\", \"gridwidth\": 2, \"linecolor\": \"white\", \"showbackground\": true, \"ticks\": \"\", \"zerolinecolor\": \"white\"}, \"yaxis\": {\"backgroundcolor\": \"#E5ECF6\", \"gridcolor\": \"white\", \"gridwidth\": 2, \"linecolor\": \"white\", \"showbackground\": true, \"ticks\": \"\", \"zerolinecolor\": \"white\"}, \"zaxis\": {\"backgroundcolor\": \"#E5ECF6\", \"gridcolor\": \"white\", \"gridwidth\": 2, \"linecolor\": \"white\", \"showbackground\": true, \"ticks\": \"\", \"zerolinecolor\": \"white\"}}, \"shapedefaults\": {\"line\": {\"color\": \"#2a3f5f\"}}, \"ternary\": {\"aaxis\": {\"gridcolor\": \"white\", \"linecolor\": \"white\", \"ticks\": \"\"}, \"baxis\": {\"gridcolor\": \"white\", \"linecolor\": \"white\", \"ticks\": \"\"}, \"bgcolor\": \"#E5ECF6\", \"caxis\": {\"gridcolor\": \"white\", \"linecolor\": \"white\", \"ticks\": \"\"}}, \"title\": {\"x\": 0.05}, \"xaxis\": {\"automargin\": true, \"gridcolor\": \"white\", \"linecolor\": \"white\", \"ticks\": \"\", \"title\": {\"standoff\": 15}, \"zerolinecolor\": \"white\", \"zerolinewidth\": 2}, \"yaxis\": {\"automargin\": true, \"gridcolor\": \"white\", \"linecolor\": \"white\", \"ticks\": \"\", \"title\": {\"standoff\": 15}, \"zerolinecolor\": \"white\", \"zerolinewidth\": 2}}}, \"title\": {\"text\": \"Price vs. Area\"}, \"xaxis\": {\"anchor\": \"y\", \"domain\": [0.0, 1.0], \"title\": {\"text\": \"area\"}}, \"yaxis\": {\"anchor\": \"x\", \"domain\": [0.0, 1.0], \"title\": {\"text\": \"price\"}}},                        {\"responsive\": true}                    ).then(function(){\n",
       "                            \n",
       "var gd = document.getElementById('fd90a032-ce4a-419c-94bf-c4bb9b0fac62');\n",
       "var x = new MutationObserver(function (mutations, observer) {{\n",
       "        var display = window.getComputedStyle(gd).display;\n",
       "        if (!display || display === 'none') {{\n",
       "            console.log([gd, 'removed!']);\n",
       "            Plotly.purge(gd);\n",
       "            observer.disconnect();\n",
       "        }}\n",
       "}});\n",
       "\n",
       "// Listen for the removal of the full notebook cells\n",
       "var notebookContainer = gd.closest('#notebook-container');\n",
       "if (notebookContainer) {{\n",
       "    x.observe(notebookContainer, {childList: true});\n",
       "}}\n",
       "\n",
       "// Listen for the clearing of the current output cell\n",
       "var outputEl = gd.closest('.output');\n",
       "if (outputEl) {{\n",
       "    x.observe(outputEl, {childList: true});\n",
       "}}\n",
       "\n",
       "                        })                };                });            </script>        </div>"
      ]
     },
     "metadata": {},
     "output_type": "display_data"
    }
   ],
   "source": [
    "fig = px.scatter(data, x=\"area\", y=\"price\", title = \"Price vs. Area\")\n",
    "fig.show()"
   ]
  },
  {
   "cell_type": "markdown",
   "metadata": {},
   "source": [
    "The scatter plot shows positive correlation trend between area and price, thus it supports a common opinion about their connection."
   ]
  },
  {
   "cell_type": "markdown",
   "metadata": {},
   "source": [
    "### Conclusion"
   ]
  },
  {
   "cell_type": "markdown",
   "metadata": {},
   "source": [
    "Scrapped during this assignment data allowed to perform some descritive statistics and visualize. In conclusion, basing on this sample, it is more likely to find appartment in \"Бостандыкский\" district. For those who look for the cheapest option \"Наурызбайский\" and \"Жетысуйский\"are the best. The increase in area provokes increase in price pattern was also shown."
   ]
  }
 ],
 "metadata": {
  "kernelspec": {
   "display_name": "Python 3",
   "language": "python",
   "name": "python3"
  },
  "language_info": {
   "codemirror_mode": {
    "name": "ipython",
    "version": 3
   },
   "file_extension": ".py",
   "mimetype": "text/x-python",
   "name": "python",
   "nbconvert_exporter": "python",
   "pygments_lexer": "ipython3",
   "version": "3.8.3"
  }
 },
 "nbformat": 4,
 "nbformat_minor": 4
}
